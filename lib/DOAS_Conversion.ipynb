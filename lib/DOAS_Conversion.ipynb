{
 "cells": [
  {
   "cell_type": "markdown",
   "metadata": {},
   "source": [
    "# DOAS Conversion\n",
    "This script transforms the evaluation output of DOASIS into a useful format. We reduce to the useful columns and set sensible headers. Additionally we can set a useful timezone and transform the timestamp to a standard DateTime format."
   ]
  },
  {
   "cell_type": "code",
   "execution_count": 1,
   "metadata": {
    "collapsed": false
   },
   "outputs": [
    {
     "data": {
      "application/javascript": [
       "if(window['d3'] === undefined ||\n",
       "   window['Nyaplot'] === undefined){\n",
       "    var path = {\"d3\":\"https://cdnjs.cloudflare.com/ajax/libs/d3/3.5.5/d3.min\",\"downloadable\":\"http://cdn.rawgit.com/domitry/d3-downloadable/master/d3-downloadable\"};\n",
       "\n",
       "\n",
       "\n",
       "    var shim = {\"d3\":{\"exports\":\"d3\"},\"downloadable\":{\"exports\":\"downloadable\"}};\n",
       "\n",
       "    require.config({paths: path, shim:shim});\n",
       "\n",
       "\n",
       "require(['d3'], function(d3){window['d3']=d3;console.log('finished loading d3');require(['downloadable'], function(downloadable){window['downloadable']=downloadable;console.log('finished loading downloadable');\n",
       "\n",
       "\tvar script = d3.select(\"head\")\n",
       "\t    .append(\"script\")\n",
       "\t    .attr(\"src\", \"http://cdn.rawgit.com/domitry/Nyaplotjs/master/release/nyaplot.js\")\n",
       "\t    .attr(\"async\", true);\n",
       "\n",
       "\tscript[0][0].onload = script[0][0].onreadystatechange = function(){\n",
       "\n",
       "\n",
       "\t    var event = document.createEvent(\"HTMLEvents\");\n",
       "\t    event.initEvent(\"load_nyaplot\",false,false);\n",
       "\t    window.dispatchEvent(event);\n",
       "\t    console.log('Finished loading Nyaplotjs');\n",
       "\n",
       "\t};\n",
       "\n",
       "\n",
       "});});\n",
       "}\n"
      ],
      "text/plain": [
       "\"if(window['d3'] === undefined ||\\n   window['Nyaplot'] === undefined){\\n    var path = {\\\"d3\\\":\\\"https://cdnjs.cloudflare.com/ajax/libs/d3/3.5.5/d3.min\\\",\\\"downloadable\\\":\\\"http://cdn.rawgit.com/domitry/d3-downloadable/master/d3-downloadable\\\"};\\n\\n\\n\\n    var shim = {\\\"d3\\\":{\\\"exports\\\":\\\"d3\\\"},\\\"downloadable\\\":{\\\"exports\\\":\\\"downloadable\\\"}};\\n\\n    require.config({paths: path, shim:shim});\\n\\n\\nrequire(['d3'], function(d3){window['d3']=d3;console.log('finished loading d3');require(['downloadable'], function(downloadable){window['downloadable']=downloadable;console.log('finished loading downloadable');\\n\\n\\tvar script = d3.select(\\\"head\\\")\\n\\t    .append(\\\"script\\\")\\n\\t    .attr(\\\"src\\\", \\\"http://cdn.rawgit.com/domitry/Nyaplotjs/master/release/nyaplot.js\\\")\\n\\t    .attr(\\\"async\\\", true);\\n\\n\\tscript[0][0].onload = script[0][0].onreadystatechange = function(){\\n\\n\\n\\t    var event = document.createEvent(\\\"HTMLEvents\\\");\\n\\t    event.initEvent(\\\"load_nyaplot\\\",false,false);\\n\\t    window.dispatchEvent(event);\\n\\t    console.log('Finished loading Nyaplotjs');\\n\\n\\t};\\n\\n\\n});});\\n}\\n\""
      ]
     },
     "metadata": {},
     "output_type": "display_data"
    }
   ],
   "source": [
    "require \"narray\"\n",
    "require \"daru\"\n",
    "include Daru\n",
    "nil"
   ]
  },
  {
   "cell_type": "markdown",
   "metadata": {},
   "source": [
    "# User Variables. "
   ]
  },
  {
   "cell_type": "code",
   "execution_count": 2,
   "metadata": {
    "collapsed": false
   },
   "outputs": [],
   "source": [
    "prefix = [\"20160205_NOx\"]\n",
    "\n",
    "dir = \"../DOAS/\"\n",
    "\n",
    "# Used chemicals in Fit (for DOASIS use upper case)\n",
    "# The concentrations + their error are retrieved and saved under\n",
    "# lowercase chemical and lowecase chemical _err (e.g. NO2 becomes no2 and no2_err)\n",
    "chemicals = [\"NO2\", \"H2O\", \"O3\", \"CHOCHO\"]\n",
    "\n",
    "# Additional columns you want to get. Probably some sort of Index or timestamp\n",
    "# In vectors give the name you would like to give them.\n",
    "columns = [\"Name\", \"StartDateAndTime\"]\n",
    "vectors = [\"index\", \"timestamp\"]\n",
    "\n",
    "# Change Time Zone\n",
    "change_tz = true\n",
    "input_tz = \"+01:00\"\n",
    "output_tz = 1.0/24\n",
    "\n",
    "# Change Index. Newer Evaluation scripts changed the Inedex of the Spectrum from just a number to prefix+number\n",
    "# This can be removed\n",
    "change_index = true\n",
    "\n",
    "# Probably good as is. \n",
    "raw_suffix = \"_raw\"\n",
    "filetype = \".csv\"\n",
    "\n",
    "nil"
   ]
  },
  {
   "cell_type": "code",
   "execution_count": 3,
   "metadata": {
    "collapsed": false
   },
   "outputs": [
    {
     "data": {
      "text/plain": [
       ":update_index"
      ]
     },
     "execution_count": 3,
     "metadata": {},
     "output_type": "execute_result"
    }
   ],
   "source": [
    "def update_index(s)\n",
    "  s.to_s.split(\"_\").last.to_i  \n",
    "end"
   ]
  },
  {
   "cell_type": "markdown",
   "metadata": {},
   "source": [
    "## Setup\n",
    "Set the right filenames"
   ]
  },
  {
   "cell_type": "code",
   "execution_count": 4,
   "metadata": {
    "collapsed": true
   },
   "outputs": [],
   "source": [
    "if prefix.is_a?(String)\n",
    "  prefix = [prefix]\n",
    "end\n",
    "\n",
    "unless prefix.is_a?(Array)\n",
    "  raise \"prefix needs to be a String or Array of Strings, but is a #{prefix.class}\"\n",
    "end\n",
    "nil"
   ]
  },
  {
   "cell_type": "markdown",
   "metadata": {},
   "source": [
    "Set the right column names according to DOASIS evaluation"
   ]
  },
  {
   "cell_type": "code",
   "execution_count": 5,
   "metadata": {
    "collapsed": false
   },
   "outputs": [],
   "source": [
    "chemicals.each do |chem|\n",
    "  columns << \"Fit Coefficient (\" + chem + \")\"\n",
    "  columns << \"Fit Coefficient Error (\" + chem + \")\"\n",
    "  vectors << chem.downcase\n",
    "  vectors << chem.downcase + \"_err\"\n",
    "end\n",
    "nil"
   ]
  },
  {
   "cell_type": "markdown",
   "metadata": {},
   "source": [
    "## Conversion"
   ]
  },
  {
   "cell_type": "code",
   "execution_count": 6,
   "metadata": {
    "collapsed": false
   },
   "outputs": [
    {
     "name": "stdout",
     "output_type": "stream",
     "text": [
      "Wrote ../DOAS/20160205_NOx.csv\n",
      "Done. It took 0.12729965816666666 minutes.\n"
     ]
    }
   ],
   "source": [
    "start = DateTime.now\n",
    "\n",
    "prefix.each do |p|\n",
    "  \n",
    "  input = dir + p + raw_suffix+ filetype\n",
    "  output = dir + p + filetype\n",
    "  \n",
    "  d = DataFrame.from_csv(input)\n",
    "  \n",
    "  d = d[*columns]\n",
    "  \n",
    "  d.vectors = Index.new(vectors)\n",
    "  \n",
    "  if change_tz\n",
    "    d[\"timestamp\"] = d[\"timestamp\"].collect do |t|\n",
    "      DateTime.parse(t+input_tz).new_offset(output_tz)\n",
    "    end\n",
    "  end\n",
    "  \n",
    "  if change_index\n",
    "    d[\"index\"] = d[\"index\"].collect do |s|\n",
    "      update_index(s)\n",
    "    end\n",
    "  end\n",
    "  \n",
    "  d.write_csv(output)\n",
    "  \n",
    "  puts \"Wrote #{output}\"\n",
    "\n",
    "end\n",
    "  \n",
    "stop = DateTime.now\n",
    "delta = (stop - start).to_f*24*60\n",
    "\n",
    "puts \"Done. It took #{delta} minutes.\""
   ]
  },
  {
   "cell_type": "code",
   "execution_count": null,
   "metadata": {
    "collapsed": true
   },
   "outputs": [],
   "source": []
  }
 ],
 "metadata": {
  "kernelspec": {
   "display_name": "Ruby 2.2.1",
   "language": "ruby",
   "name": "ruby"
  },
  "language_info": {
   "file_extension": ".rb",
   "mimetype": "application/x-ruby",
   "name": "ruby",
   "version": "2.2.1"
  }
 },
 "nbformat": 4,
 "nbformat_minor": 0
}
