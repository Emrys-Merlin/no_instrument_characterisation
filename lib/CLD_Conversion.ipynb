{
 "cells": [
  {
   "cell_type": "markdown",
   "metadata": {},
   "source": [
    "# CLD Conversion\n",
    "\n",
    "This script takes the output of a chemiluminescence monitor and converts it to a for ruby usable format.\n",
    "We expect two columns. One denoted \"timestamp\" containting the Date and Time of the Measuremnt and another denoted \"no\" conatining the measured NO concentration (in ppb). \n",
    "\n",
    "Next to the mere semantic update the script can make sure to have a timezone set and it can apply a calibration function to the raw NO values."
   ]
  },
  {
   "cell_type": "code",
   "execution_count": 1,
   "metadata": {
    "collapsed": false
   },
   "outputs": [
    {
     "data": {
      "application/javascript": [
       "if(window['d3'] === undefined ||\n",
       "   window['Nyaplot'] === undefined){\n",
       "    var path = {\"d3\":\"https://cdnjs.cloudflare.com/ajax/libs/d3/3.5.5/d3.min\",\"downloadable\":\"http://cdn.rawgit.com/domitry/d3-downloadable/master/d3-downloadable\"};\n",
       "\n",
       "\n",
       "\n",
       "    var shim = {\"d3\":{\"exports\":\"d3\"},\"downloadable\":{\"exports\":\"downloadable\"}};\n",
       "\n",
       "    require.config({paths: path, shim:shim});\n",
       "\n",
       "\n",
       "require(['d3'], function(d3){window['d3']=d3;console.log('finished loading d3');require(['downloadable'], function(downloadable){window['downloadable']=downloadable;console.log('finished loading downloadable');\n",
       "\n",
       "\tvar script = d3.select(\"head\")\n",
       "\t    .append(\"script\")\n",
       "\t    .attr(\"src\", \"http://cdn.rawgit.com/domitry/Nyaplotjs/master/release/nyaplot.js\")\n",
       "\t    .attr(\"async\", true);\n",
       "\n",
       "\tscript[0][0].onload = script[0][0].onreadystatechange = function(){\n",
       "\n",
       "\n",
       "\t    var event = document.createEvent(\"HTMLEvents\");\n",
       "\t    event.initEvent(\"load_nyaplot\",false,false);\n",
       "\t    window.dispatchEvent(event);\n",
       "\t    console.log('Finished loading Nyaplotjs');\n",
       "\n",
       "\t};\n",
       "\n",
       "\n",
       "});});\n",
       "}\n"
      ],
      "text/plain": [
       "\"if(window['d3'] === undefined ||\\n   window['Nyaplot'] === undefined){\\n    var path = {\\\"d3\\\":\\\"https://cdnjs.cloudflare.com/ajax/libs/d3/3.5.5/d3.min\\\",\\\"downloadable\\\":\\\"http://cdn.rawgit.com/domitry/d3-downloadable/master/d3-downloadable\\\"};\\n\\n\\n\\n    var shim = {\\\"d3\\\":{\\\"exports\\\":\\\"d3\\\"},\\\"downloadable\\\":{\\\"exports\\\":\\\"downloadable\\\"}};\\n\\n    require.config({paths: path, shim:shim});\\n\\n\\nrequire(['d3'], function(d3){window['d3']=d3;console.log('finished loading d3');require(['downloadable'], function(downloadable){window['downloadable']=downloadable;console.log('finished loading downloadable');\\n\\n\\tvar script = d3.select(\\\"head\\\")\\n\\t    .append(\\\"script\\\")\\n\\t    .attr(\\\"src\\\", \\\"http://cdn.rawgit.com/domitry/Nyaplotjs/master/release/nyaplot.js\\\")\\n\\t    .attr(\\\"async\\\", true);\\n\\n\\tscript[0][0].onload = script[0][0].onreadystatechange = function(){\\n\\n\\n\\t    var event = document.createEvent(\\\"HTMLEvents\\\");\\n\\t    event.initEvent(\\\"load_nyaplot\\\",false,false);\\n\\t    window.dispatchEvent(event);\\n\\t    console.log('Finished loading Nyaplotjs');\\n\\n\\t};\\n\\n\\n});});\\n}\\n\""
      ]
     },
     "metadata": {},
     "output_type": "display_data"
    }
   ],
   "source": [
    "require 'narray'\n",
    "require 'daru'\n",
    "include Daru\n",
    "nil"
   ]
  },
  {
   "cell_type": "markdown",
   "metadata": {},
   "source": [
    "## Variables\n",
    "\n",
    "* prefix: Array of prefixes of the files that are to be converted. The files need to be in the same directory\n",
    "* dir: Directory containing the files\n",
    "\n",
    "* change_tz: If false, does not touch timestamp at all. If true it sets a timezone.\n",
    "* input_tz: a string that contains the timezone in which the data was recorded. The format should be \"+07:00\".\n",
    "* output_tz: The timezone you want your data file to be in afterward. We use the ruby DateTime object for encoding so the format is timezone (as float) divided by 24.\n",
    "\n",
    "* apply_calibration: The no concentrations of the CLD are not in ppb (although it says so), but need to be calibrated. If the variable is set to true a calibration function is applied to the data."
   ]
  },
  {
   "cell_type": "code",
   "execution_count": 2,
   "metadata": {
    "collapsed": false
   },
   "outputs": [],
   "source": [
    "# String or Array of Strings with prefix of raw cld files\n",
    "prefix = [\"20160121_calib\", \"20160121\", \"20160122\", \"20160125\", \"20160219\", \"20160220\", \"20160221\", \"20160222\"] \n",
    "\n",
    "dir = \"../CLD/\"\n",
    "\n",
    "\n",
    "# Change Time Zone\n",
    "# Brings Time Zone in Standard DateTime format and sets the TimeZone\n",
    "change_tz = true\n",
    "input_tz = \"+01:00\"\n",
    "output_tz = 1.0/24\n",
    "\n",
    "apply_calibration = false\n",
    "\n"
   ]
  },
  {
   "cell_type": "markdown",
   "metadata": {},
   "source": [
    "The variables below should be good as they are. They are in accordance with the naming convention.\n",
    "\n",
    "* raw_suffix: The raw CLD data has a special suffix, that the converted fiel won't have. It is specified here.\n",
    "* filetype: The script expects a csv-stile file. If you want to give it another suffix you can change it here."
   ]
  },
  {
   "cell_type": "code",
   "execution_count": null,
   "metadata": {
    "collapsed": true
   },
   "outputs": [],
   "source": [
    "raw_suffix = \"_raw\"\n",
    "filetype = \".csv\"\n",
    "nil"
   ]
  },
  {
   "cell_type": "markdown",
   "metadata": {},
   "source": [
    "## Calibration function\n",
    "Update this function if you want to apply another calibration. It has to work with a float and should return a float"
   ]
  },
  {
   "cell_type": "code",
   "execution_count": 3,
   "metadata": {
    "collapsed": false
   },
   "outputs": [],
   "source": [
    "def calib(no) \n",
    "  (no + 1.34614)/1.70233\n",
    "end\n",
    "nil"
   ]
  },
  {
   "cell_type": "markdown",
   "metadata": {},
   "source": [
    "## Setup"
   ]
  },
  {
   "cell_type": "code",
   "execution_count": 4,
   "metadata": {
    "collapsed": true
   },
   "outputs": [],
   "source": [
    "if prefix.is_a?(String)\n",
    "  prefix = [prefix]\n",
    "end\n",
    "\n",
    "unless prefix.is_a?(Array)\n",
    "  raise \"prefix needs to be a String or Array of Strings, but is a #{prefix.class}\"\n",
    "end\n",
    "nil"
   ]
  },
  {
   "cell_type": "markdown",
   "metadata": {},
   "source": [
    "## Conversion\n",
    "Status at the bottom."
   ]
  },
  {
   "cell_type": "code",
   "execution_count": 6,
   "metadata": {
    "collapsed": false
   },
   "outputs": [
    {
     "name": "stdout",
     "output_type": "stream",
     "text": [
      "Written ../CLD/20160121_calib.csv\n",
      "Written ../CLD/20160121.csv\n",
      "Written ../CLD/20160122.csv\n",
      "Written ../CLD/20160125.csv\n",
      "Written ../CLD/20160219.csv\n",
      "Written ../CLD/20160220.csv\n",
      "Written ../CLD/20160221.csv\n",
      "Written ../CLD/20160222.csv\n",
      "Done. It took 3.5901217612833336 minutes.\n"
     ]
    }
   ],
   "source": [
    "start = DateTime.now\n",
    "\n",
    "prefix.each do |p| \n",
    "  unless p.is_a?(String)\n",
    "    raise \"prefix needs to be an Array of Strings, but contains a #{p.class}.\"\n",
    "  end\n",
    "  \n",
    "  input = dir + p + raw_suffix+ filetype\n",
    "  output = dir + p + filetype\n",
    "  \n",
    "  d = DataFrame.from_csv(input)\n",
    "  \n",
    "  unless d.vectors.to_a.include?(\"no\")\n",
    "    raise \"header needs to contain 'no'\"\n",
    "  end\n",
    "  \n",
    "  unless d.vectors.to_a.include?(\"timestamp\")\n",
    "    raise \"header need to containt 'timestamp'\"\n",
    "  end\n",
    "  \n",
    "  d.recode_rows do |row|\n",
    "    \n",
    "    no = row[\"no\"].to_s.gsub(\",\", \".\").to_f\n",
    "    \n",
    "    if apply_calibration\n",
    "      row[\"no\"] = calib(no)\n",
    "    else\n",
    "      row[\"no\"] = no\n",
    "    end\n",
    "    row[\"timestamp\"] =  DateTime.parse(row[\"timestamp\"] + input_tz).new_offset(output_tz)\n",
    "    row\n",
    "  end\n",
    "  \n",
    "  d.write_csv(output)\n",
    "  \n",
    "  puts \"Wrote #{output}\"\n",
    "  \n",
    "end\n",
    "\n",
    "stop = DateTime.now\n",
    "delta = (stop - start).to_f*24*60\n",
    "\n",
    "puts \"Done. It took #{delta} minutes.\"\n",
    "nil"
   ]
  }
 ],
 "metadata": {
  "kernelspec": {
   "display_name": "Ruby 2.2.1",
   "language": "ruby",
   "name": "ruby"
  },
  "language_info": {
   "file_extension": ".rb",
   "mimetype": "application/x-ruby",
   "name": "ruby",
   "version": "2.2.1"
  }
 },
 "nbformat": 4,
 "nbformat_minor": 0
}
