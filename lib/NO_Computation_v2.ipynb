{
 "cells": [
  {
   "cell_type": "markdown",
   "metadata": {},
   "source": [
    "# NO Computation\n",
    "\n",
    "This script takes two files. One containing NOx-data, i.e. a DOAS-measurement data, where NO was converted to NO_2, so that it measured NO+NO_2 and one file, that only contains NO2-data. From this it retrieves the NO values.\n",
    "\n",
    "The files need to be in the format deployed by the DOAS_Converter.ipynb. It assumes that the NOx-data is in the :no2 column of the NOx-file.\n",
    "\n",
    "The algorithm will first merge the two files and do this either via the index of the files, assuming that the spectra were taken alternatingly starting with NO_2 or it will use the timestamps to sort them correctly. So far the timestamps of the two files have to be disjoint for the algorithm to work correctly."
   ]
  },
  {
   "cell_type": "code",
   "execution_count": 1,
   "metadata": {
    "collapsed": false
   },
   "outputs": [
    {
     "data": {
      "application/javascript": [
       "if(window['d3'] === undefined ||\n",
       "   window['Nyaplot'] === undefined){\n",
       "    var path = {\"d3\":\"https://cdnjs.cloudflare.com/ajax/libs/d3/3.5.5/d3.min\",\"downloadable\":\"http://cdn.rawgit.com/domitry/d3-downloadable/master/d3-downloadable\"};\n",
       "\n",
       "\n",
       "\n",
       "    var shim = {\"d3\":{\"exports\":\"d3\"},\"downloadable\":{\"exports\":\"downloadable\"}};\n",
       "\n",
       "    require.config({paths: path, shim:shim});\n",
       "\n",
       "\n",
       "require(['d3'], function(d3){window['d3']=d3;console.log('finished loading d3');require(['downloadable'], function(downloadable){window['downloadable']=downloadable;console.log('finished loading downloadable');\n",
       "\n",
       "\tvar script = d3.select(\"head\")\n",
       "\t    .append(\"script\")\n",
       "\t    .attr(\"src\", \"http://cdn.rawgit.com/domitry/Nyaplotjs/master/release/nyaplot.js\")\n",
       "\t    .attr(\"async\", true);\n",
       "\n",
       "\tscript[0][0].onload = script[0][0].onreadystatechange = function(){\n",
       "\n",
       "\n",
       "\t    var event = document.createEvent(\"HTMLEvents\");\n",
       "\t    event.initEvent(\"load_nyaplot\",false,false);\n",
       "\t    window.dispatchEvent(event);\n",
       "\t    console.log('Finished loading Nyaplotjs');\n",
       "\n",
       "\t};\n",
       "\n",
       "\n",
       "});});\n",
       "}\n"
      ],
      "text/plain": [
       "\"if(window['d3'] === undefined ||\\n   window['Nyaplot'] === undefined){\\n    var path = {\\\"d3\\\":\\\"https://cdnjs.cloudflare.com/ajax/libs/d3/3.5.5/d3.min\\\",\\\"downloadable\\\":\\\"http://cdn.rawgit.com/domitry/d3-downloadable/master/d3-downloadable\\\"};\\n\\n\\n\\n    var shim = {\\\"d3\\\":{\\\"exports\\\":\\\"d3\\\"},\\\"downloadable\\\":{\\\"exports\\\":\\\"downloadable\\\"}};\\n\\n    require.config({paths: path, shim:shim});\\n\\n\\nrequire(['d3'], function(d3){window['d3']=d3;console.log('finished loading d3');require(['downloadable'], function(downloadable){window['downloadable']=downloadable;console.log('finished loading downloadable');\\n\\n\\tvar script = d3.select(\\\"head\\\")\\n\\t    .append(\\\"script\\\")\\n\\t    .attr(\\\"src\\\", \\\"http://cdn.rawgit.com/domitry/Nyaplotjs/master/release/nyaplot.js\\\")\\n\\t    .attr(\\\"async\\\", true);\\n\\n\\tscript[0][0].onload = script[0][0].onreadystatechange = function(){\\n\\n\\n\\t    var event = document.createEvent(\\\"HTMLEvents\\\");\\n\\t    event.initEvent(\\\"load_nyaplot\\\",false,false);\\n\\t    window.dispatchEvent(event);\\n\\t    console.log('Finished loading Nyaplotjs');\\n\\n\\t};\\n\\n\\n});});\\n}\\n\""
      ]
     },
     "metadata": {},
     "output_type": "display_data"
    }
   ],
   "source": [
    "require 'narray'\n",
    "require 'daru'\n",
    "require 'gnuplotrb'\n",
    "include Daru\n",
    "include GnuplotRB\n",
    "include Fit\n",
    "nil"
   ]
  },
  {
   "cell_type": "markdown",
   "metadata": {},
   "source": [
    "## Variables"
   ]
  },
  {
   "cell_type": "code",
   "execution_count": 2,
   "metadata": {
    "collapsed": false
   },
   "outputs": [],
   "source": [
    "prefix = \"20160205\"\n",
    "\n",
    "dir = \"../DOAS/\"\n",
    "\n",
    "by_index = false #else by timestamp\n",
    "\n",
    "time_offset = 26 #Timestamp_NO_2 - Timestamp_NO_x in seconds, only used if sorted by timestamp\n",
    "\n",
    "\n",
    "postfix_nox = \"_NOx\"\n",
    "postfix_no2 = \"_NO2\"\n",
    "postfix_out = \"_all\"\n",
    "filetype = \".csv\"\n",
    "\n",
    "nil"
   ]
  },
  {
   "cell_type": "code",
   "execution_count": 3,
   "metadata": {
    "collapsed": false
   },
   "outputs": [
    {
     "data": {
      "text/plain": [
       "\"../DOAS/20160205_all.csv\""
      ]
     },
     "execution_count": 3,
     "metadata": {},
     "output_type": "execute_result"
    }
   ],
   "source": [
    "input_nox = dir + prefix + postfix_nox + filetype\n",
    "input_no2 = dir + prefix + postfix_no2 + filetype\n",
    "output = dir + prefix + postfix_out + filetype\n",
    "nil"
   ]
  },
  {
   "cell_type": "markdown",
   "metadata": {},
   "source": [
    "## NOx Setup"
   ]
  },
  {
   "cell_type": "code",
   "execution_count": 4,
   "metadata": {
    "collapsed": false
   },
   "outputs": [
    {
     "data": {
      "text/html": [
       "<table><tr><th colspan=\"13\">Daru::DataFrame:8744980  rows: 10  cols: 12<tr><th></th><th>chocho</th><th>chocho_err</th><th>h2o</th><th>h2o_err</th><th>index</th><th>no2</th><th>no2_err</th><th>o3</th><th>o3_err</th><th>timestamp</th><th>nox</th><th>nox_err</th></tr><tr><td>0</td><td>0.353324473903778</td><td>0.176596445846426</td><td>3113384.35335329</td><td>1684545.14920537</td><td>0</td><td></td><td></td><td>4877.40764175932</td><td>2103.31736641758</td><td>2016-02-05T10:48:08+01:00</td><td>27.365249574552</td><td>0.123317466372247</td></tr><tr><td>1</td><td>0.21638154259845</td><td>0.178901120927662</td><td>5170050.46237575</td><td>1707107.91562755</td><td>1</td><td></td><td></td><td>4617.1842467155</td><td>2129.2547007112</td><td>2016-02-05T10:48:40+01:00</td><td>29.5900793165408</td><td>0.125548571365621</td></tr><tr><td>2</td><td>0.238333501238506</td><td>0.195180274156495</td><td>4823005.27533279</td><td>1861256.98685544</td><td>2</td><td></td><td></td><td>5330.31449638986</td><td>2321.92993561522</td><td>2016-02-05T10:49:11+01:00</td><td>32.0610808860879</td><td>0.137464707652659</td></tr><tr><td>3</td><td>0.367860001095659</td><td>0.188043423914974</td><td>4885092.85187677</td><td>1793769.22423188</td><td>3</td><td></td><td></td><td>4688.57715865824</td><td>2237.21100678927</td><td>2016-02-05T10:49:42+01:00</td><td>32.7469723437814</td><td>0.132660798660829</td></tr><tr><td>4</td><td>0.38571058741763</td><td>0.195721936765094</td><td>4805406.00401434</td><td>1866748.78391874</td><td>4</td><td></td><td></td><td>5394.15765282689</td><td>2328.59690884402</td><td>2016-02-05T10:50:13+01:00</td><td>34.119171238335</td><td>0.13837421727168</td></tr><tr><td>5</td><td>2.25065757505263</td><td>0.5068492370547</td><td>5475179.0123179</td><td>4786040.66769994</td><td>5</td><td></td><td></td><td>7478.81154849626</td><td>5939.58445599865</td><td>2016-02-05T10:50:44+01:00</td><td>151.676799952924</td><td>0.433249505904845</td></tr><tr><td>6</td><td>1.33262031701487</td><td>0.356121724231597</td><td>4216058.76717348</td><td>3372720.65767866</td><td>6</td><td></td><td></td><td>5536.64505882044</td><td>4192.22123286904</td><td>2016-02-05T10:51:38+01:00</td><td>96.1068384147703</td><td>0.286487533103543</td></tr><tr><td>7</td><td>0.349812683424727</td><td>0.18143718468013</td><td>5178853.25543423</td><td>1730629.28645284</td><td>7</td><td></td><td></td><td>4862.77797025033</td><td>2155.52554413765</td><td>2016-02-05T10:52:09+01:00</td><td>31.2320273391755</td><td>0.128334419848612</td></tr><tr><td>8</td><td>0.469704360439998</td><td>0.207285391151281</td><td>5848080.00190861</td><td>1975027.81509071</td><td>8</td><td></td><td></td><td>4798.53728265571</td><td>2462.05053829443</td><td>2016-02-05T10:52:40+01:00</td><td>42.6981217511444</td><td>0.148498703962881</td></tr><tr><td>9</td><td>0.318205274665317</td><td>0.190613510562526</td><td>4316106.57241583</td><td>1817525.46823194</td><td>9</td><td></td><td></td><td>4363.77362475307</td><td>2264.03920915753</td><td>2016-02-05T10:53:11+01:00</td><td>33.693138161693</td><td>0.134804344596553</td></tr></table>"
      ],
      "text/plain": [
       "\n",
       "#<Daru::DataFrame:8744980 @name = 30180e9a-afd0-4c6a-a3e8-4ea333021e4c @size = 10>\n",
       "               chocho chocho_err        h2o    h2o_err      index        no2    no2_err         o3     o3_err  timestamp        nox    nox_err \n",
       "         0 0.35332447 0.17659644 3113384.35 1684545.14          0        nil        nil 4877.40764 2103.31736 2016-02-05 27.3652495 0.12331746 \n",
       "         1 0.21638154 0.17890112 5170050.46 1707107.91          1        nil        nil 4617.18424 2129.25470 2016-02-05 29.5900793 0.12554857 \n",
       "         2 0.23833350 0.19518027 4823005.27 1861256.98          2        nil        nil 5330.31449 2321.92993 2016-02-05 32.0610808 0.13746470 \n",
       "         3 0.36786000 0.18804342 4885092.85 1793769.22          3        nil        nil 4688.57715 2237.21100 2016-02-05 32.7469723 0.13266079 \n",
       "         4 0.38571058 0.19572193 4805406.00 1866748.78          4        nil        nil 5394.15765 2328.59690 2016-02-05 34.1191712 0.13837421 \n",
       "         5 2.25065757 0.50684923 5475179.01 4786040.66          5        nil        nil 7478.81154 5939.58445 2016-02-05 151.676799 0.43324950 \n",
       "         6 1.33262031 0.35612172 4216058.76 3372720.65          6        nil        nil 5536.64505 4192.22123 2016-02-05 96.1068384 0.28648753 \n",
       "         7 0.34981268 0.18143718 5178853.25 1730629.28          7        nil        nil 4862.77797 2155.52554 2016-02-05 31.2320273 0.12833441 \n",
       "         8 0.46970436 0.20728539 5848080.00 1975027.81          8        nil        nil 4798.53728 2462.05053 2016-02-05 42.6981217 0.14849870 \n",
       "         9 0.31820527 0.19061351 4316106.57 1817525.46          9        nil        nil 4363.77362 2264.03920 2016-02-05 33.6931381 0.13480434 \n"
      ]
     },
     "execution_count": 4,
     "metadata": {},
     "output_type": "execute_result"
    }
   ],
   "source": [
    "nox = DataFrame.from_csv(input_nox)\n",
    "nox.vectors = Index.new(nox.vectors.to_a.map do |i|\n",
    "  i.to_sym\n",
    "end)\n",
    "nox[:nox] = nox[:no2]\n",
    "nox[:nox_err] = nox[:no2_err]\n",
    "nox[:no2] = Array.new(nox.nrows)\n",
    "nox[:no2_err] = Array.new(nox.nrows)\n",
    "nox.head"
   ]
  },
  {
   "cell_type": "markdown",
   "metadata": {},
   "source": [
    "## NO2 Setup"
   ]
  },
  {
   "cell_type": "code",
   "execution_count": 6,
   "metadata": {
    "collapsed": false
   },
   "outputs": [
    {
     "data": {
      "text/html": [
       "<table><tr><th colspan=\"9\">Daru::DataFrame:31133780  rows: 10  cols: 8<tr><th></th><th>h2o</th><th>h2o_err</th><th>index</th><th>no2</th><th>no2_err</th><th>timestamp</th><th>nox</th><th>nox_err</th></tr><tr><td>0</td><td>5955018.80221141</td><td>1785243.96458663</td><td>0</td><td>23.2912763378539</td><td>0.122673570175043</td><td>2016-02-05T10:50:03+01:00</td><td></td><td></td></tr><tr><td>1</td><td>7103851.68091446</td><td>1646818.69547983</td><td>1</td><td>23.0423096337448</td><td>0.113132477282166</td><td>2016-02-05T10:50:06+01:00</td><td></td><td></td></tr><tr><td>2</td><td>7950498.19629309</td><td>1626898.95555248</td><td>2</td><td>23.1603437201535</td><td>0.111774912786642</td><td>2016-02-05T10:50:09+01:00</td><td></td><td></td></tr><tr><td>3</td><td>6851408.42894466</td><td>1591966.91856531</td><td>3</td><td>23.4251164148837</td><td>0.109409226303226</td><td>2016-02-05T10:50:11+01:00</td><td></td><td></td></tr><tr><td>4</td><td>8391060.81990703</td><td>1627762.39279944</td><td>4</td><td>23.9604899769026</td><td>0.111927162521265</td><td>2016-02-05T10:50:13+01:00</td><td></td><td></td></tr><tr><td>5</td><td>6971107.7593151</td><td>1614640.91472693</td><td>5</td><td>24.4558233450273</td><td>0.111080473556276</td><td>2016-02-05T10:50:16+01:00</td><td></td><td></td></tr><tr><td>6</td><td>6193875.19771336</td><td>1522296.2702846</td><td>6</td><td>24.7679034849232</td><td>0.104759450696453</td><td>2016-02-05T10:50:18+01:00</td><td></td><td></td></tr><tr><td>7</td><td>6850485.01697623</td><td>1619403.62933848</td><td>7</td><td>24.7607632505271</td><td>0.11144125929343</td><td>2016-02-05T10:50:20+01:00</td><td></td><td></td></tr><tr><td>8</td><td>6604873.30801012</td><td>1688086.47459051</td><td>8</td><td>24.965901091872</td><td>0.116193769388571</td><td>2016-02-05T10:50:22+01:00</td><td></td><td></td></tr><tr><td>9</td><td>9304814.14872921</td><td>1625003.33247178</td><td>9</td><td>25.0473143354546</td><td>0.11185661762089</td><td>2016-02-05T10:50:25+01:00</td><td></td><td></td></tr></table>"
      ],
      "text/plain": [
       "\n",
       "#<Daru::DataFrame:31133780 @name = a4582e57-95f2-4d21-908d-275f584fcadd @size = 10>\n",
       "                  h2o    h2o_err      index        no2    no2_err  timestamp        nox    nox_err \n",
       "         0 5955018.80 1785243.96          0 23.2912763 0.12267357 2016-02-05        nil        nil \n",
       "         1 7103851.68 1646818.69          1 23.0423096 0.11313247 2016-02-05        nil        nil \n",
       "         2 7950498.19 1626898.95          2 23.1603437 0.11177491 2016-02-05        nil        nil \n",
       "         3 6851408.42 1591966.91          3 23.4251164 0.10940922 2016-02-05        nil        nil \n",
       "         4 8391060.81 1627762.39          4 23.9604899 0.11192716 2016-02-05        nil        nil \n",
       "         5 6971107.75 1614640.91          5 24.4558233 0.11108047 2016-02-05        nil        nil \n",
       "         6 6193875.19 1522296.27          6 24.7679034 0.10475945 2016-02-05        nil        nil \n",
       "         7 6850485.01 1619403.62          7 24.7607632 0.11144125 2016-02-05        nil        nil \n",
       "         8 6604873.30 1688086.47          8 24.9659010 0.11619376 2016-02-05        nil        nil \n",
       "         9 9304814.14 1625003.33          9 25.0473143 0.11185661 2016-02-05        nil        nil \n"
      ]
     },
     "execution_count": 6,
     "metadata": {},
     "output_type": "execute_result"
    }
   ],
   "source": [
    "no2 = DataFrame.from_csv(input_no2)\n",
    "no2.vectors = Index.new(no2.vectors.to_a.map do |i|\n",
    "  i.to_sym\n",
    "end)\n",
    "no2[:nox] = Array.new(no2.nrows)\n",
    "no2[:nox_err] = Array.new(no2.nrows)\n",
    "no2.head"
   ]
  },
  {
   "cell_type": "markdown",
   "metadata": {},
   "source": [
    "## Merge\n",
    "### By Index\n",
    "#### Setup Indices"
   ]
  },
  {
   "cell_type": "code",
   "execution_count": 7,
   "metadata": {
    "collapsed": false
   },
   "outputs": [],
   "source": [
    "if by_index\n",
    "  nox[:index] = nox[:index]*2+1\n",
    "  no2[:index] = no2[:index]*2\n",
    "end\n",
    "\n",
    "nil"
   ]
  },
  {
   "cell_type": "code",
   "execution_count": 8,
   "metadata": {
    "collapsed": false
   },
   "outputs": [],
   "source": [
    "if by_index\n",
    "  i = 0\n",
    "  j = 0\n",
    "\n",
    "  all = DataFrame.new(Hash[nox.vectors.to_a.map{|i| [i, []]}], order: nox.vectors.to_a)\n",
    "\n",
    "  while (i < no2.nrows) or (j < nox.nrows)\n",
    "\n",
    "    if (i >= no2.nrows) \n",
    "\n",
    "      all.add_row(nox.row[j])      \n",
    "      j += 1\n",
    "\n",
    "    elsif (j >= nox.nrows)\n",
    "\n",
    "      all.add_row(no2.row[i])\n",
    "      i +=1\n",
    "\n",
    "    else\n",
    "\n",
    "      if (no2.row[i][:index] <= nox.row[j][:index])\n",
    "        all.add_row(no2.row[i])\n",
    "        i += 1\n",
    "      else\n",
    "        all.add_row(nox.row[j])\n",
    "        j += 1\n",
    "      end\n",
    "\n",
    "    end\n",
    "  end\n",
    "  \n",
    "end\n",
    "\n",
    "nil"
   ]
  },
  {
   "cell_type": "markdown",
   "metadata": {},
   "source": [
    "### By Timestamp\n",
    "#### Correct Timestamps"
   ]
  },
  {
   "cell_type": "code",
   "execution_count": 9,
   "metadata": {
    "collapsed": true
   },
   "outputs": [],
   "source": [
    "unless by_index\n",
    "  nox[:timestamp] = nox[:timestamp].collect do |t|\n",
    "    if t.is_a?(DateTime)\n",
    "      ret = t\n",
    "    else\n",
    "      ret = DateTime.parse(t)\n",
    "    end\n",
    "    ret + time_offset.to_f/(60*60*24)\n",
    "  end\n",
    "\n",
    "  no2[:timestamp] = no2[:timestamp].collect do |t| \n",
    "    if t.is_a?(DateTime)\n",
    "      ret = t\n",
    "    else\n",
    "      ret = DateTime.parse(t)\n",
    "    end\n",
    "    ret\n",
    "  end\n",
    "end\n",
    "\n",
    "nil"
   ]
  },
  {
   "cell_type": "markdown",
   "metadata": {},
   "source": [
    "#### Takes forever (for large datasets). Minimize use!"
   ]
  },
  {
   "cell_type": "code",
   "execution_count": null,
   "metadata": {
    "collapsed": false
   },
   "outputs": [
    {
     "name": "stdout",
     "output_type": "stream",
     "text": [
      "Starting merge.\n"
     ]
    }
   ],
   "source": [
    "unless by_index\n",
    "  \n",
    "  puts \"Starting merge. Depending on the dataset size this may take a while.\"\n",
    "  start = DateTime.now\n",
    "  \n",
    "  i = 0\n",
    "  j = 0\n",
    "\n",
    "  all = DataFrame.new(Hash[nox.vectors.to_a.map{|i| [i, []]}], order: nox.vectors.to_a)\n",
    "\n",
    "  while (i < no2.nrows) or (j < nox.nrows)\n",
    "\n",
    "    if (i >= no2.nrows) \n",
    "\n",
    "      all.add_row(nox.row[j])      \n",
    "      j += 1\n",
    "\n",
    "    elsif (j >= nox.nrows)\n",
    "\n",
    "      all.add_row(no2.row[i])\n",
    "      i +=1\n",
    "\n",
    "    else\n",
    "\n",
    "      if (no2.row[i][:timestamp] <= nox.row[j][:timestamp])\n",
    "        all.add_row(no2.row[i])\n",
    "        i += 1\n",
    "      else\n",
    "        all.add_row(nox.row[j])\n",
    "        j += 1\n",
    "      end\n",
    "\n",
    "    end\n",
    "  end\n",
    "  \n",
    "  stop = DateTime.now\n",
    "  delta = (stop - start).to_f*24*60\n",
    "  \n",
    "  puts \"Merge finished. It took #{delta} minutes.\"\n",
    "  \n",
    "end\n",
    "\n",
    "nil"
   ]
  },
  {
   "cell_type": "code",
   "execution_count": null,
   "metadata": {
    "collapsed": false
   },
   "outputs": [],
   "source": [
    "all.head"
   ]
  },
  {
   "cell_type": "markdown",
   "metadata": {},
   "source": [
    "## Save Merge!"
   ]
  },
  {
   "cell_type": "code",
   "execution_count": 29,
   "metadata": {
    "collapsed": false
   },
   "outputs": [],
   "source": [
    "all.write_csv(output)"
   ]
  },
  {
   "cell_type": "markdown",
   "metadata": {},
   "source": [
    "## NOx + NO2 Plot"
   ]
  },
  {
   "cell_type": "code",
   "execution_count": 30,
   "metadata": {
    "collapsed": false
   },
   "outputs": [
    {
     "data": {
      "image/svg+xml": [
       "<?xml version=\"1.0\" encoding=\"utf-8\"  standalone=\"no\"?>\n",
       "<!DOCTYPE svg PUBLIC \"-//W3C//DTD SVG 1.1//EN\"\n",
       " \"http://www.w3.org/Graphics/SVG/1.1/DTD/svg11.dtd\">\n",
       "<svg \n",
       " width=\"600\" height=\"480\"\n",
       " viewBox=\"0 0 600 480\"\n",
       " xmlns=\"http://www.w3.org/2000/svg\"\n",
       " xmlns:xlink=\"http://www.w3.org/1999/xlink\"\n",
       ">\n",
       "\n",
       "<title>Gnuplot</title>\n",
       "<desc>Produced by GNUPLOT 5.0 patchlevel 1 </desc>\n",
       "\n",
       "<g id=\"gnuplot_canvas\">\n",
       "\n",
       "<rect x=\"0\" y=\"0\" width=\"600\" height=\"480\" fill=\"none\"/>\n",
       "<defs>\n",
       "\n",
       "\t<circle id='gpDot' r='0.5' stroke-width='0.5'/>\n",
       "\t<path id='gpPt0' stroke-width='0.222' stroke='currentColor' d='M-1,0 h2 M0,-1 v2'/>\n",
       "\t<path id='gpPt1' stroke-width='0.222' stroke='currentColor' d='M-1,-1 L1,1 M1,-1 L-1,1'/>\n",
       "\t<path id='gpPt2' stroke-width='0.222' stroke='currentColor' d='M-1,0 L1,0 M0,-1 L0,1 M-1,-1 L1,1 M-1,1 L1,-1'/>\n",
       "\t<rect id='gpPt3' stroke-width='0.222' stroke='currentColor' x='-1' y='-1' width='2' height='2'/>\n",
       "\t<rect id='gpPt4' stroke-width='0.222' stroke='currentColor' fill='currentColor' x='-1' y='-1' width='2' height='2'/>\n",
       "\t<circle id='gpPt5' stroke-width='0.222' stroke='currentColor' cx='0' cy='0' r='1'/>\n",
       "\t<use xlink:href='#gpPt5' id='gpPt6' fill='currentColor' stroke='none'/>\n",
       "\t<path id='gpPt7' stroke-width='0.222' stroke='currentColor' d='M0,-1.33 L-1.33,0.67 L1.33,0.67 z'/>\n",
       "\t<use xlink:href='#gpPt7' id='gpPt8' fill='currentColor' stroke='none'/>\n",
       "\t<use xlink:href='#gpPt7' id='gpPt9' stroke='currentColor' transform='rotate(180)'/>\n",
       "\t<use xlink:href='#gpPt9' id='gpPt10' fill='currentColor' stroke='none'/>\n",
       "\t<use xlink:href='#gpPt3' id='gpPt11' stroke='currentColor' transform='rotate(45)'/>\n",
       "\t<use xlink:href='#gpPt11' id='gpPt12' fill='currentColor' stroke='none'/>\n",
       "\t<path id='gpPt13' stroke-width='0.222' stroke='currentColor' d='M0,1.330 L1.265,0.411 L0.782,-1.067 L-0.782,-1.076 L-1.265,0.411 z'/>\n",
       "\t<use xlink:href='#gpPt13' id='gpPt14' fill='currentColor' stroke='none'/>\n",
       "\t<filter id='textbox' filterUnits='objectBoundingBox' x='0' y='0' height='1' width='1'>\n",
       "\t  <feFlood flood-color='white' flood-opacity='1' result='bgnd'/>\n",
       "\t  <feComposite in='SourceGraphic' in2='bgnd' operator='atop'/>\n",
       "\t</filter>\n",
       "\t<filter id='greybox' filterUnits='objectBoundingBox' x='0' y='0' height='1' width='1'>\n",
       "\t  <feFlood flood-color='lightgrey' flood-opacity='1' result='grey'/>\n",
       "\t  <feComposite in='SourceGraphic' in2='grey' operator='atop'/>\n",
       "\t</filter>\n",
       "</defs>\n",
       "<g fill=\"none\" color=\"white\" stroke=\"currentColor\" stroke-width=\"1.00\" stroke-linecap=\"butt\" stroke-linejoin=\"miter\">\n",
       "</g>\n",
       "<g fill=\"none\" color=\"black\" stroke=\"currentColor\" stroke-width=\"1.00\" stroke-linecap=\"butt\" stroke-linejoin=\"miter\">\n",
       "\t<path stroke='black'  d='M45.6,444.0 L54.6,444.0 M575.0,444.0 L566.0,444.0  '/>\t<g transform=\"translate(37.3,448.5)\" stroke=\"none\" fill=\"black\" font-family=\"Arial\" font-size=\"12.00\"  text-anchor=\"end\">\n",
       "\t\t<text><tspan font-family=\"Arial\" > 0</tspan></text>\n",
       "\t</g>\n",
       "</g>\n",
       "<g fill=\"none\" color=\"black\" stroke=\"currentColor\" stroke-width=\"1.00\" stroke-linecap=\"butt\" stroke-linejoin=\"miter\">\n",
       "\t<path stroke='black'  d='M45.6,396.5 L54.6,396.5 M575.0,396.5 L566.0,396.5  '/>\t<g transform=\"translate(37.3,401.0)\" stroke=\"none\" fill=\"black\" font-family=\"Arial\" font-size=\"12.00\"  text-anchor=\"end\">\n",
       "\t\t<text><tspan font-family=\"Arial\" > 2</tspan></text>\n",
       "\t</g>\n",
       "</g>\n",
       "<g fill=\"none\" color=\"black\" stroke=\"currentColor\" stroke-width=\"1.00\" stroke-linecap=\"butt\" stroke-linejoin=\"miter\">\n",
       "\t<path stroke='black'  d='M45.6,349.0 L54.6,349.0 M575.0,349.0 L566.0,349.0  '/>\t<g transform=\"translate(37.3,353.5)\" stroke=\"none\" fill=\"black\" font-family=\"Arial\" font-size=\"12.00\"  text-anchor=\"end\">\n",
       "\t\t<text><tspan font-family=\"Arial\" > 4</tspan></text>\n",
       "\t</g>\n",
       "</g>\n",
       "<g fill=\"none\" color=\"black\" stroke=\"currentColor\" stroke-width=\"1.00\" stroke-linecap=\"butt\" stroke-linejoin=\"miter\">\n",
       "\t<path stroke='black'  d='M45.6,301.6 L54.6,301.6 M575.0,301.6 L566.0,301.6  '/>\t<g transform=\"translate(37.3,306.1)\" stroke=\"none\" fill=\"black\" font-family=\"Arial\" font-size=\"12.00\"  text-anchor=\"end\">\n",
       "\t\t<text><tspan font-family=\"Arial\" > 6</tspan></text>\n",
       "\t</g>\n",
       "</g>\n",
       "<g fill=\"none\" color=\"black\" stroke=\"currentColor\" stroke-width=\"1.00\" stroke-linecap=\"butt\" stroke-linejoin=\"miter\">\n",
       "\t<path stroke='black'  d='M45.6,254.1 L54.6,254.1 M575.0,254.1 L566.0,254.1  '/>\t<g transform=\"translate(37.3,258.6)\" stroke=\"none\" fill=\"black\" font-family=\"Arial\" font-size=\"12.00\"  text-anchor=\"end\">\n",
       "\t\t<text><tspan font-family=\"Arial\" > 8</tspan></text>\n",
       "\t</g>\n",
       "</g>\n",
       "<g fill=\"none\" color=\"black\" stroke=\"currentColor\" stroke-width=\"1.00\" stroke-linecap=\"butt\" stroke-linejoin=\"miter\">\n",
       "\t<path stroke='black'  d='M45.6,206.6 L54.6,206.6 M575.0,206.6 L566.0,206.6  '/>\t<g transform=\"translate(37.3,211.1)\" stroke=\"none\" fill=\"black\" font-family=\"Arial\" font-size=\"12.00\"  text-anchor=\"end\">\n",
       "\t\t<text><tspan font-family=\"Arial\" > 10</tspan></text>\n",
       "\t</g>\n",
       "</g>\n",
       "<g fill=\"none\" color=\"black\" stroke=\"currentColor\" stroke-width=\"1.00\" stroke-linecap=\"butt\" stroke-linejoin=\"miter\">\n",
       "\t<path stroke='black'  d='M45.6,159.1 L54.6,159.1 M575.0,159.1 L566.0,159.1  '/>\t<g transform=\"translate(37.3,163.6)\" stroke=\"none\" fill=\"black\" font-family=\"Arial\" font-size=\"12.00\"  text-anchor=\"end\">\n",
       "\t\t<text><tspan font-family=\"Arial\" > 12</tspan></text>\n",
       "\t</g>\n",
       "</g>\n",
       "<g fill=\"none\" color=\"black\" stroke=\"currentColor\" stroke-width=\"1.00\" stroke-linecap=\"butt\" stroke-linejoin=\"miter\">\n",
       "\t<path stroke='black'  d='M45.6,111.7 L54.6,111.7 M575.0,111.7 L566.0,111.7  '/>\t<g transform=\"translate(37.3,116.2)\" stroke=\"none\" fill=\"black\" font-family=\"Arial\" font-size=\"12.00\"  text-anchor=\"end\">\n",
       "\t\t<text><tspan font-family=\"Arial\" > 14</tspan></text>\n",
       "\t</g>\n",
       "</g>\n",
       "<g fill=\"none\" color=\"black\" stroke=\"currentColor\" stroke-width=\"1.00\" stroke-linecap=\"butt\" stroke-linejoin=\"miter\">\n",
       "\t<path stroke='black'  d='M45.6,64.2 L54.6,64.2 M575.0,64.2 L566.0,64.2  '/>\t<g transform=\"translate(37.3,68.7)\" stroke=\"none\" fill=\"black\" font-family=\"Arial\" font-size=\"12.00\"  text-anchor=\"end\">\n",
       "\t\t<text><tspan font-family=\"Arial\" > 16</tspan></text>\n",
       "\t</g>\n",
       "</g>\n",
       "<g fill=\"none\" color=\"black\" stroke=\"currentColor\" stroke-width=\"1.00\" stroke-linecap=\"butt\" stroke-linejoin=\"miter\">\n",
       "\t<path stroke='black'  d='M45.6,16.7 L54.6,16.7 M575.0,16.7 L566.0,16.7  '/>\t<g transform=\"translate(37.3,21.2)\" stroke=\"none\" fill=\"black\" font-family=\"Arial\" font-size=\"12.00\"  text-anchor=\"end\">\n",
       "\t\t<text><tspan font-family=\"Arial\" > 18</tspan></text>\n",
       "\t</g>\n",
       "</g>\n",
       "<g fill=\"none\" color=\"black\" stroke=\"currentColor\" stroke-width=\"1.00\" stroke-linecap=\"butt\" stroke-linejoin=\"miter\">\n",
       "\t<path stroke='black'  d='M45.6,444.0 L45.6,435.0 M45.6,16.7 L45.6,25.7  '/>\t<g transform=\"translate(45.6,466.5)\" stroke=\"none\" fill=\"black\" font-family=\"Arial\" font-size=\"12.00\"  text-anchor=\"middle\">\n",
       "\t\t<text><tspan font-family=\"Arial\" >10:30</tspan></text>\n",
       "\t</g>\n",
       "</g>\n",
       "<g fill=\"none\" color=\"black\" stroke=\"currentColor\" stroke-width=\"1.00\" stroke-linecap=\"butt\" stroke-linejoin=\"miter\">\n",
       "\t<path stroke='black'  d='M56.2,444.0 L56.2,439.5 M56.2,16.7 L56.2,21.2 M66.8,444.0 L66.8,439.5 M66.8,16.7 L66.8,21.2\n",
       "\t\tM77.4,444.0 L77.4,439.5 M77.4,16.7 L77.4,21.2 M88.0,444.0 L88.0,439.5 M88.0,16.7 L88.0,21.2\n",
       "\t\tM98.5,444.0 L98.5,435.0 M98.5,16.7 L98.5,25.7  '/>\t<g transform=\"translate(98.5,466.5)\" stroke=\"none\" fill=\"black\" font-family=\"Arial\" font-size=\"12.00\"  text-anchor=\"middle\">\n",
       "\t\t<text><tspan font-family=\"Arial\" >11:00</tspan></text>\n",
       "\t</g>\n",
       "</g>\n",
       "<g fill=\"none\" color=\"black\" stroke=\"currentColor\" stroke-width=\"1.00\" stroke-linecap=\"butt\" stroke-linejoin=\"miter\">\n",
       "\t<path stroke='black'  d='M109.1,444.0 L109.1,439.5 M109.1,16.7 L109.1,21.2 M119.7,444.0 L119.7,439.5 M119.7,16.7 L119.7,21.2\n",
       "\t\tM130.3,444.0 L130.3,439.5 M130.3,16.7 L130.3,21.2 M140.9,444.0 L140.9,439.5 M140.9,16.7 L140.9,21.2\n",
       "\t\tM151.5,444.0 L151.5,435.0 M151.5,16.7 L151.5,25.7  '/>\t<g transform=\"translate(151.5,466.5)\" stroke=\"none\" fill=\"black\" font-family=\"Arial\" font-size=\"12.00\"  text-anchor=\"middle\">\n",
       "\t\t<text><tspan font-family=\"Arial\" >11:30</tspan></text>\n",
       "\t</g>\n",
       "</g>\n",
       "<g fill=\"none\" color=\"black\" stroke=\"currentColor\" stroke-width=\"1.00\" stroke-linecap=\"butt\" stroke-linejoin=\"miter\">\n",
       "\t<path stroke='black'  d='M162.1,444.0 L162.1,439.5 M162.1,16.7 L162.1,21.2 M172.7,444.0 L172.7,439.5 M172.7,16.7 L172.7,21.2\n",
       "\t\tM183.2,444.0 L183.2,439.5 M183.2,16.7 L183.2,21.2 M193.8,444.0 L193.8,439.5 M193.8,16.7 L193.8,21.2\n",
       "\t\tM204.4,444.0 L204.4,435.0 M204.4,16.7 L204.4,25.7  '/>\t<g transform=\"translate(204.4,466.5)\" stroke=\"none\" fill=\"black\" font-family=\"Arial\" font-size=\"12.00\"  text-anchor=\"middle\">\n",
       "\t\t<text><tspan font-family=\"Arial\" >12:00</tspan></text>\n",
       "\t</g>\n",
       "</g>\n",
       "<g fill=\"none\" color=\"black\" stroke=\"currentColor\" stroke-width=\"1.00\" stroke-linecap=\"butt\" stroke-linejoin=\"miter\">\n",
       "\t<path stroke='black'  d='M215.0,444.0 L215.0,439.5 M215.0,16.7 L215.0,21.2 M225.6,444.0 L225.6,439.5 M225.6,16.7 L225.6,21.2\n",
       "\t\tM236.2,444.0 L236.2,439.5 M236.2,16.7 L236.2,21.2 M246.8,444.0 L246.8,439.5 M246.8,16.7 L246.8,21.2\n",
       "\t\tM257.4,444.0 L257.4,435.0 M257.4,16.7 L257.4,25.7  '/>\t<g transform=\"translate(257.4,466.5)\" stroke=\"none\" fill=\"black\" font-family=\"Arial\" font-size=\"12.00\"  text-anchor=\"middle\">\n",
       "\t\t<text><tspan font-family=\"Arial\" >12:30</tspan></text>\n",
       "\t</g>\n",
       "</g>\n",
       "<g fill=\"none\" color=\"black\" stroke=\"currentColor\" stroke-width=\"1.00\" stroke-linecap=\"butt\" stroke-linejoin=\"miter\">\n",
       "\t<path stroke='black'  d='M267.9,444.0 L267.9,439.5 M267.9,16.7 L267.9,21.2 M278.5,444.0 L278.5,439.5 M278.5,16.7 L278.5,21.2\n",
       "\t\tM289.1,444.0 L289.1,439.5 M289.1,16.7 L289.1,21.2 M299.7,444.0 L299.7,439.5 M299.7,16.7 L299.7,21.2\n",
       "\t\tM310.3,444.0 L310.3,435.0 M310.3,16.7 L310.3,25.7  '/>\t<g transform=\"translate(310.3,466.5)\" stroke=\"none\" fill=\"black\" font-family=\"Arial\" font-size=\"12.00\"  text-anchor=\"middle\">\n",
       "\t\t<text><tspan font-family=\"Arial\" >13:00</tspan></text>\n",
       "\t</g>\n",
       "</g>\n",
       "<g fill=\"none\" color=\"black\" stroke=\"currentColor\" stroke-width=\"1.00\" stroke-linecap=\"butt\" stroke-linejoin=\"miter\">\n",
       "\t<path stroke='black'  d='M320.9,444.0 L320.9,439.5 M320.9,16.7 L320.9,21.2 M331.5,444.0 L331.5,439.5 M331.5,16.7 L331.5,21.2\n",
       "\t\tM342.1,444.0 L342.1,439.5 M342.1,16.7 L342.1,21.2 M352.7,444.0 L352.7,439.5 M352.7,16.7 L352.7,21.2\n",
       "\t\tM363.2,444.0 L363.2,435.0 M363.2,16.7 L363.2,25.7  '/>\t<g transform=\"translate(363.2,466.5)\" stroke=\"none\" fill=\"black\" font-family=\"Arial\" font-size=\"12.00\"  text-anchor=\"middle\">\n",
       "\t\t<text><tspan font-family=\"Arial\" >13:30</tspan></text>\n",
       "\t</g>\n",
       "</g>\n",
       "<g fill=\"none\" color=\"black\" stroke=\"currentColor\" stroke-width=\"1.00\" stroke-linecap=\"butt\" stroke-linejoin=\"miter\">\n",
       "\t<path stroke='black'  d='M373.8,444.0 L373.8,439.5 M373.8,16.7 L373.8,21.2 M384.4,444.0 L384.4,439.5 M384.4,16.7 L384.4,21.2\n",
       "\t\tM395.0,444.0 L395.0,439.5 M395.0,16.7 L395.0,21.2 M405.6,444.0 L405.6,439.5 M405.6,16.7 L405.6,21.2\n",
       "\t\tM416.2,444.0 L416.2,435.0 M416.2,16.7 L416.2,25.7  '/>\t<g transform=\"translate(416.2,466.5)\" stroke=\"none\" fill=\"black\" font-family=\"Arial\" font-size=\"12.00\"  text-anchor=\"middle\">\n",
       "\t\t<text><tspan font-family=\"Arial\" >14:00</tspan></text>\n",
       "\t</g>\n",
       "</g>\n",
       "<g fill=\"none\" color=\"black\" stroke=\"currentColor\" stroke-width=\"1.00\" stroke-linecap=\"butt\" stroke-linejoin=\"miter\">\n",
       "\t<path stroke='black'  d='M426.8,444.0 L426.8,439.5 M426.8,16.7 L426.8,21.2 M437.4,444.0 L437.4,439.5 M437.4,16.7 L437.4,21.2\n",
       "\t\tM447.9,444.0 L447.9,439.5 M447.9,16.7 L447.9,21.2 M458.5,444.0 L458.5,439.5 M458.5,16.7 L458.5,21.2\n",
       "\t\tM469.1,444.0 L469.1,435.0 M469.1,16.7 L469.1,25.7  '/>\t<g transform=\"translate(469.1,466.5)\" stroke=\"none\" fill=\"black\" font-family=\"Arial\" font-size=\"12.00\"  text-anchor=\"middle\">\n",
       "\t\t<text><tspan font-family=\"Arial\" >14:30</tspan></text>\n",
       "\t</g>\n",
       "</g>\n",
       "<g fill=\"none\" color=\"black\" stroke=\"currentColor\" stroke-width=\"1.00\" stroke-linecap=\"butt\" stroke-linejoin=\"miter\">\n",
       "\t<path stroke='black'  d='M479.7,444.0 L479.7,439.5 M479.7,16.7 L479.7,21.2 M490.3,444.0 L490.3,439.5 M490.3,16.7 L490.3,21.2\n",
       "\t\tM500.9,444.0 L500.9,439.5 M500.9,16.7 L500.9,21.2 M511.5,444.0 L511.5,439.5 M511.5,16.7 L511.5,21.2\n",
       "\t\tM522.1,444.0 L522.1,435.0 M522.1,16.7 L522.1,25.7  '/>\t<g transform=\"translate(522.1,466.5)\" stroke=\"none\" fill=\"black\" font-family=\"Arial\" font-size=\"12.00\"  text-anchor=\"middle\">\n",
       "\t\t<text><tspan font-family=\"Arial\" >15:00</tspan></text>\n",
       "\t</g>\n",
       "</g>\n",
       "<g fill=\"none\" color=\"black\" stroke=\"currentColor\" stroke-width=\"1.00\" stroke-linecap=\"butt\" stroke-linejoin=\"miter\">\n",
       "\t<path stroke='black'  d='M532.6,444.0 L532.6,439.5 M532.6,16.7 L532.6,21.2 M543.2,444.0 L543.2,439.5 M543.2,16.7 L543.2,21.2\n",
       "\t\tM553.8,444.0 L553.8,439.5 M553.8,16.7 L553.8,21.2 M564.4,444.0 L564.4,439.5 M564.4,16.7 L564.4,21.2\n",
       "\t\tM575.0,444.0 L575.0,435.0 M575.0,16.7 L575.0,25.7  '/>\t<g transform=\"translate(575.0,466.5)\" stroke=\"none\" fill=\"black\" font-family=\"Arial\" font-size=\"12.00\"  text-anchor=\"middle\">\n",
       "\t\t<text><tspan font-family=\"Arial\" >15:30</tspan></text>\n",
       "\t</g>\n",
       "</g>\n",
       "<g fill=\"none\" color=\"black\" stroke=\"currentColor\" stroke-width=\"1.00\" stroke-linecap=\"butt\" stroke-linejoin=\"miter\">\n",
       "</g>\n",
       "<g fill=\"none\" color=\"black\" stroke=\"currentColor\" stroke-width=\"1.00\" stroke-linecap=\"butt\" stroke-linejoin=\"miter\">\n",
       "\t<path stroke='black'  d='M45.6,16.7 L45.6,444.0 L575.0,444.0 L575.0,16.7 L45.6,16.7 Z  '/></g>\n",
       "<g fill=\"none\" color=\"black\" stroke=\"currentColor\" stroke-width=\"1.00\" stroke-linecap=\"butt\" stroke-linejoin=\"miter\">\n",
       "</g>\n",
       "\t<g id=\"gnuplot_plot_1\" ><title>NOx</title>\n",
       "<g fill=\"none\" color=\"black\" stroke=\"currentColor\" stroke-width=\"1.00\" stroke-linecap=\"butt\" stroke-linejoin=\"miter\">\n",
       "\t<g transform=\"translate(507.9,39.2)\" stroke=\"none\" fill=\"black\" font-family=\"Arial\" font-size=\"12.00\"  text-anchor=\"end\">\n",
       "\t\t<text><tspan font-family=\"Arial\" >NO</tspan><tspan font-family=\"Arial\"  font-size=\"9.6\" dy=\"3.60px\">x</tspan><tspan font-size=\"12.0\" dy=\"-3.60\"></tspan></text>\n",
       "\t</g>\n",
       "</g>\n",
       "<g fill=\"none\" color=\"black\" stroke=\"currentColor\" stroke-width=\"1.00\" stroke-linecap=\"butt\" stroke-linejoin=\"miter\">\n",
       "\t<path stroke='rgb(148,   0, 211)'  d='M516.2,34.7 L558.4,34.7 M70.2,58.1 L74.3,23.8 L78.5,97.9 L82.6,222.8 L86.8,263.3 L91.0,257.4\n",
       "\t\tL95.1,254.5 L99.2,273.3 L103.4,240.7 L107.6,278.5 L111.7,322.5 L115.9,209.4 L120.0,266.3 L124.2,298.6\n",
       "\t\tL128.3,321.5 L132.5,326.4 L136.7,326.7 L140.8,324.8 L145.0,347.2 L149.1,357.1 L153.3,351.8 L157.4,353.0\n",
       "\t\tL161.6,364.6 L165.7,367.4 L169.9,367.7 L174.1,373.6 L178.2,353.1 L182.4,361.3 L186.5,369.9 L190.7,338.6\n",
       "\t\tL194.8,333.7 L199.0,321.0 L203.2,264.2 L207.3,312.0 L211.4,364.9 L215.6,236.0 L219.8,186.6 L223.9,46.6\n",
       "\t\tL228.1,169.6 L232.2,243.2 L236.4,219.8 L240.6,72.9 L244.7,101.4 L248.9,259.8 L253.0,256.8 L257.2,213.9\n",
       "\t\tL261.3,222.4 L265.5,306.0 L269.7,132.8 L273.8,307.0 L277.9,354.2 L282.1,339.0 L286.3,275.5 L290.4,325.7\n",
       "\t\tL294.6,175.6 L298.7,260.1 L302.9,208.2 L307.1,285.2 L311.2,346.3 L315.4,251.6 L319.5,217.9 L323.7,272.0\n",
       "\t\tL327.8,264.1 L332.0,349.2 L336.2,376.1 L340.3,382.7 L344.4,381.2 L348.6,384.4 L352.8,378.0 L356.9,347.0\n",
       "\t\tL361.1,377.4 L365.2,397.0 L369.4,391.3 L373.5,381.8 L377.7,362.0 L381.9,332.7 L386.0,390.9 L390.2,395.2\n",
       "\t\tL394.3,367.1 L398.5,373.1 L402.7,355.4 L406.8,362.4 L410.9,386.7 L415.1,393.2 L419.3,392.8 L423.4,379.3\n",
       "\t\tL427.6,360.3 L431.8,377.6 L435.9,394.5 L440.1,351.1 L444.2,365.0 L448.4,373.9 L452.6,377.5 L456.7,368.0\n",
       "\t\tL460.9,351.7 L465.0,346.2 L469.2,375.8 L473.3,383.3 L477.5,393.6 L481.6,371.7 L485.8,371.4 L489.9,397.4\n",
       "\t\tL494.1,387.5 L498.2,364.0 L502.4,360.3 L506.6,359.2 L510.7,386.9 L514.9,350.2 L519.0,323.2 L523.1,342.0\n",
       "\t\tL527.3,362.2 L531.5,363.9 L535.6,336.1 L539.8,331.5 L543.9,238.4 L548.1,313.2 L552.2,349.4 L556.4,367.3\n",
       "\t\tL560.5,346.9 L564.7,381.6 L568.8,366.3 L573.0,356.2  '/></g>\n",
       "\t</g>\n",
       "\t<g id=\"gnuplot_plot_2\" ><title>NO2</title>\n",
       "<g fill=\"none\" color=\"black\" stroke=\"currentColor\" stroke-width=\"1.00\" stroke-linecap=\"butt\" stroke-linejoin=\"miter\">\n",
       "\t<g transform=\"translate(507.9,57.2)\" stroke=\"none\" fill=\"black\" font-family=\"Arial\" font-size=\"12.00\"  text-anchor=\"end\">\n",
       "\t\t<text><tspan font-family=\"Arial\" >NO</tspan><tspan font-family=\"Arial\"  font-size=\"9.6\" dy=\"3.60px\">2</tspan><tspan font-size=\"12.0\" dy=\"-3.60\"></tspan></text>\n",
       "\t</g>\n",
       "</g>\n",
       "<g fill=\"none\" color=\"black\" stroke=\"currentColor\" stroke-width=\"1.00\" stroke-linecap=\"butt\" stroke-linejoin=\"miter\">\n",
       "\t<path stroke='rgb(  0, 158, 115)'  d='M516.2,52.7 L558.4,52.7 M68.1,255.1 L72.2,49.0 L76.4,76.7 L80.5,198.6 L84.7,259.7 L88.9,248.8\n",
       "\t\tL93.0,235.8 L97.2,281.6 L101.3,275.5 L105.5,282.0 L109.6,293.4 L113.8,325.5 L118.0,296.4 L122.1,291.0\n",
       "\t\tL126.2,331.2 L130.4,338.9 L134.6,332.8 L138.7,326.1 L142.9,369.1 L147.0,354.7 L151.2,347.1 L155.3,346.8\n",
       "\t\tL159.5,362.1 L163.7,362.8 L167.8,367.4 L172.0,365.2 L176.1,368.3 L180.3,358.6 L184.4,362.7 L188.6,367.5\n",
       "\t\tL192.7,341.1 L196.9,316.7 L201.1,288.5 L205.2,340.1 L209.4,361.9 L213.5,305.8 L217.7,288.1 L221.8,305.4\n",
       "\t\tL226.0,269.6 L230.2,284.1 L234.3,290.3 L238.5,261.7 L242.6,269.7 L246.8,240.3 L250.9,268.2 L255.1,199.8\n",
       "\t\tL259.2,268.4 L263.4,326.2 L267.6,278.1 L271.7,290.5 L275.9,299.6 L280.0,342.5 L284.2,246.2 L288.3,299.1\n",
       "\t\tL292.5,230.2 L296.7,319.0 L300.8,316.9 L304.9,268.9 L309.1,365.6 L313.3,337.1 L317.4,304.4 L321.6,331.5\n",
       "\t\tL325.7,344.1 L329.9,347.0 L334.1,390.9 L338.2,388.3 L342.4,388.3 L346.5,392.4 L350.7,399.0 L354.8,385.4\n",
       "\t\tL359.0,389.8 L363.2,399.0 L367.3,389.8 L371.4,384.7 L375.6,387.2 L379.8,364.9 L383.9,368.9 L388.1,402.2\n",
       "\t\tL392.2,381.4 L396.4,367.4 L400.6,365.2 L404.7,358.4 L408.9,396.3 L413.0,386.2 L417.2,402.9 L421.4,390.7\n",
       "\t\tL425.5,380.7 L429.7,360.1 L433.8,377.2 L438.0,386.4 L442.2,369.2 L446.3,368.9 L450.4,380.2 L454.6,385.8\n",
       "\t\tL458.8,375.7 L462.9,346.3 L467.1,375.3 L471.2,387.4 L475.4,392.9 L479.6,383.8 L483.7,366.4 L487.9,379.8\n",
       "\t\tL492.0,405.1 L496.2,380.9 L500.3,369.2 L504.5,367.6 L508.6,392.2 L512.8,353.9 L516.9,346.1 L521.1,358.0\n",
       "\t\tL525.2,352.6 L529.4,378.3 L533.5,371.8 L537.7,347.2 L541.8,326.4 L546.0,287.5 L550.1,355.7 L554.3,370.2\n",
       "\t\tL558.4,367.1 L562.6,370.2 L566.7,370.6 L570.9,354.3  '/></g>\n",
       "\t</g>\n",
       "<g fill=\"none\" color=\"white\" stroke=\"rgb(  0, 158, 115)\" stroke-width=\"2.00\" stroke-linecap=\"butt\" stroke-linejoin=\"miter\">\n",
       "</g>\n",
       "<g fill=\"none\" color=\"black\" stroke=\"currentColor\" stroke-width=\"2.00\" stroke-linecap=\"butt\" stroke-linejoin=\"miter\">\n",
       "</g>\n",
       "<g fill=\"none\" color=\"black\" stroke=\"black\" stroke-width=\"1.00\" stroke-linecap=\"butt\" stroke-linejoin=\"miter\">\n",
       "</g>\n",
       "<g fill=\"none\" color=\"black\" stroke=\"currentColor\" stroke-width=\"1.00\" stroke-linecap=\"butt\" stroke-linejoin=\"miter\">\n",
       "\t<path stroke='black'  d='M45.6,16.7 L45.6,444.0 L575.0,444.0 L575.0,16.7 L45.6,16.7 Z  '/></g>\n",
       "<g fill=\"none\" color=\"black\" stroke=\"currentColor\" stroke-width=\"1.00\" stroke-linecap=\"butt\" stroke-linejoin=\"miter\">\n",
       "</g>\n",
       "</g>\n",
       "</svg>\n",
       "\n"
      ],
      "text/plain": [
       "#<GnuplotRB::Plot:0x00000002d43710 @options=Hamster::Hash[:xdata => \"time\", :format_x => \"%H:%M\", :timefmt => \"%Y-%m-%dT%H:%M:%S\"], @datasets=Hamster::Vector[#<GnuplotRB::Dataset:0x00000002d43490 @type=:datablock, @data=#<GnuplotRB::Datablock:0x00000002d431e8 @stored_in_file=false, @data=\"2016-02-22T10:42:44+01:00 \\n2016-02-22T10:43:55+01:00 16.2566628142127\\n2016-02-22T10:45:06+01:00 \\n2016-02-22T10:46:16+01:00 17.7000032436948\\n2016-02-22T10:47:27+01:00 \\n2016-02-22T10:48:38+01:00 14.5806201843574\\n2016-02-22T10:49:48+01:00 \\n2016-02-22T10:50:59+01:00 9.31928458200006\\n2016-02-22T10:52:09+01:00 \\n2016-02-22T10:53:20+01:00 7.61290572865782\\n2016-02-22T10:54:31+01:00 \\n2016-02-22T10:55:42+01:00 7.86010113090216\\n2016-02-22T10:56:52+01:00 \\n2016-02-22T10:58:03+01:00 7.98306311536912\\n2016-02-22T10:59:13+01:00 \\n2016-02-22T11:00:24+01:00 7.19230678570122\\n2016-02-22T11:01:35+01:00 \\n2016-02-22T11:02:46+01:00 8.56235928577591\\n2016-02-22T11:03:56+01:00 \\n2016-02-22T11:05:07+01:00 6.97333779930977\\n2016-02-22T11:06:17+01:00 \\n2016-02-22T11:07:28+01:00 5.11756494307584\\n2016-02-22T11:08:39+01:00 \\n2016-02-22T11:09:50+01:00 9.88454513617448\\n2016-02-22T11:11:00+01:00 \\n2016-02-22T11:12:11+01:00 7.48535320438877\\n2016-02-22T11:13:21+01:00 \\n2016-02-22T11:14:32+01:00 6.12539151408156\\n2016-02-22T11:15:42+01:00 \\n2016-02-22T11:16:53+01:00 5.16110328752638\\n2016-02-22T11:18:04+01:00 \\n2016-02-22T11:19:15+01:00 4.95540240074262\\n2016-02-22T11:20:25+01:00 \\n2016-02-22T11:21:36+01:00 4.93992434171524\\n2016-02-22T11:22:46+01:00 \\n2016-02-22T11:23:57+01:00 5.01989616330414\\n2016-02-22T11:25:08+01:00 \\n2016-02-22T11:26:19+01:00 4.0795099764535\\n2016-02-22T11:27:29+01:00 \\n2016-02-22T11:28:40+01:00 3.66215688287245\\n2016-02-22T11:29:50+01:00 \\n2016-02-22T11:31:01+01:00 3.8832020303479\\n2016-02-22T11:32:11+01:00 \\n2016-02-22T11:33:22+01:00 3.83290181823941\\n2016-02-22T11:34:33+01:00 \\n2016-02-22T11:35:44+01:00 3.34465014193725\\n2016-02-22T11:36:54+01:00 \\n2016-02-22T11:38:05+01:00 3.22810079133601\\n2016-02-22T11:39:15+01:00 \\n2016-02-22T11:40:26+01:00 3.21416666729168\\n2016-02-22T11:41:37+01:00 \\n2016-02-22T11:42:48+01:00 2.96545356616276\\n2016-02-22T11:43:58+01:00 \\n2016-02-22T11:45:09+01:00 3.82893321831765\\n2016-02-22T11:46:19+01:00 \\n2016-02-22T11:47:30+01:00 3.48241402804186\\n2016-02-22T11:48:41+01:00 \\n2016-02-22T11:49:52+01:00 3.12255784682627\\n2016-02-22T11:51:02+01:00 \\n2016-02-22T11:52:13+01:00 4.4386981678401\\n2016-02-22T11:53:23+01:00 \\n2016-02-22T11:54:34+01:00 4.64794768577698\\n2016-02-22T11:55:44+01:00 \\n2016-02-22T11:56:56+01:00 5.18234577798649\\n2016-02-22T11:58:06+01:00 \\n2016-02-22T11:59:17+01:00 7.57281023681855\\n2016-02-22T12:00:27+01:00 \\n2016-02-22T12:01:38+01:00 5.56214468591484\\n2016-02-22T12:02:48+01:00 \\n2016-02-22T12:03:59+01:00 3.33380898986464\\n2016-02-22T12:05:10+01:00 \\n2016-02-22T12:06:21+01:00 8.7601029132915\\n2016-02-22T12:07:31+01:00 \\n2016-02-22T12:08:42+01:00 10.8450278597948\\n2016-02-22T12:09:52+01:00 \\n2016-02-22T12:11:03+01:00 16.739007364734\\n2016-02-22T12:12:14+01:00 \\n2016-02-22T12:13:25+01:00 11.5580003237772\\n2016-02-22T12:14:35+01:00 \\n2016-02-22T12:15:46+01:00 8.45874543944501\\n2016-02-22T12:16:56+01:00 \\n2016-02-22T12:18:07+01:00 9.44322173707756\\n2016-02-22T12:19:18+01:00 \\n2016-02-22T12:20:29+01:00 15.63214040275\\n2016-02-22T12:21:39+01:00 \\n2016-02-22T12:22:50+01:00 14.4327613255268\\n2016-02-22T12:24:00+01:00 \\n2016-02-22T12:25:11+01:00 7.76055061321214\\n2016-02-22T12:26:21+01:00 \\n2016-02-22T12:27:33+01:00 7.88586363004961\\n2016-02-22T12:28:43+01:00 \\n2016-02-22T12:29:54+01:00 9.69186580284268\\n2016-02-22T12:31:04+01:00 \\n2016-02-22T12:32:15+01:00 9.33359557823227\\n2016-02-22T12:33:25+01:00 \\n2016-02-22T12:34:37+01:00 5.81268186902712\\n2016-02-22T12:35:47+01:00 \\n2016-02-22T12:36:58+01:00 13.1075123872538\\n2016-02-22T12:38:08+01:00 \\n2016-02-22T12:39:19+01:00 5.76943001297124\\n2016-02-22T12:40:29+01:00 \\n2016-02-22T12:41:40+01:00 3.7829630968139\\n2016-02-22T12:42:51+01:00 \\n2016-02-22T12:44:02+01:00 4.42297527566331\\n2016-02-22T12:45:12+01:00 \\n2016-02-22T12:46:23+01:00 7.09695895817016\\n2016-02-22T12:47:33+01:00 \\n2016-02-22T12:48:44+01:00 4.98292135663907\\n2016-02-22T12:49:54+01:00 \\n2016-02-22T12:51:06+01:00 11.3051909923414\\n2016-02-22T12:52:16+01:00 \\n2016-02-22T12:53:27+01:00 7.74485165936691\\n2016-02-22T12:54:37+01:00 \\n2016-02-22T12:55:48+01:00 9.93135487617975\\n2016-02-22T12:56:58+01:00 \\n2016-02-22T12:58:10+01:00 6.68992198519914\\n2016-02-22T12:59:20+01:00 \\n2016-02-22T13:00:31+01:00 4.11505963726509\\n2016-02-22T13:01:41+01:00 \\n2016-02-22T13:02:52+01:00 8.10328782636127\\n2016-02-22T13:04:03+01:00 \\n2016-02-22T13:05:14+01:00 9.52642017181681\\n2016-02-22T13:06:24+01:00 \\n2016-02-22T13:07:35+01:00 7.24442590144223\\n2016-02-22T13:08:45+01:00 \\n2016-02-22T13:09:56+01:00 7.57660351727626\\n2016-02-22T13:11:06+01:00 \\n2016-02-22T13:12:17+01:00 3.99500653563718\\n2016-02-22T13:13:28+01:00 \\n2016-02-22T13:14:39+01:00 2.86150046074182\\n2016-02-22T13:15:49+01:00 \\n2016-02-22T13:17:00+01:00 2.5817855067742\\n2016-02-22T13:18:10+01:00 \\n2016-02-22T13:19:21+01:00 2.64626737013539\\n2016-02-22T13:20:32+01:00 \\n2016-02-22T13:21:43+01:00 2.51222373696422\\n2016-02-22T13:22:53+01:00 \\n2016-02-22T13:24:04+01:00 2.77867550304431\\n2016-02-22T13:25:14+01:00 \\n2016-02-22T13:26:25+01:00 4.08436283950676\\n2016-02-22T13:27:36+01:00 \\n2016-02-22T13:28:47+01:00 2.8064038328191\\n2016-02-22T13:29:57+01:00 \\n2016-02-22T13:31:08+01:00 1.97836676939681\\n2016-02-22T13:32:18+01:00 \\n2016-02-22T13:33:29+01:00 2.22167873129274\\n2016-02-22T13:34:39+01:00 \\n2016-02-22T13:35:50+01:00 2.62174910983095\\n2016-02-22T13:37:01+01:00 \\n2016-02-22T13:38:12+01:00 3.4549322190858\\n2016-02-22T13:39:22+01:00 \\n2016-02-22T13:40:33+01:00 4.68936675967136\\n2016-02-22T13:41:43+01:00 \\n2016-02-22T13:42:54+01:00 2.23700581027795\\n2016-02-22T13:44:05+01:00 \\n2016-02-22T13:45:16+01:00 2.05672437176519\\n2016-02-22T13:46:26+01:00 \\n2016-02-22T13:47:37+01:00 3.24096192617907\\n2016-02-22T13:48:47+01:00 \\n2016-02-22T13:49:58+01:00 2.98727800949966\\n2016-02-22T13:51:09+01:00 \\n2016-02-22T13:52:20+01:00 3.73129256290231\\n2016-02-22T13:53:30+01:00 \\n2016-02-22T13:54:41+01:00 3.43732323481691\\n2016-02-22T13:55:51+01:00 \\n2016-02-22T13:57:02+01:00 2.41329555205729\\n2016-02-22T13:58:13+01:00 \\n2016-02-22T13:59:24+01:00 2.13804710663139\\n2016-02-22T14:00:34+01:00 \\n2016-02-22T14:01:45+01:00 2.15704069929992\\n2016-02-22T14:02:56+01:00 \\n2016-02-22T14:04:07+01:00 2.72395557064455\\n2016-02-22T14:05:17+01:00 \\n2016-02-22T14:06:28+01:00 3.52452180179672\\n2016-02-22T14:07:38+01:00 \\n2016-02-22T14:08:50+01:00 2.79519556223191\\n2016-02-22T14:10:00+01:00 \\n2016-02-22T14:11:11+01:00 2.08554944968976\\n2016-02-22T14:12:21+01:00 \\n2016-02-22T14:13:32+01:00 3.91286454933138\\n2016-02-22T14:14:43+01:00 \\n2016-02-22T14:15:54+01:00 3.32920104273086\\n2016-02-22T14:17:04+01:00 \\n2016-02-22T14:18:15+01:00 2.95139335772717\\n2016-02-22T14:19:25+01:00 \\n2016-02-22T14:20:37+01:00 2.8019141466398\\n2016-02-22T14:21:47+01:00 \\n2016-02-22T14:22:58+01:00 3.20323942738144\\n2016-02-22T14:24:08+01:00 \\n2016-02-22T14:25:19+01:00 3.8900686264942\\n2016-02-22T14:26:29+01:00 \\n2016-02-22T14:27:41+01:00 4.11903360749046\\n2016-02-22T14:28:51+01:00 \\n2016-02-22T14:30:02+01:00 2.8746202160918\\n2016-02-22T14:31:12+01:00 \\n2016-02-22T14:32:23+01:00 2.55489161623258\\n2016-02-22T14:33:34+01:00 \\n2016-02-22T14:34:45+01:00 2.12328082084011\\n2016-02-22T14:35:55+01:00 \\n2016-02-22T14:37:06+01:00 3.04376736206515\\n2016-02-22T14:38:16+01:00 \\n2016-02-22T14:39:27+01:00 3.05909977975846\\n2016-02-22T14:40:37+01:00 \\n2016-02-22T14:41:48+01:00 1.96208110413129\\n2016-02-22T14:42:58+01:00 \\n2016-02-22T14:44:09+01:00 2.38087147086466\\n2016-02-22T14:45:20+01:00 \\n2016-02-22T14:46:30+01:00 3.37089298998369\\n2016-02-22T14:47:41+01:00 \\n2016-02-22T14:48:52+01:00 3.52416190336936\\n2016-02-22T14:50:02+01:00 \\n2016-02-22T14:51:13+01:00 3.57157309862845\\n2016-02-22T14:52:23+01:00 \\n2016-02-22T14:53:34+01:00 2.40432724204761\\n2016-02-22T14:54:44+01:00 \\n2016-02-22T14:55:55+01:00 3.94972984186012\\n2016-02-22T14:57:05+01:00 \\n2016-02-22T14:58:16+01:00 5.08992410445429\\n2016-02-22T14:59:26+01:00 \\n2016-02-22T15:00:37+01:00 4.29698414486879\\n2016-02-22T15:01:48+01:00 \\n2016-02-22T15:02:59+01:00 3.44699483135197\\n2016-02-22T15:04:09+01:00 \\n2016-02-22T15:05:20+01:00 3.37473873067137\\n2016-02-22T15:06:30+01:00 \\n2016-02-22T15:07:41+01:00 4.54704464542608\\n2016-02-22T15:08:51+01:00 \\n2016-02-22T15:10:02+01:00 4.73716363891684\\n2016-02-22T15:11:12+01:00 \\n2016-02-22T15:12:23+01:00 8.66089679046487\\n2016-02-22T15:13:33+01:00 \\n2016-02-22T15:14:44+01:00 5.51170103768669\\n2016-02-22T15:15:54+01:00 \\n2016-02-22T15:17:05+01:00 3.98687423815742\\n2016-02-22T15:18:16+01:00 \\n2016-02-22T15:19:27+01:00 3.22937624474153\\n2016-02-22T15:20:37+01:00 \\n2016-02-22T15:21:48+01:00 4.09123250178226\\n2016-02-22T15:22:58+01:00 \\n2016-02-22T15:24:09+01:00 2.63051270351495\\n2016-02-22T15:25:19+01:00 \\n2016-02-22T15:26:30+01:00 3.27485283389549\\n2016-02-22T15:27:40+01:00 \\n2016-02-22T15:28:51+01:00 3.69760121906771\\n\">, @options=Hamster::Hash[:with => \"lines\", :title => \"NO_x\", :using => \"1:2\"]>, #<GnuplotRB::Dataset:0x00000002cc15f8 @type=:datablock, @data=#<GnuplotRB::Datablock:0x00000002cc0d60 @stored_in_file=false, @data=\"2016-02-22T10:42:44+01:00 7.95658889551521\\n2016-02-22T10:43:55+01:00 \\n2016-02-22T10:45:06+01:00 16.6386278944012\\n2016-02-22T10:46:16+01:00 \\n2016-02-22T10:47:27+01:00 15.4715572588364\\n2016-02-22T10:48:38+01:00 \\n2016-02-22T10:49:48+01:00 10.3371454344813\\n2016-02-22T10:50:59+01:00 \\n2016-02-22T10:52:09+01:00 7.76439267204199\\n2016-02-22T10:53:20+01:00 \\n2016-02-22T10:54:31+01:00 8.22372591963879\\n2016-02-22T10:55:42+01:00 \\n2016-02-22T10:56:52+01:00 8.77006511051605\\n2016-02-22T10:58:03+01:00 \\n2016-02-22T10:59:13+01:00 6.83990778304731\\n2016-02-22T11:00:24+01:00 \\n2016-02-22T11:01:35+01:00 7.09660748453661\\n2016-02-22T11:02:46+01:00 \\n2016-02-22T11:03:56+01:00 6.82570684848646\\n2016-02-22T11:05:07+01:00 \\n2016-02-22T11:06:17+01:00 6.34421915249737\\n2016-02-22T11:07:28+01:00 \\n2016-02-22T11:08:39+01:00 4.9913551689156\\n2016-02-22T11:09:50+01:00 \\n2016-02-22T11:11:00+01:00 6.21679568557434\\n2016-02-22T11:12:11+01:00 \\n2016-02-22T11:13:21+01:00 6.44507800925106\\n2016-02-22T11:14:32+01:00 \\n2016-02-22T11:15:42+01:00 4.75350594280904\\n2016-02-22T11:16:53+01:00 \\n2016-02-22T11:18:04+01:00 4.4270181155343\\n2016-02-22T11:19:15+01:00 \\n2016-02-22T11:20:25+01:00 4.68273315743502\\n2016-02-22T11:21:36+01:00 \\n2016-02-22T11:22:46+01:00 4.96750536910625\\n2016-02-22T11:23:57+01:00 \\n2016-02-22T11:25:08+01:00 3.15466478598738\\n2016-02-22T11:26:19+01:00 \\n2016-02-22T11:27:29+01:00 3.76079402428521\\n2016-02-22T11:28:40+01:00 \\n2016-02-22T11:29:50+01:00 4.082471020101\\n2016-02-22T11:31:01+01:00 \\n2016-02-22T11:32:11+01:00 4.09270952052947\\n2016-02-22T11:33:22+01:00 \\n2016-02-22T11:34:33+01:00 3.45135628758725\\n2016-02-22T11:35:44+01:00 \\n2016-02-22T11:36:54+01:00 3.41917756474375\\n2016-02-22T11:38:05+01:00 \\n2016-02-22T11:39:15+01:00 3.22586198727348\\n2016-02-22T11:40:26+01:00 \\n2016-02-22T11:41:37+01:00 3.32048546398719\\n2016-02-22T11:42:48+01:00 \\n2016-02-22T11:43:58+01:00 3.19061747306849\\n2016-02-22T11:45:09+01:00 \\n2016-02-22T11:46:19+01:00 3.59882165969188\\n2016-02-22T11:47:30+01:00 \\n2016-02-22T11:48:41+01:00 3.42539142673388\\n2016-02-22T11:49:52+01:00 \\n2016-02-22T11:51:02+01:00 3.22259455657761\\n2016-02-22T11:52:13+01:00 \\n2016-02-22T11:53:23+01:00 4.33355765518762\\n2016-02-22T11:54:34+01:00 \\n2016-02-22T11:55:44+01:00 5.36328796495499\\n2016-02-22T11:56:56+01:00 \\n2016-02-22T11:58:06+01:00 6.55099144026256\\n2016-02-22T11:59:17+01:00 \\n2016-02-22T12:00:27+01:00 4.37519887559699\\n2016-02-22T12:01:38+01:00 \\n2016-02-22T12:02:48+01:00 3.4604067877825\\n2016-02-22T12:03:59+01:00 \\n2016-02-22T12:05:10+01:00 5.8230490152787\\n2016-02-22T12:06:21+01:00 \\n2016-02-22T12:07:31+01:00 6.56875890316903\\n2016-02-22T12:08:42+01:00 \\n2016-02-22T12:09:52+01:00 5.83965378745353\\n2016-02-22T12:11:03+01:00 \\n2016-02-22T12:12:14+01:00 7.34618659586925\\n2016-02-22T12:13:25+01:00 \\n2016-02-22T12:14:35+01:00 6.73693200016847\\n2016-02-22T12:15:46+01:00 \\n2016-02-22T12:16:56+01:00 6.4727272603134\\n2016-02-22T12:18:07+01:00 \\n2016-02-22T12:19:18+01:00 7.67775210940159\\n2016-02-22T12:20:29+01:00 \\n2016-02-22T12:21:39+01:00 7.34101284595911\\n2016-02-22T12:22:50+01:00 \\n2016-02-22T12:24:00+01:00 8.57919673973617\\n2016-02-22T12:25:11+01:00 \\n2016-02-22T12:26:21+01:00 7.40523524020162\\n2016-02-22T12:27:33+01:00 \\n2016-02-22T12:28:43+01:00 10.2860473506287\\n2016-02-22T12:29:54+01:00 \\n2016-02-22T12:31:04+01:00 7.39825755843586\\n2016-02-22T12:32:15+01:00 \\n2016-02-22T12:33:25+01:00 4.96065102239101\\n2016-02-22T12:34:37+01:00 \\n2016-02-22T12:35:47+01:00 6.989305639103\\n2016-02-22T12:36:58+01:00 \\n2016-02-22T12:38:08+01:00 6.46556198832993\\n2016-02-22T12:39:19+01:00 \\n2016-02-22T12:40:29+01:00 6.08299645929176\\n2016-02-22T12:41:40+01:00 \\n2016-02-22T12:42:51+01:00 4.27580569152886\\n2016-02-22T12:44:02+01:00 \\n2016-02-22T12:45:12+01:00 8.33312385302387\\n2016-02-22T12:46:23+01:00 \\n2016-02-22T12:47:33+01:00 6.10476931006183\\n2016-02-22T12:48:44+01:00 \\n2016-02-22T12:49:54+01:00 9.00434315803976\\n2016-02-22T12:51:06+01:00 \\n2016-02-22T12:52:16+01:00 5.26607645383325\\n2016-02-22T12:53:27+01:00 \\n2016-02-22T12:54:37+01:00 5.35453520298116\\n2016-02-22T12:55:48+01:00 \\n2016-02-22T12:56:58+01:00 7.37781639934805\\n2016-02-22T12:58:10+01:00 \\n2016-02-22T12:59:20+01:00 3.30243508075538\\n2016-02-22T13:00:31+01:00 \\n2016-02-22T13:01:41+01:00 4.50204325497393\\n2016-02-22T13:02:52+01:00 \\n2016-02-22T13:04:03+01:00 5.8823640374539\\n2016-02-22T13:05:14+01:00 \\n2016-02-22T13:06:24+01:00 4.73780907457154\\n2016-02-22T13:07:35+01:00 \\n2016-02-22T13:08:45+01:00 4.20868390860937\\n2016-02-22T13:09:56+01:00 \\n2016-02-22T13:11:06+01:00 4.08808723368385\\n2016-02-22T13:12:17+01:00 \\n2016-02-22T13:13:28+01:00 2.23785695708664\\n2016-02-22T13:14:39+01:00 \\n2016-02-22T13:15:49+01:00 2.34590231523437\\n2016-02-22T13:17:00+01:00 \\n2016-02-22T13:18:10+01:00 2.34426835477005\\n2016-02-22T13:19:21+01:00 \\n2016-02-22T13:20:32+01:00 2.17261327001757\\n2016-02-22T13:21:43+01:00 \\n2016-02-22T13:22:53+01:00 1.89511532982899\\n2016-02-22T13:24:04+01:00 \\n2016-02-22T13:25:14+01:00 2.46911607928184\\n2016-02-22T13:26:25+01:00 \\n2016-02-22T13:27:36+01:00 2.28237005875528\\n2016-02-22T13:28:47+01:00 \\n2016-02-22T13:29:57+01:00 1.89502414632359\\n2016-02-22T13:31:08+01:00 \\n2016-02-22T13:32:18+01:00 2.28381863088924\\n2016-02-22T13:33:29+01:00 \\n2016-02-22T13:34:39+01:00 2.49628875584386\\n2016-02-22T13:35:50+01:00 \\n2016-02-22T13:37:01+01:00 2.39227447332026\\n2016-02-22T13:38:12+01:00 \\n2016-02-22T13:39:22+01:00 3.33415216223001\\n2016-02-22T13:40:33+01:00 \\n2016-02-22T13:41:43+01:00 3.16402635374465\\n2016-02-22T13:42:54+01:00 \\n2016-02-22T13:44:05+01:00 1.76036506685481\\n2016-02-22T13:45:16+01:00 \\n2016-02-22T13:46:26+01:00 2.63894327601173\\n2016-02-22T13:47:37+01:00 \\n2016-02-22T13:48:47+01:00 3.22505037750511\\n2016-02-22T13:49:58+01:00 \\n2016-02-22T13:51:09+01:00 3.32033752788028\\n2016-02-22T13:52:20+01:00 \\n2016-02-22T13:53:30+01:00 3.606211061422\\n2016-02-22T13:54:41+01:00 \\n2016-02-22T13:55:51+01:00 2.00990252275361\\n2016-02-22T13:57:02+01:00 \\n2016-02-22T13:58:13+01:00 2.43655344690279\\n2016-02-22T13:59:24+01:00 \\n2016-02-22T14:00:34+01:00 1.72994712198433\\n2016-02-22T14:01:45+01:00 \\n2016-02-22T14:02:56+01:00 2.24695049058446\\n2016-02-22T14:04:07+01:00 \\n2016-02-22T14:05:17+01:00 2.66800376747786\\n2016-02-22T14:06:28+01:00 \\n2016-02-22T14:07:38+01:00 3.53526728839082\\n2016-02-22T14:08:50+01:00 \\n2016-02-22T14:10:00+01:00 2.8132011320469\\n2016-02-22T14:11:11+01:00 \\n2016-02-22T14:12:21+01:00 2.42546540559184\\n2016-02-22T14:13:32+01:00 \\n2016-02-22T14:14:43+01:00 3.15186654815437\\n2016-02-22T14:15:54+01:00 \\n2016-02-22T14:17:04+01:00 3.16525527528723\\n2016-02-22T14:18:15+01:00 \\n2016-02-22T14:19:25+01:00 2.68792540752653\\n2016-02-22T14:20:37+01:00 \\n2016-02-22T14:21:47+01:00 2.45073897571812\\n2016-02-22T14:22:58+01:00 \\n2016-02-22T14:24:08+01:00 2.87763052902434\\n2016-02-22T14:25:19+01:00 \\n2016-02-22T14:26:29+01:00 4.1175863765778\\n2016-02-22T14:27:41+01:00 \\n2016-02-22T14:28:51+01:00 2.89237878231368\\n2016-02-22T14:30:02+01:00 \\n2016-02-22T14:31:12+01:00 2.38543003214517\\n2016-02-22T14:32:23+01:00 \\n2016-02-22T14:33:34+01:00 2.15108372881162\\n2016-02-22T14:34:45+01:00 \\n2016-02-22T14:35:55+01:00 2.53639084748733\\n2016-02-22T14:37:06+01:00 \\n2016-02-22T14:38:16+01:00 3.27054012640551\\n2016-02-22T14:39:27+01:00 \\n2016-02-22T14:40:37+01:00 2.70405206171099\\n2016-02-22T14:41:48+01:00 \\n2016-02-22T14:42:58+01:00 1.63961663170329\\n2016-02-22T14:44:09+01:00 \\n2016-02-22T14:45:20+01:00 2.65619865766826\\n2016-02-22T14:46:30+01:00 \\n2016-02-22T14:47:41+01:00 3.14915692677993\\n2016-02-22T14:48:52+01:00 \\n2016-02-22T14:50:02+01:00 3.22002651294624\\n2016-02-22T14:51:13+01:00 \\n2016-02-22T14:52:23+01:00 2.18032061178902\\n2016-02-22T14:53:34+01:00 \\n2016-02-22T14:54:44+01:00 3.79391355594991\\n2016-02-22T14:55:55+01:00 \\n2016-02-22T14:57:05+01:00 4.12407012201524\\n2016-02-22T14:58:16+01:00 \\n2016-02-22T14:59:26+01:00 3.62439005544729\\n2016-02-22T15:00:37+01:00 \\n2016-02-22T15:01:48+01:00 3.84936443961259\\n2016-02-22T15:02:59+01:00 \\n2016-02-22T15:04:09+01:00 2.76778595198088\\n2016-02-22T15:05:20+01:00 \\n2016-02-22T15:06:30+01:00 3.0396691045751\\n2016-02-22T15:07:41+01:00 \\n2016-02-22T15:08:51+01:00 4.07820607251841\\n2016-02-22T15:10:02+01:00 \\n2016-02-22T15:11:12+01:00 4.95433887845025\\n2016-02-22T15:12:23+01:00 \\n2016-02-22T15:13:33+01:00 6.59124272646246\\n2016-02-22T15:14:44+01:00 \\n2016-02-22T15:15:54+01:00 3.7178639251694\\n2016-02-22T15:17:05+01:00 \\n2016-02-22T15:18:16+01:00 3.11037395857766\\n2016-02-22T15:19:27+01:00 \\n2016-02-22T15:20:37+01:00 3.23927749288964\\n2016-02-22T15:21:48+01:00 \\n2016-02-22T15:22:58+01:00 3.1105503320961\\n2016-02-22T15:24:09+01:00 \\n2016-02-22T15:25:19+01:00 3.09278515838835\\n2016-02-22T15:26:30+01:00 \\n2016-02-22T15:27:40+01:00 3.77699978291843\\n2016-02-22T15:28:51+01:00 \\n\">, @options=Hamster::Hash[:with => \"lines\", :title => \"NO_2\", :using => \"1:2\"]>], @cmd=\"plot \">"
      ]
     },
     "execution_count": 30,
     "metadata": {},
     "output_type": "execute_result"
    }
   ],
   "source": [
    "all.index = DateTimeIndex.new(all[:timestamp])\n",
    "\n",
    "plot = Plot.new(\n",
    "  [all[:nox], title: \"NO_x\", with: \"lines\"],\n",
    "  [all[:no2], title: \"NO_2\", with: \"lines\"],\n",
    "  format_x: \"%H:%M\",\n",
    "  )"
   ]
  },
  {
   "cell_type": "markdown",
   "metadata": {},
   "source": [
    "## NO computation"
   ]
  },
  {
   "cell_type": "code",
   "execution_count": 31,
   "metadata": {
    "collapsed": false
   },
   "outputs": [
    {
     "name": "stdout",
     "output_type": "stream",
     "text": [
      "0.0004985862902777778\n"
     ]
    },
    {
     "data": {
      "text/html": [
       "<table><tr><th colspan=\"12\">Daru::DataFrame:18334920  rows: 10  cols: 11<tr><th></th><th>index</th><th>timestamp</th><th>no2</th><th>no2_err</th><th>o3</th><th>o3_err</th><th>h2o</th><th>h2o_err</th><th>nox</th><th>nox_err</th><th>no</th></tr><tr><td>0</td><td>0</td><td>2016-02-22T10:42:44+01:00</td><td>7.95658889551521</td><td>0.0653100505114418</td><td>35.5115197644284</td><td>1149.0426000682</td><td>3665141.91075972</td><td>925594.721589852</td><td></td><td></td><td></td></tr><tr><td>1</td><td>1</td><td>2016-02-22T10:43:55+01:00</td><td></td><td></td><td>2882.62884809316</td><td>1866.32015106246</td><td>3903930.77976969</td><td>1503851.60074163</td><td>16.2566628142127</td><td>0.107415206400888</td><td>3.9590544192544943</td></tr><tr><td>2</td><td>2</td><td>2016-02-22T10:45:06+01:00</td><td>16.6386278944012</td><td>0.106270597308685</td><td>-928.749504463599</td><td>1845.33478910489</td><td>4366542.36753126</td><td>1486963.22039045</td><td></td><td></td><td></td></tr><tr><td>3</td><td>3</td><td>2016-02-22T10:46:16+01:00</td><td></td><td></td><td>2587.18198061541</td><td>1979.87702335278</td><td>4272829.70240693</td><td>1595428.677505</td><td>17.7000032436948</td><td>0.114207158635106</td><td>1.640772118722932</td></tr><tr><td>4</td><td>4</td><td>2016-02-22T10:47:27+01:00</td><td>15.4715572588364</td><td>0.101923822698394</td><td>-577.403950806126</td><td>1773.10058674671</td><td>4241770.73354746</td><td>1428662.5383808</td><td></td><td></td><td></td></tr><tr><td>5</td><td>5</td><td>2016-02-22T10:48:38+01:00</td><td></td><td></td><td>2438.65996647698</td><td>1736.17221507061</td><td>3828249.81785127</td><td>1398915.48322694</td><td>14.5806201843574</td><td>0.0996676260001644</td><td>1.694475971827469</td></tr><tr><td>6</td><td>6</td><td>2016-02-22T10:49:48+01:00</td><td>10.3371454344813</td><td>0.0763960025413429</td><td>-530.046244473469</td><td>1339.39057402859</td><td>4082024.36935253</td><td>1079010.93990976</td><td></td><td></td><td></td></tr><tr><td>7</td><td>7</td><td>2016-02-22T10:50:59+01:00</td><td></td><td></td><td>2828.66443510416</td><td>1303.36096429051</td><td>3642236.38805852</td><td>1049970.59091174</td><td>9.31928458200006</td><td>0.074230481187959</td><td>0.27763876548465305</td></tr><tr><td>8</td><td>8</td><td>2016-02-22T10:52:09+01:00</td><td>7.76439267204199</td><td>0.0668392742041499</td><td>-557.083679993495</td><td>1176.23377661221</td><td>3313757.52455168</td><td>947529.411157991</td><td></td><td></td><td></td></tr><tr><td>9</td><td>9</td><td>2016-02-22T10:53:20+01:00</td><td></td><td></td><td>2541.13329136179</td><td>1124.5537823362</td><td>3716648.02787163</td><td>905867.763635704</td><td>7.61290572865782</td><td>0.0638867897065253</td><td>-0.38115356718257054</td></tr></table>"
      ],
      "text/plain": [
       "\n",
       "#<Daru::DataFrame:18334920 @name = df39a006-6b61-4acc-b7ee-45cc9c50bf56 @size = 10>\n",
       "                index  timestamp        no2    no2_err         o3     o3_err        h2o    h2o_err        nox    nox_err         no \n",
       "         0          0 2016-02-22 7.95658889 0.06531005 35.5115197 1149.04260 3665141.91 925594.721        nil        nil        nil \n",
       "         1          1 2016-02-22        nil        nil 2882.62884 1866.32015 3903930.77 1503851.60 16.2566628 0.10741520 3.95905441 \n",
       "         2          2 2016-02-22 16.6386278 0.10627059 -928.74950 1845.33478 4366542.36 1486963.22        nil        nil        nil \n",
       "         3          3 2016-02-22        nil        nil 2587.18198 1979.87702 4272829.70 1595428.67 17.7000032 0.11420715 1.64077211 \n",
       "         4          4 2016-02-22 15.4715572 0.10192382 -577.40395 1773.10058 4241770.73 1428662.53        nil        nil        nil \n",
       "         5          5 2016-02-22        nil        nil 2438.65996 1736.17221 3828249.81 1398915.48 14.5806201 0.09966762 1.69447597 \n",
       "         6          6 2016-02-22 10.3371454 0.07639600 -530.04624 1339.39057 4082024.36 1079010.93        nil        nil        nil \n",
       "         7          7 2016-02-22        nil        nil 2828.66443 1303.36096 3642236.38 1049970.59 9.31928458 0.07423048 0.27763876 \n",
       "         8          8 2016-02-22 7.76439267 0.06683927 -557.08367 1176.23377 3313757.52 947529.411        nil        nil        nil \n",
       "         9          9 2016-02-22        nil        nil 2541.13329 1124.55378 3716648.02 905867.763 7.61290572 0.06388678 -0.3811535 \n"
      ]
     },
     "execution_count": 31,
     "metadata": {},
     "output_type": "execute_result"
    }
   ],
   "source": [
    "start = DateTime.now\n",
    "\n",
    "all.index = Index.new((0..(all.nrows - 1)).to_a)\n",
    "all[:index] = all.index.to_a\n",
    "\n",
    "all[:no] = all.where(all[:no2].eq(nil)).collect_row_with_index do |row,i|\n",
    "  \n",
    "  ret = nil\n",
    "  \n",
    "  compute = true\n",
    "  \n",
    "  if i == 0\n",
    "    compute = false\n",
    "  else\n",
    "    tmp2 = all.row[0..i]\n",
    "    tmp = tmp2.where(tmp2[:nox].eq(nil))\n",
    "    \n",
    "    if tmp.nrows == 0\n",
    "      compute = false\n",
    "    else\n",
    "      l = tmp[:index].to_a.last\n",
    "    end\n",
    "  end\n",
    " \n",
    "  if i == all.nrows - 1\n",
    "    compute = false\n",
    "  else\n",
    "    tmp2 = all.row[i..(all.nrows - 1)]\n",
    "    tmp = tmp2.where(tmp2[:nox].eq(nil))\n",
    "    \n",
    "    if tmp.nrows == 0\n",
    "      compute = false\n",
    "    else\n",
    "      u = tmp[:index].to_a.first\n",
    "    end\n",
    "  end\n",
    "    \n",
    "  if compute\n",
    "    dy = all[:no2][u] - all[:no2][l]\n",
    "    dx = (all[:timestamp][u] - all[:timestamp][l]).to_f\n",
    "    del = (all[:timestamp][i] - all[:timestamp][l]).to_f\n",
    " \n",
    "    ret = all[:nox][i] - (dy/dx*del + all[:no2][l])\n",
    "  end\n",
    "\n",
    "  ret\n",
    "end\n",
    "\n",
    "stop = DateTime.now\n",
    "\n",
    "puts (stop - start).to_f*24\n",
    "\n",
    "all.head"
   ]
  },
  {
   "cell_type": "markdown",
   "metadata": {},
   "source": [
    "## More Plots"
   ]
  },
  {
   "cell_type": "code",
   "execution_count": 32,
   "metadata": {
    "collapsed": false
   },
   "outputs": [
    {
     "data": {
      "image/svg+xml": [
       "<?xml version=\"1.0\" encoding=\"utf-8\"  standalone=\"no\"?>\n",
       "<!DOCTYPE svg PUBLIC \"-//W3C//DTD SVG 1.1//EN\"\n",
       " \"http://www.w3.org/Graphics/SVG/1.1/DTD/svg11.dtd\">\n",
       "<svg \n",
       " width=\"600\" height=\"480\"\n",
       " viewBox=\"0 0 600 480\"\n",
       " xmlns=\"http://www.w3.org/2000/svg\"\n",
       " xmlns:xlink=\"http://www.w3.org/1999/xlink\"\n",
       ">\n",
       "\n",
       "<title>Gnuplot</title>\n",
       "<desc>Produced by GNUPLOT 5.0 patchlevel 1 </desc>\n",
       "\n",
       "<g id=\"gnuplot_canvas\">\n",
       "\n",
       "<rect x=\"0\" y=\"0\" width=\"600\" height=\"480\" fill=\"none\"/>\n",
       "<defs>\n",
       "\n",
       "\t<circle id='gpDot' r='0.5' stroke-width='0.5'/>\n",
       "\t<path id='gpPt0' stroke-width='0.222' stroke='currentColor' d='M-1,0 h2 M0,-1 v2'/>\n",
       "\t<path id='gpPt1' stroke-width='0.222' stroke='currentColor' d='M-1,-1 L1,1 M1,-1 L-1,1'/>\n",
       "\t<path id='gpPt2' stroke-width='0.222' stroke='currentColor' d='M-1,0 L1,0 M0,-1 L0,1 M-1,-1 L1,1 M-1,1 L1,-1'/>\n",
       "\t<rect id='gpPt3' stroke-width='0.222' stroke='currentColor' x='-1' y='-1' width='2' height='2'/>\n",
       "\t<rect id='gpPt4' stroke-width='0.222' stroke='currentColor' fill='currentColor' x='-1' y='-1' width='2' height='2'/>\n",
       "\t<circle id='gpPt5' stroke-width='0.222' stroke='currentColor' cx='0' cy='0' r='1'/>\n",
       "\t<use xlink:href='#gpPt5' id='gpPt6' fill='currentColor' stroke='none'/>\n",
       "\t<path id='gpPt7' stroke-width='0.222' stroke='currentColor' d='M0,-1.33 L-1.33,0.67 L1.33,0.67 z'/>\n",
       "\t<use xlink:href='#gpPt7' id='gpPt8' fill='currentColor' stroke='none'/>\n",
       "\t<use xlink:href='#gpPt7' id='gpPt9' stroke='currentColor' transform='rotate(180)'/>\n",
       "\t<use xlink:href='#gpPt9' id='gpPt10' fill='currentColor' stroke='none'/>\n",
       "\t<use xlink:href='#gpPt3' id='gpPt11' stroke='currentColor' transform='rotate(45)'/>\n",
       "\t<use xlink:href='#gpPt11' id='gpPt12' fill='currentColor' stroke='none'/>\n",
       "\t<path id='gpPt13' stroke-width='0.222' stroke='currentColor' d='M0,1.330 L1.265,0.411 L0.782,-1.067 L-0.782,-1.076 L-1.265,0.411 z'/>\n",
       "\t<use xlink:href='#gpPt13' id='gpPt14' fill='currentColor' stroke='none'/>\n",
       "\t<filter id='textbox' filterUnits='objectBoundingBox' x='0' y='0' height='1' width='1'>\n",
       "\t  <feFlood flood-color='white' flood-opacity='1' result='bgnd'/>\n",
       "\t  <feComposite in='SourceGraphic' in2='bgnd' operator='atop'/>\n",
       "\t</filter>\n",
       "\t<filter id='greybox' filterUnits='objectBoundingBox' x='0' y='0' height='1' width='1'>\n",
       "\t  <feFlood flood-color='lightgrey' flood-opacity='1' result='grey'/>\n",
       "\t  <feComposite in='SourceGraphic' in2='grey' operator='atop'/>\n",
       "\t</filter>\n",
       "</defs>\n",
       "<g fill=\"none\" color=\"white\" stroke=\"currentColor\" stroke-width=\"1.00\" stroke-linecap=\"butt\" stroke-linejoin=\"miter\">\n",
       "</g>\n",
       "<g fill=\"none\" color=\"black\" stroke=\"currentColor\" stroke-width=\"1.00\" stroke-linecap=\"butt\" stroke-linejoin=\"miter\">\n",
       "\t<path stroke='black'  d='M45.6,444.0 L54.6,444.0 M575.0,444.0 L566.0,444.0  '/>\t<g transform=\"translate(37.3,448.5)\" stroke=\"none\" fill=\"black\" font-family=\"Arial\" font-size=\"12.00\"  text-anchor=\"end\">\n",
       "\t\t<text><tspan font-family=\"Arial\" > 0</tspan></text>\n",
       "\t</g>\n",
       "</g>\n",
       "<g fill=\"none\" color=\"black\" stroke=\"currentColor\" stroke-width=\"1.00\" stroke-linecap=\"butt\" stroke-linejoin=\"miter\">\n",
       "\t<path stroke='black'  d='M45.6,396.5 L54.6,396.5 M575.0,396.5 L566.0,396.5  '/>\t<g transform=\"translate(37.3,401.0)\" stroke=\"none\" fill=\"black\" font-family=\"Arial\" font-size=\"12.00\"  text-anchor=\"end\">\n",
       "\t\t<text><tspan font-family=\"Arial\" > 2</tspan></text>\n",
       "\t</g>\n",
       "</g>\n",
       "<g fill=\"none\" color=\"black\" stroke=\"currentColor\" stroke-width=\"1.00\" stroke-linecap=\"butt\" stroke-linejoin=\"miter\">\n",
       "\t<path stroke='black'  d='M45.6,349.0 L54.6,349.0 M575.0,349.0 L566.0,349.0  '/>\t<g transform=\"translate(37.3,353.5)\" stroke=\"none\" fill=\"black\" font-family=\"Arial\" font-size=\"12.00\"  text-anchor=\"end\">\n",
       "\t\t<text><tspan font-family=\"Arial\" > 4</tspan></text>\n",
       "\t</g>\n",
       "</g>\n",
       "<g fill=\"none\" color=\"black\" stroke=\"currentColor\" stroke-width=\"1.00\" stroke-linecap=\"butt\" stroke-linejoin=\"miter\">\n",
       "\t<path stroke='black'  d='M45.6,301.6 L54.6,301.6 M575.0,301.6 L566.0,301.6  '/>\t<g transform=\"translate(37.3,306.1)\" stroke=\"none\" fill=\"black\" font-family=\"Arial\" font-size=\"12.00\"  text-anchor=\"end\">\n",
       "\t\t<text><tspan font-family=\"Arial\" > 6</tspan></text>\n",
       "\t</g>\n",
       "</g>\n",
       "<g fill=\"none\" color=\"black\" stroke=\"currentColor\" stroke-width=\"1.00\" stroke-linecap=\"butt\" stroke-linejoin=\"miter\">\n",
       "\t<path stroke='black'  d='M45.6,254.1 L54.6,254.1 M575.0,254.1 L566.0,254.1  '/>\t<g transform=\"translate(37.3,258.6)\" stroke=\"none\" fill=\"black\" font-family=\"Arial\" font-size=\"12.00\"  text-anchor=\"end\">\n",
       "\t\t<text><tspan font-family=\"Arial\" > 8</tspan></text>\n",
       "\t</g>\n",
       "</g>\n",
       "<g fill=\"none\" color=\"black\" stroke=\"currentColor\" stroke-width=\"1.00\" stroke-linecap=\"butt\" stroke-linejoin=\"miter\">\n",
       "\t<path stroke='black'  d='M45.6,206.6 L54.6,206.6 M575.0,206.6 L566.0,206.6  '/>\t<g transform=\"translate(37.3,211.1)\" stroke=\"none\" fill=\"black\" font-family=\"Arial\" font-size=\"12.00\"  text-anchor=\"end\">\n",
       "\t\t<text><tspan font-family=\"Arial\" > 10</tspan></text>\n",
       "\t</g>\n",
       "</g>\n",
       "<g fill=\"none\" color=\"black\" stroke=\"currentColor\" stroke-width=\"1.00\" stroke-linecap=\"butt\" stroke-linejoin=\"miter\">\n",
       "\t<path stroke='black'  d='M45.6,159.1 L54.6,159.1 M575.0,159.1 L566.0,159.1  '/>\t<g transform=\"translate(37.3,163.6)\" stroke=\"none\" fill=\"black\" font-family=\"Arial\" font-size=\"12.00\"  text-anchor=\"end\">\n",
       "\t\t<text><tspan font-family=\"Arial\" > 12</tspan></text>\n",
       "\t</g>\n",
       "</g>\n",
       "<g fill=\"none\" color=\"black\" stroke=\"currentColor\" stroke-width=\"1.00\" stroke-linecap=\"butt\" stroke-linejoin=\"miter\">\n",
       "\t<path stroke='black'  d='M45.6,111.7 L54.6,111.7 M575.0,111.7 L566.0,111.7  '/>\t<g transform=\"translate(37.3,116.2)\" stroke=\"none\" fill=\"black\" font-family=\"Arial\" font-size=\"12.00\"  text-anchor=\"end\">\n",
       "\t\t<text><tspan font-family=\"Arial\" > 14</tspan></text>\n",
       "\t</g>\n",
       "</g>\n",
       "<g fill=\"none\" color=\"black\" stroke=\"currentColor\" stroke-width=\"1.00\" stroke-linecap=\"butt\" stroke-linejoin=\"miter\">\n",
       "\t<path stroke='black'  d='M45.6,64.2 L54.6,64.2 M575.0,64.2 L566.0,64.2  '/>\t<g transform=\"translate(37.3,68.7)\" stroke=\"none\" fill=\"black\" font-family=\"Arial\" font-size=\"12.00\"  text-anchor=\"end\">\n",
       "\t\t<text><tspan font-family=\"Arial\" > 16</tspan></text>\n",
       "\t</g>\n",
       "</g>\n",
       "<g fill=\"none\" color=\"black\" stroke=\"currentColor\" stroke-width=\"1.00\" stroke-linecap=\"butt\" stroke-linejoin=\"miter\">\n",
       "\t<path stroke='black'  d='M45.6,16.7 L54.6,16.7 M575.0,16.7 L566.0,16.7  '/>\t<g transform=\"translate(37.3,21.2)\" stroke=\"none\" fill=\"black\" font-family=\"Arial\" font-size=\"12.00\"  text-anchor=\"end\">\n",
       "\t\t<text><tspan font-family=\"Arial\" > 18</tspan></text>\n",
       "\t</g>\n",
       "</g>\n",
       "<g fill=\"none\" color=\"black\" stroke=\"currentColor\" stroke-width=\"1.00\" stroke-linecap=\"butt\" stroke-linejoin=\"miter\">\n",
       "\t<path stroke='black'  d='M45.6,444.0 L45.6,435.0 M45.6,16.7 L45.6,25.7  '/>\t<g transform=\"translate(45.6,466.5)\" stroke=\"none\" fill=\"black\" font-family=\"Arial\" font-size=\"12.00\"  text-anchor=\"middle\">\n",
       "\t\t<text><tspan font-family=\"Arial\" >10:30</tspan></text>\n",
       "\t</g>\n",
       "</g>\n",
       "<g fill=\"none\" color=\"black\" stroke=\"currentColor\" stroke-width=\"1.00\" stroke-linecap=\"butt\" stroke-linejoin=\"miter\">\n",
       "\t<path stroke='black'  d='M56.2,444.0 L56.2,439.5 M56.2,16.7 L56.2,21.2 M66.8,444.0 L66.8,439.5 M66.8,16.7 L66.8,21.2\n",
       "\t\tM77.4,444.0 L77.4,439.5 M77.4,16.7 L77.4,21.2 M88.0,444.0 L88.0,439.5 M88.0,16.7 L88.0,21.2\n",
       "\t\tM98.5,444.0 L98.5,435.0 M98.5,16.7 L98.5,25.7  '/>\t<g transform=\"translate(98.5,466.5)\" stroke=\"none\" fill=\"black\" font-family=\"Arial\" font-size=\"12.00\"  text-anchor=\"middle\">\n",
       "\t\t<text><tspan font-family=\"Arial\" >11:00</tspan></text>\n",
       "\t</g>\n",
       "</g>\n",
       "<g fill=\"none\" color=\"black\" stroke=\"currentColor\" stroke-width=\"1.00\" stroke-linecap=\"butt\" stroke-linejoin=\"miter\">\n",
       "\t<path stroke='black'  d='M109.1,444.0 L109.1,439.5 M109.1,16.7 L109.1,21.2 M119.7,444.0 L119.7,439.5 M119.7,16.7 L119.7,21.2\n",
       "\t\tM130.3,444.0 L130.3,439.5 M130.3,16.7 L130.3,21.2 M140.9,444.0 L140.9,439.5 M140.9,16.7 L140.9,21.2\n",
       "\t\tM151.5,444.0 L151.5,435.0 M151.5,16.7 L151.5,25.7  '/>\t<g transform=\"translate(151.5,466.5)\" stroke=\"none\" fill=\"black\" font-family=\"Arial\" font-size=\"12.00\"  text-anchor=\"middle\">\n",
       "\t\t<text><tspan font-family=\"Arial\" >11:30</tspan></text>\n",
       "\t</g>\n",
       "</g>\n",
       "<g fill=\"none\" color=\"black\" stroke=\"currentColor\" stroke-width=\"1.00\" stroke-linecap=\"butt\" stroke-linejoin=\"miter\">\n",
       "\t<path stroke='black'  d='M162.1,444.0 L162.1,439.5 M162.1,16.7 L162.1,21.2 M172.7,444.0 L172.7,439.5 M172.7,16.7 L172.7,21.2\n",
       "\t\tM183.2,444.0 L183.2,439.5 M183.2,16.7 L183.2,21.2 M193.8,444.0 L193.8,439.5 M193.8,16.7 L193.8,21.2\n",
       "\t\tM204.4,444.0 L204.4,435.0 M204.4,16.7 L204.4,25.7  '/>\t<g transform=\"translate(204.4,466.5)\" stroke=\"none\" fill=\"black\" font-family=\"Arial\" font-size=\"12.00\"  text-anchor=\"middle\">\n",
       "\t\t<text><tspan font-family=\"Arial\" >12:00</tspan></text>\n",
       "\t</g>\n",
       "</g>\n",
       "<g fill=\"none\" color=\"black\" stroke=\"currentColor\" stroke-width=\"1.00\" stroke-linecap=\"butt\" stroke-linejoin=\"miter\">\n",
       "\t<path stroke='black'  d='M215.0,444.0 L215.0,439.5 M215.0,16.7 L215.0,21.2 M225.6,444.0 L225.6,439.5 M225.6,16.7 L225.6,21.2\n",
       "\t\tM236.2,444.0 L236.2,439.5 M236.2,16.7 L236.2,21.2 M246.8,444.0 L246.8,439.5 M246.8,16.7 L246.8,21.2\n",
       "\t\tM257.4,444.0 L257.4,435.0 M257.4,16.7 L257.4,25.7  '/>\t<g transform=\"translate(257.4,466.5)\" stroke=\"none\" fill=\"black\" font-family=\"Arial\" font-size=\"12.00\"  text-anchor=\"middle\">\n",
       "\t\t<text><tspan font-family=\"Arial\" >12:30</tspan></text>\n",
       "\t</g>\n",
       "</g>\n",
       "<g fill=\"none\" color=\"black\" stroke=\"currentColor\" stroke-width=\"1.00\" stroke-linecap=\"butt\" stroke-linejoin=\"miter\">\n",
       "\t<path stroke='black'  d='M267.9,444.0 L267.9,439.5 M267.9,16.7 L267.9,21.2 M278.5,444.0 L278.5,439.5 M278.5,16.7 L278.5,21.2\n",
       "\t\tM289.1,444.0 L289.1,439.5 M289.1,16.7 L289.1,21.2 M299.7,444.0 L299.7,439.5 M299.7,16.7 L299.7,21.2\n",
       "\t\tM310.3,444.0 L310.3,435.0 M310.3,16.7 L310.3,25.7  '/>\t<g transform=\"translate(310.3,466.5)\" stroke=\"none\" fill=\"black\" font-family=\"Arial\" font-size=\"12.00\"  text-anchor=\"middle\">\n",
       "\t\t<text><tspan font-family=\"Arial\" >13:00</tspan></text>\n",
       "\t</g>\n",
       "</g>\n",
       "<g fill=\"none\" color=\"black\" stroke=\"currentColor\" stroke-width=\"1.00\" stroke-linecap=\"butt\" stroke-linejoin=\"miter\">\n",
       "\t<path stroke='black'  d='M320.9,444.0 L320.9,439.5 M320.9,16.7 L320.9,21.2 M331.5,444.0 L331.5,439.5 M331.5,16.7 L331.5,21.2\n",
       "\t\tM342.1,444.0 L342.1,439.5 M342.1,16.7 L342.1,21.2 M352.7,444.0 L352.7,439.5 M352.7,16.7 L352.7,21.2\n",
       "\t\tM363.2,444.0 L363.2,435.0 M363.2,16.7 L363.2,25.7  '/>\t<g transform=\"translate(363.2,466.5)\" stroke=\"none\" fill=\"black\" font-family=\"Arial\" font-size=\"12.00\"  text-anchor=\"middle\">\n",
       "\t\t<text><tspan font-family=\"Arial\" >13:30</tspan></text>\n",
       "\t</g>\n",
       "</g>\n",
       "<g fill=\"none\" color=\"black\" stroke=\"currentColor\" stroke-width=\"1.00\" stroke-linecap=\"butt\" stroke-linejoin=\"miter\">\n",
       "\t<path stroke='black'  d='M373.8,444.0 L373.8,439.5 M373.8,16.7 L373.8,21.2 M384.4,444.0 L384.4,439.5 M384.4,16.7 L384.4,21.2\n",
       "\t\tM395.0,444.0 L395.0,439.5 M395.0,16.7 L395.0,21.2 M405.6,444.0 L405.6,439.5 M405.6,16.7 L405.6,21.2\n",
       "\t\tM416.2,444.0 L416.2,435.0 M416.2,16.7 L416.2,25.7  '/>\t<g transform=\"translate(416.2,466.5)\" stroke=\"none\" fill=\"black\" font-family=\"Arial\" font-size=\"12.00\"  text-anchor=\"middle\">\n",
       "\t\t<text><tspan font-family=\"Arial\" >14:00</tspan></text>\n",
       "\t</g>\n",
       "</g>\n",
       "<g fill=\"none\" color=\"black\" stroke=\"currentColor\" stroke-width=\"1.00\" stroke-linecap=\"butt\" stroke-linejoin=\"miter\">\n",
       "\t<path stroke='black'  d='M426.8,444.0 L426.8,439.5 M426.8,16.7 L426.8,21.2 M437.4,444.0 L437.4,439.5 M437.4,16.7 L437.4,21.2\n",
       "\t\tM447.9,444.0 L447.9,439.5 M447.9,16.7 L447.9,21.2 M458.5,444.0 L458.5,439.5 M458.5,16.7 L458.5,21.2\n",
       "\t\tM469.1,444.0 L469.1,435.0 M469.1,16.7 L469.1,25.7  '/>\t<g transform=\"translate(469.1,466.5)\" stroke=\"none\" fill=\"black\" font-family=\"Arial\" font-size=\"12.00\"  text-anchor=\"middle\">\n",
       "\t\t<text><tspan font-family=\"Arial\" >14:30</tspan></text>\n",
       "\t</g>\n",
       "</g>\n",
       "<g fill=\"none\" color=\"black\" stroke=\"currentColor\" stroke-width=\"1.00\" stroke-linecap=\"butt\" stroke-linejoin=\"miter\">\n",
       "\t<path stroke='black'  d='M479.7,444.0 L479.7,439.5 M479.7,16.7 L479.7,21.2 M490.3,444.0 L490.3,439.5 M490.3,16.7 L490.3,21.2\n",
       "\t\tM500.9,444.0 L500.9,439.5 M500.9,16.7 L500.9,21.2 M511.5,444.0 L511.5,439.5 M511.5,16.7 L511.5,21.2\n",
       "\t\tM522.1,444.0 L522.1,435.0 M522.1,16.7 L522.1,25.7  '/>\t<g transform=\"translate(522.1,466.5)\" stroke=\"none\" fill=\"black\" font-family=\"Arial\" font-size=\"12.00\"  text-anchor=\"middle\">\n",
       "\t\t<text><tspan font-family=\"Arial\" >15:00</tspan></text>\n",
       "\t</g>\n",
       "</g>\n",
       "<g fill=\"none\" color=\"black\" stroke=\"currentColor\" stroke-width=\"1.00\" stroke-linecap=\"butt\" stroke-linejoin=\"miter\">\n",
       "\t<path stroke='black'  d='M532.6,444.0 L532.6,439.5 M532.6,16.7 L532.6,21.2 M543.2,444.0 L543.2,439.5 M543.2,16.7 L543.2,21.2\n",
       "\t\tM553.8,444.0 L553.8,439.5 M553.8,16.7 L553.8,21.2 M564.4,444.0 L564.4,439.5 M564.4,16.7 L564.4,21.2\n",
       "\t\tM575.0,444.0 L575.0,435.0 M575.0,16.7 L575.0,25.7  '/>\t<g transform=\"translate(575.0,466.5)\" stroke=\"none\" fill=\"black\" font-family=\"Arial\" font-size=\"12.00\"  text-anchor=\"middle\">\n",
       "\t\t<text><tspan font-family=\"Arial\" >15:30</tspan></text>\n",
       "\t</g>\n",
       "</g>\n",
       "<g fill=\"none\" color=\"black\" stroke=\"currentColor\" stroke-width=\"1.00\" stroke-linecap=\"butt\" stroke-linejoin=\"miter\">\n",
       "</g>\n",
       "<g fill=\"none\" color=\"black\" stroke=\"currentColor\" stroke-width=\"1.00\" stroke-linecap=\"butt\" stroke-linejoin=\"miter\">\n",
       "\t<path stroke='black'  d='M45.6,16.7 L45.6,444.0 L575.0,444.0 L575.0,16.7 L45.6,16.7 Z  '/></g>\n",
       "<g fill=\"none\" color=\"black\" stroke=\"currentColor\" stroke-width=\"1.00\" stroke-linecap=\"butt\" stroke-linejoin=\"miter\">\n",
       "</g>\n",
       "\t<g id=\"gnuplot_plot_1\" ><title>NO</title>\n",
       "<g fill=\"none\" color=\"black\" stroke=\"currentColor\" stroke-width=\"1.00\" stroke-linecap=\"butt\" stroke-linejoin=\"miter\">\n",
       "</g>\n",
       "\t</g>\n",
       "\t<g id=\"gnuplot_plot_2\" ><title>NOx</title>\n",
       "<g fill=\"none\" color=\"black\" stroke=\"currentColor\" stroke-width=\"1.00\" stroke-linecap=\"butt\" stroke-linejoin=\"miter\">\n",
       "\t<g transform=\"translate(507.9,39.2)\" stroke=\"none\" fill=\"black\" font-family=\"Arial\" font-size=\"12.00\"  text-anchor=\"end\">\n",
       "\t\t<text><tspan font-family=\"Arial\" >NO</tspan><tspan font-family=\"Arial\"  font-size=\"9.6\" dy=\"3.60px\">x</tspan><tspan font-size=\"12.0\" dy=\"-3.60\"></tspan></text>\n",
       "\t</g>\n",
       "</g>\n",
       "<g fill=\"none\" color=\"black\" stroke=\"currentColor\" stroke-width=\"1.00\" stroke-linecap=\"butt\" stroke-linejoin=\"miter\">\n",
       "\t<path stroke='rgb(  0, 158, 115)'  d='M516.2,34.7 L558.4,34.7 M70.2,58.1 L74.3,23.8 L78.5,97.9 L82.6,222.8 L86.8,263.3 L91.0,257.4\n",
       "\t\tL95.1,254.5 L99.2,273.3 L103.4,240.7 L107.6,278.5 L111.7,322.5 L115.9,209.4 L120.0,266.3 L124.2,298.6\n",
       "\t\tL128.3,321.5 L132.5,326.4 L136.7,326.7 L140.8,324.8 L145.0,347.2 L149.1,357.1 L153.3,351.8 L157.4,353.0\n",
       "\t\tL161.6,364.6 L165.7,367.4 L169.9,367.7 L174.1,373.6 L178.2,353.1 L182.4,361.3 L186.5,369.9 L190.7,338.6\n",
       "\t\tL194.8,333.7 L199.0,321.0 L203.2,264.2 L207.3,312.0 L211.4,364.9 L215.6,236.0 L219.8,186.6 L223.9,46.6\n",
       "\t\tL228.1,169.6 L232.2,243.2 L236.4,219.8 L240.6,72.9 L244.7,101.4 L248.9,259.8 L253.0,256.8 L257.2,213.9\n",
       "\t\tL261.3,222.4 L265.5,306.0 L269.7,132.8 L273.8,307.0 L277.9,354.2 L282.1,339.0 L286.3,275.5 L290.4,325.7\n",
       "\t\tL294.6,175.6 L298.7,260.1 L302.9,208.2 L307.1,285.2 L311.2,346.3 L315.4,251.6 L319.5,217.9 L323.7,272.0\n",
       "\t\tL327.8,264.1 L332.0,349.2 L336.2,376.1 L340.3,382.7 L344.4,381.2 L348.6,384.4 L352.8,378.0 L356.9,347.0\n",
       "\t\tL361.1,377.4 L365.2,397.0 L369.4,391.3 L373.5,381.8 L377.7,362.0 L381.9,332.7 L386.0,390.9 L390.2,395.2\n",
       "\t\tL394.3,367.1 L398.5,373.1 L402.7,355.4 L406.8,362.4 L410.9,386.7 L415.1,393.2 L419.3,392.8 L423.4,379.3\n",
       "\t\tL427.6,360.3 L431.8,377.6 L435.9,394.5 L440.1,351.1 L444.2,365.0 L448.4,373.9 L452.6,377.5 L456.7,368.0\n",
       "\t\tL460.9,351.7 L465.0,346.2 L469.2,375.8 L473.3,383.3 L477.5,393.6 L481.6,371.7 L485.8,371.4 L489.9,397.4\n",
       "\t\tL494.1,387.5 L498.2,364.0 L502.4,360.3 L506.6,359.2 L510.7,386.9 L514.9,350.2 L519.0,323.2 L523.1,342.0\n",
       "\t\tL527.3,362.2 L531.5,363.9 L535.6,336.1 L539.8,331.5 L543.9,238.4 L548.1,313.2 L552.2,349.4 L556.4,367.3\n",
       "\t\tL560.5,346.9 L564.7,381.6 L568.8,366.3 L573.0,356.2  '/></g>\n",
       "\t</g>\n",
       "\t<g id=\"gnuplot_plot_3\" ><title>NO2</title>\n",
       "<g fill=\"none\" color=\"black\" stroke=\"currentColor\" stroke-width=\"1.00\" stroke-linecap=\"butt\" stroke-linejoin=\"miter\">\n",
       "\t<g transform=\"translate(507.9,57.2)\" stroke=\"none\" fill=\"black\" font-family=\"Arial\" font-size=\"12.00\"  text-anchor=\"end\">\n",
       "\t\t<text><tspan font-family=\"Arial\" >NO</tspan><tspan font-family=\"Arial\"  font-size=\"9.6\" dy=\"3.60px\">2</tspan><tspan font-size=\"12.0\" dy=\"-3.60\"></tspan></text>\n",
       "\t</g>\n",
       "</g>\n",
       "<g fill=\"none\" color=\"black\" stroke=\"currentColor\" stroke-width=\"1.00\" stroke-linecap=\"butt\" stroke-linejoin=\"miter\">\n",
       "\t<path stroke='rgb( 86, 180, 233)'  d='M516.2,52.7 L558.4,52.7 M68.1,255.1 L72.2,49.0 L76.4,76.7 L80.5,198.6 L84.7,259.7 L88.9,248.8\n",
       "\t\tL93.0,235.8 L97.2,281.6 L101.3,275.5 L105.5,282.0 L109.6,293.4 L113.8,325.5 L118.0,296.4 L122.1,291.0\n",
       "\t\tL126.2,331.2 L130.4,338.9 L134.6,332.8 L138.7,326.1 L142.9,369.1 L147.0,354.7 L151.2,347.1 L155.3,346.8\n",
       "\t\tL159.5,362.1 L163.7,362.8 L167.8,367.4 L172.0,365.2 L176.1,368.3 L180.3,358.6 L184.4,362.7 L188.6,367.5\n",
       "\t\tL192.7,341.1 L196.9,316.7 L201.1,288.5 L205.2,340.1 L209.4,361.9 L213.5,305.8 L217.7,288.1 L221.8,305.4\n",
       "\t\tL226.0,269.6 L230.2,284.1 L234.3,290.3 L238.5,261.7 L242.6,269.7 L246.8,240.3 L250.9,268.2 L255.1,199.8\n",
       "\t\tL259.2,268.4 L263.4,326.2 L267.6,278.1 L271.7,290.5 L275.9,299.6 L280.0,342.5 L284.2,246.2 L288.3,299.1\n",
       "\t\tL292.5,230.2 L296.7,319.0 L300.8,316.9 L304.9,268.9 L309.1,365.6 L313.3,337.1 L317.4,304.4 L321.6,331.5\n",
       "\t\tL325.7,344.1 L329.9,347.0 L334.1,390.9 L338.2,388.3 L342.4,388.3 L346.5,392.4 L350.7,399.0 L354.8,385.4\n",
       "\t\tL359.0,389.8 L363.2,399.0 L367.3,389.8 L371.4,384.7 L375.6,387.2 L379.8,364.9 L383.9,368.9 L388.1,402.2\n",
       "\t\tL392.2,381.4 L396.4,367.4 L400.6,365.2 L404.7,358.4 L408.9,396.3 L413.0,386.2 L417.2,402.9 L421.4,390.7\n",
       "\t\tL425.5,380.7 L429.7,360.1 L433.8,377.2 L438.0,386.4 L442.2,369.2 L446.3,368.9 L450.4,380.2 L454.6,385.8\n",
       "\t\tL458.8,375.7 L462.9,346.3 L467.1,375.3 L471.2,387.4 L475.4,392.9 L479.6,383.8 L483.7,366.4 L487.9,379.8\n",
       "\t\tL492.0,405.1 L496.2,380.9 L500.3,369.2 L504.5,367.6 L508.6,392.2 L512.8,353.9 L516.9,346.1 L521.1,358.0\n",
       "\t\tL525.2,352.6 L529.4,378.3 L533.5,371.8 L537.7,347.2 L541.8,326.4 L546.0,287.5 L550.1,355.7 L554.3,370.2\n",
       "\t\tL558.4,367.1 L562.6,370.2 L566.7,370.6 L570.9,354.3  '/></g>\n",
       "\t</g>\n",
       "<g fill=\"none\" color=\"white\" stroke=\"rgb( 86, 180, 233)\" stroke-width=\"2.00\" stroke-linecap=\"butt\" stroke-linejoin=\"miter\">\n",
       "</g>\n",
       "<g fill=\"none\" color=\"black\" stroke=\"currentColor\" stroke-width=\"2.00\" stroke-linecap=\"butt\" stroke-linejoin=\"miter\">\n",
       "</g>\n",
       "<g fill=\"none\" color=\"black\" stroke=\"black\" stroke-width=\"1.00\" stroke-linecap=\"butt\" stroke-linejoin=\"miter\">\n",
       "</g>\n",
       "<g fill=\"none\" color=\"black\" stroke=\"currentColor\" stroke-width=\"1.00\" stroke-linecap=\"butt\" stroke-linejoin=\"miter\">\n",
       "\t<path stroke='black'  d='M45.6,16.7 L45.6,444.0 L575.0,444.0 L575.0,16.7 L45.6,16.7 Z  '/></g>\n",
       "<g fill=\"none\" color=\"black\" stroke=\"currentColor\" stroke-width=\"1.00\" stroke-linecap=\"butt\" stroke-linejoin=\"miter\">\n",
       "</g>\n",
       "</g>\n",
       "</svg>\n",
       "\n"
      ],
      "text/plain": [
       "#<GnuplotRB::Plot:0x000000020929a8 @options=Hamster::Hash[:xdata => \"time\", :format_x => \"%H:%M\", :timefmt => \"%Y-%m-%dT%H:%M:%S\"], @datasets=Hamster::Vector[#<GnuplotRB::Dataset:0x00000001fbb8e0 @type=:datablock, @data=#<GnuplotRB::Datablock:0x00000001fbabe8 @stored_in_file=false, @data=\"0 \\n1 3.9590544192544943\\n2 \\n3 1.640772118722932\\n4 \\n5 1.694475971827469\\n6 \\n7 0.27763876548465305\\n8 \\n9 -0.38115356718257054\\n10 \\n11 -0.6387317571925566\\n12 \\n13 0.184921198117471\\n14 \\n15 0.22404915190926022\\n16 \\n17 1.6021627598177446\\n18 \\n19 0.39008220199512156\\n20 \\n21 -0.5502222176306448\\n22 \\n23 4.276124175182494\\n24 \\n25 1.153606845189982\\n26 \\n27 0.5320980205566235\\n28 \\n29 0.5708412583547098\\n30 \\n31 0.3996199733292336\\n32 \\n33 0.11379524790676321\\n34 \\n35 0.9588110857573255\\n36 \\n37 0.6196311768551559\\n38 \\n39 -0.2606163378873778\\n40 \\n41 -0.20442454670644317\\n42 \\n43 0.060868914181050116\\n44 \\n45 -0.0905026752819964\\n46 \\n47 -0.09373346844044095\\n48 \\n49 -0.05900705833865505\\n50 \\n51 -0.2896373775745884\\n52 \\n53 0.43276611936078613\\n54 \\n55 -0.02969251517102034\\n56 \\n57 -0.2007160069920415\\n58 \\n59 0.656682476501421\\n60 \\n61 -0.20412665021548548\\n62 \\n63 -0.7831580336033248\\n64 \\n65 2.117430655359221\\n66 \\n67 1.647585797798905\\n68 \\n69 -1.30791891166596\\n70 \\n71 2.5615545927630583\\n72 \\n73 4.643406993617264\\n74 \\n75 10.14608717307261\\n76 \\n77 4.5186015030480595\\n78 \\n79 1.8548527054446966\\n80 \\n81 2.3679820522200643\\n82 \\n83 8.123952035932922\\n84 \\n85 6.468265809651581\\n86 \\n87 -0.22750239271585215\\n88 \\n89 -0.9800650745939086\\n90 \\n91 0.8599537376444157\\n92 \\n93 3.162785282627504\\n94 \\n95 -0.17658276183757504\\n96 \\n97 6.381935820525893\\n98 \\n99 -0.5034925954884057\\n100 \\n101 -1.3964379785964094\\n102 \\n103 -1.895877149668002\\n104 \\n105 -0.1140856569082862\\n106 \\n107 -2.5819170541776035\\n108 \\n109 4.196307008265505\\n110 \\n111 2.4342321474520885\\n112 \\n113 3.558004318999659\\n114 \\n115 1.378496113588218\\n116 \\n117 0.20856653970462435\\n118 \\n119 2.9110841801473555\\n120 \\n121 4.2203923213462256\\n122 \\n123 2.7730557402275275\\n124 \\n125 3.4286455939130738\\n126 \\n127 0.8320344402519351\\n128 \\n129 0.5692376850134155\\n130 \\n131 0.23670596595803373\\n132 \\n133 0.3878265577415796\\n134 \\n135 0.47934347228983576\\n136 \\n137 0.5945243348383529\\n138 \\n139 1.7086197704882\\n140 \\n141 0.7190802973450254\\n142 \\n143 -0.11243332305558251\\n144 \\n145 -0.16912840223322334\\n146 \\n147 0.17746749524888994\\n148 \\n149 0.5883789095060208\\n150 \\n151 1.4408807846928435\\n152 \\n153 -0.22518990002178008\\n154 \\n155 -0.14604532523246627\\n156 \\n157 0.306886705443723\\n158 \\n159 -0.28541594319303476\\n160 \\n161 0.267004532316625\\n162 \\n163 0.6349271113059434\\n164 \\n165 0.1900675672290899\\n166 \\n167 0.05730251837548428\\n168 \\n169 0.1685918930155248\\n170 \\n171 0.2649853448868176\\n172 \\n173 0.4198108713059514\\n174 \\n175 -0.37395367505495036\\n176 \\n177 -0.5324088697450176\\n178 \\n179 1.1241985724582748\\n180 \\n181 0.17059265325426987\\n182 \\n183 0.026495675425824317\\n184 \\n185 0.23425228200204096\\n186 \\n187 0.5375408751757909\\n188 \\n189 0.3880631671415218\\n190 \\n191 0.6226792505395373\\n192 \\n193 0.23751349946580946\\n194 \\n195 0.28663473575418497\\n196 \\n197 -0.22182280460963355\\n198 \\n199 0.13769850888143154\\n200 \\n201 0.0738125086246586\\n202 \\n203 -0.20597864885241868\\n204 \\n205 0.23296382617888511\\n206 \\n207 0.4699632767280759\\n208 \\n209 0.3393188729170329\\n210 \\n211 0.8750864366195339\\n212 \\n213 -0.5885118026167517\\n214 \\n215 -0.010432765087225793\\n216 \\n217 1.2174659308526987\\n218 \\n219 0.5601068973388501\\n220 \\n221 0.14225502026314896\\n222 \\n223 0.4700470777387906\\n224 \\n225 0.9844243016738528\\n226 \\n227 0.21778430951076633\\n228 \\n229 2.882301364434003\\n230 \\n231 0.36733699840016776\\n232 \\n233 0.5727552962838898\\n234 \\n235 0.05409341427627723\\n236 \\n237 0.9167750685829841\\n238 \\n239 -0.4710920446573894\\n240 \\n241 -0.16246592975268737\\n242 \\n243 \\n\">, @options=Hamster::Hash[:with => \"lines\", :title => \"NO\", :using => \"1:2\"]>, #<GnuplotRB::Dataset:0x00000002d43490 @type=:datablock, @data=#<GnuplotRB::Datablock:0x00000002d431e8 @stored_in_file=false, @data=\"2016-02-22T10:42:44+01:00 \\n2016-02-22T10:43:55+01:00 16.2566628142127\\n2016-02-22T10:45:06+01:00 \\n2016-02-22T10:46:16+01:00 17.7000032436948\\n2016-02-22T10:47:27+01:00 \\n2016-02-22T10:48:38+01:00 14.5806201843574\\n2016-02-22T10:49:48+01:00 \\n2016-02-22T10:50:59+01:00 9.31928458200006\\n2016-02-22T10:52:09+01:00 \\n2016-02-22T10:53:20+01:00 7.61290572865782\\n2016-02-22T10:54:31+01:00 \\n2016-02-22T10:55:42+01:00 7.86010113090216\\n2016-02-22T10:56:52+01:00 \\n2016-02-22T10:58:03+01:00 7.98306311536912\\n2016-02-22T10:59:13+01:00 \\n2016-02-22T11:00:24+01:00 7.19230678570122\\n2016-02-22T11:01:35+01:00 \\n2016-02-22T11:02:46+01:00 8.56235928577591\\n2016-02-22T11:03:56+01:00 \\n2016-02-22T11:05:07+01:00 6.97333779930977\\n2016-02-22T11:06:17+01:00 \\n2016-02-22T11:07:28+01:00 5.11756494307584\\n2016-02-22T11:08:39+01:00 \\n2016-02-22T11:09:50+01:00 9.88454513617448\\n2016-02-22T11:11:00+01:00 \\n2016-02-22T11:12:11+01:00 7.48535320438877\\n2016-02-22T11:13:21+01:00 \\n2016-02-22T11:14:32+01:00 6.12539151408156\\n2016-02-22T11:15:42+01:00 \\n2016-02-22T11:16:53+01:00 5.16110328752638\\n2016-02-22T11:18:04+01:00 \\n2016-02-22T11:19:15+01:00 4.95540240074262\\n2016-02-22T11:20:25+01:00 \\n2016-02-22T11:21:36+01:00 4.93992434171524\\n2016-02-22T11:22:46+01:00 \\n2016-02-22T11:23:57+01:00 5.01989616330414\\n2016-02-22T11:25:08+01:00 \\n2016-02-22T11:26:19+01:00 4.0795099764535\\n2016-02-22T11:27:29+01:00 \\n2016-02-22T11:28:40+01:00 3.66215688287245\\n2016-02-22T11:29:50+01:00 \\n2016-02-22T11:31:01+01:00 3.8832020303479\\n2016-02-22T11:32:11+01:00 \\n2016-02-22T11:33:22+01:00 3.83290181823941\\n2016-02-22T11:34:33+01:00 \\n2016-02-22T11:35:44+01:00 3.34465014193725\\n2016-02-22T11:36:54+01:00 \\n2016-02-22T11:38:05+01:00 3.22810079133601\\n2016-02-22T11:39:15+01:00 \\n2016-02-22T11:40:26+01:00 3.21416666729168\\n2016-02-22T11:41:37+01:00 \\n2016-02-22T11:42:48+01:00 2.96545356616276\\n2016-02-22T11:43:58+01:00 \\n2016-02-22T11:45:09+01:00 3.82893321831765\\n2016-02-22T11:46:19+01:00 \\n2016-02-22T11:47:30+01:00 3.48241402804186\\n2016-02-22T11:48:41+01:00 \\n2016-02-22T11:49:52+01:00 3.12255784682627\\n2016-02-22T11:51:02+01:00 \\n2016-02-22T11:52:13+01:00 4.4386981678401\\n2016-02-22T11:53:23+01:00 \\n2016-02-22T11:54:34+01:00 4.64794768577698\\n2016-02-22T11:55:44+01:00 \\n2016-02-22T11:56:56+01:00 5.18234577798649\\n2016-02-22T11:58:06+01:00 \\n2016-02-22T11:59:17+01:00 7.57281023681855\\n2016-02-22T12:00:27+01:00 \\n2016-02-22T12:01:38+01:00 5.56214468591484\\n2016-02-22T12:02:48+01:00 \\n2016-02-22T12:03:59+01:00 3.33380898986464\\n2016-02-22T12:05:10+01:00 \\n2016-02-22T12:06:21+01:00 8.7601029132915\\n2016-02-22T12:07:31+01:00 \\n2016-02-22T12:08:42+01:00 10.8450278597948\\n2016-02-22T12:09:52+01:00 \\n2016-02-22T12:11:03+01:00 16.739007364734\\n2016-02-22T12:12:14+01:00 \\n2016-02-22T12:13:25+01:00 11.5580003237772\\n2016-02-22T12:14:35+01:00 \\n2016-02-22T12:15:46+01:00 8.45874543944501\\n2016-02-22T12:16:56+01:00 \\n2016-02-22T12:18:07+01:00 9.44322173707756\\n2016-02-22T12:19:18+01:00 \\n2016-02-22T12:20:29+01:00 15.63214040275\\n2016-02-22T12:21:39+01:00 \\n2016-02-22T12:22:50+01:00 14.4327613255268\\n2016-02-22T12:24:00+01:00 \\n2016-02-22T12:25:11+01:00 7.76055061321214\\n2016-02-22T12:26:21+01:00 \\n2016-02-22T12:27:33+01:00 7.88586363004961\\n2016-02-22T12:28:43+01:00 \\n2016-02-22T12:29:54+01:00 9.69186580284268\\n2016-02-22T12:31:04+01:00 \\n2016-02-22T12:32:15+01:00 9.33359557823227\\n2016-02-22T12:33:25+01:00 \\n2016-02-22T12:34:37+01:00 5.81268186902712\\n2016-02-22T12:35:47+01:00 \\n2016-02-22T12:36:58+01:00 13.1075123872538\\n2016-02-22T12:38:08+01:00 \\n2016-02-22T12:39:19+01:00 5.76943001297124\\n2016-02-22T12:40:29+01:00 \\n2016-02-22T12:41:40+01:00 3.7829630968139\\n2016-02-22T12:42:51+01:00 \\n2016-02-22T12:44:02+01:00 4.42297527566331\\n2016-02-22T12:45:12+01:00 \\n2016-02-22T12:46:23+01:00 7.09695895817016\\n2016-02-22T12:47:33+01:00 \\n2016-02-22T12:48:44+01:00 4.98292135663907\\n2016-02-22T12:49:54+01:00 \\n2016-02-22T12:51:06+01:00 11.3051909923414\\n2016-02-22T12:52:16+01:00 \\n2016-02-22T12:53:27+01:00 7.74485165936691\\n2016-02-22T12:54:37+01:00 \\n2016-02-22T12:55:48+01:00 9.93135487617975\\n2016-02-22T12:56:58+01:00 \\n2016-02-22T12:58:10+01:00 6.68992198519914\\n2016-02-22T12:59:20+01:00 \\n2016-02-22T13:00:31+01:00 4.11505963726509\\n2016-02-22T13:01:41+01:00 \\n2016-02-22T13:02:52+01:00 8.10328782636127\\n2016-02-22T13:04:03+01:00 \\n2016-02-22T13:05:14+01:00 9.52642017181681\\n2016-02-22T13:06:24+01:00 \\n2016-02-22T13:07:35+01:00 7.24442590144223\\n2016-02-22T13:08:45+01:00 \\n2016-02-22T13:09:56+01:00 7.57660351727626\\n2016-02-22T13:11:06+01:00 \\n2016-02-22T13:12:17+01:00 3.99500653563718\\n2016-02-22T13:13:28+01:00 \\n2016-02-22T13:14:39+01:00 2.86150046074182\\n2016-02-22T13:15:49+01:00 \\n2016-02-22T13:17:00+01:00 2.5817855067742\\n2016-02-22T13:18:10+01:00 \\n2016-02-22T13:19:21+01:00 2.64626737013539\\n2016-02-22T13:20:32+01:00 \\n2016-02-22T13:21:43+01:00 2.51222373696422\\n2016-02-22T13:22:53+01:00 \\n2016-02-22T13:24:04+01:00 2.77867550304431\\n2016-02-22T13:25:14+01:00 \\n2016-02-22T13:26:25+01:00 4.08436283950676\\n2016-02-22T13:27:36+01:00 \\n2016-02-22T13:28:47+01:00 2.8064038328191\\n2016-02-22T13:29:57+01:00 \\n2016-02-22T13:31:08+01:00 1.97836676939681\\n2016-02-22T13:32:18+01:00 \\n2016-02-22T13:33:29+01:00 2.22167873129274\\n2016-02-22T13:34:39+01:00 \\n2016-02-22T13:35:50+01:00 2.62174910983095\\n2016-02-22T13:37:01+01:00 \\n2016-02-22T13:38:12+01:00 3.4549322190858\\n2016-02-22T13:39:22+01:00 \\n2016-02-22T13:40:33+01:00 4.68936675967136\\n2016-02-22T13:41:43+01:00 \\n2016-02-22T13:42:54+01:00 2.23700581027795\\n2016-02-22T13:44:05+01:00 \\n2016-02-22T13:45:16+01:00 2.05672437176519\\n2016-02-22T13:46:26+01:00 \\n2016-02-22T13:47:37+01:00 3.24096192617907\\n2016-02-22T13:48:47+01:00 \\n2016-02-22T13:49:58+01:00 2.98727800949966\\n2016-02-22T13:51:09+01:00 \\n2016-02-22T13:52:20+01:00 3.73129256290231\\n2016-02-22T13:53:30+01:00 \\n2016-02-22T13:54:41+01:00 3.43732323481691\\n2016-02-22T13:55:51+01:00 \\n2016-02-22T13:57:02+01:00 2.41329555205729\\n2016-02-22T13:58:13+01:00 \\n2016-02-22T13:59:24+01:00 2.13804710663139\\n2016-02-22T14:00:34+01:00 \\n2016-02-22T14:01:45+01:00 2.15704069929992\\n2016-02-22T14:02:56+01:00 \\n2016-02-22T14:04:07+01:00 2.72395557064455\\n2016-02-22T14:05:17+01:00 \\n2016-02-22T14:06:28+01:00 3.52452180179672\\n2016-02-22T14:07:38+01:00 \\n2016-02-22T14:08:50+01:00 2.79519556223191\\n2016-02-22T14:10:00+01:00 \\n2016-02-22T14:11:11+01:00 2.08554944968976\\n2016-02-22T14:12:21+01:00 \\n2016-02-22T14:13:32+01:00 3.91286454933138\\n2016-02-22T14:14:43+01:00 \\n2016-02-22T14:15:54+01:00 3.32920104273086\\n2016-02-22T14:17:04+01:00 \\n2016-02-22T14:18:15+01:00 2.95139335772717\\n2016-02-22T14:19:25+01:00 \\n2016-02-22T14:20:37+01:00 2.8019141466398\\n2016-02-22T14:21:47+01:00 \\n2016-02-22T14:22:58+01:00 3.20323942738144\\n2016-02-22T14:24:08+01:00 \\n2016-02-22T14:25:19+01:00 3.8900686264942\\n2016-02-22T14:26:29+01:00 \\n2016-02-22T14:27:41+01:00 4.11903360749046\\n2016-02-22T14:28:51+01:00 \\n2016-02-22T14:30:02+01:00 2.8746202160918\\n2016-02-22T14:31:12+01:00 \\n2016-02-22T14:32:23+01:00 2.55489161623258\\n2016-02-22T14:33:34+01:00 \\n2016-02-22T14:34:45+01:00 2.12328082084011\\n2016-02-22T14:35:55+01:00 \\n2016-02-22T14:37:06+01:00 3.04376736206515\\n2016-02-22T14:38:16+01:00 \\n2016-02-22T14:39:27+01:00 3.05909977975846\\n2016-02-22T14:40:37+01:00 \\n2016-02-22T14:41:48+01:00 1.96208110413129\\n2016-02-22T14:42:58+01:00 \\n2016-02-22T14:44:09+01:00 2.38087147086466\\n2016-02-22T14:45:20+01:00 \\n2016-02-22T14:46:30+01:00 3.37089298998369\\n2016-02-22T14:47:41+01:00 \\n2016-02-22T14:48:52+01:00 3.52416190336936\\n2016-02-22T14:50:02+01:00 \\n2016-02-22T14:51:13+01:00 3.57157309862845\\n2016-02-22T14:52:23+01:00 \\n2016-02-22T14:53:34+01:00 2.40432724204761\\n2016-02-22T14:54:44+01:00 \\n2016-02-22T14:55:55+01:00 3.94972984186012\\n2016-02-22T14:57:05+01:00 \\n2016-02-22T14:58:16+01:00 5.08992410445429\\n2016-02-22T14:59:26+01:00 \\n2016-02-22T15:00:37+01:00 4.29698414486879\\n2016-02-22T15:01:48+01:00 \\n2016-02-22T15:02:59+01:00 3.44699483135197\\n2016-02-22T15:04:09+01:00 \\n2016-02-22T15:05:20+01:00 3.37473873067137\\n2016-02-22T15:06:30+01:00 \\n2016-02-22T15:07:41+01:00 4.54704464542608\\n2016-02-22T15:08:51+01:00 \\n2016-02-22T15:10:02+01:00 4.73716363891684\\n2016-02-22T15:11:12+01:00 \\n2016-02-22T15:12:23+01:00 8.66089679046487\\n2016-02-22T15:13:33+01:00 \\n2016-02-22T15:14:44+01:00 5.51170103768669\\n2016-02-22T15:15:54+01:00 \\n2016-02-22T15:17:05+01:00 3.98687423815742\\n2016-02-22T15:18:16+01:00 \\n2016-02-22T15:19:27+01:00 3.22937624474153\\n2016-02-22T15:20:37+01:00 \\n2016-02-22T15:21:48+01:00 4.09123250178226\\n2016-02-22T15:22:58+01:00 \\n2016-02-22T15:24:09+01:00 2.63051270351495\\n2016-02-22T15:25:19+01:00 \\n2016-02-22T15:26:30+01:00 3.27485283389549\\n2016-02-22T15:27:40+01:00 \\n2016-02-22T15:28:51+01:00 3.69760121906771\\n\">, @options=Hamster::Hash[:with => \"lines\", :title => \"NO_x\", :using => \"1:2\"]>, #<GnuplotRB::Dataset:0x00000002cc15f8 @type=:datablock, @data=#<GnuplotRB::Datablock:0x00000002cc0d60 @stored_in_file=false, @data=\"2016-02-22T10:42:44+01:00 7.95658889551521\\n2016-02-22T10:43:55+01:00 \\n2016-02-22T10:45:06+01:00 16.6386278944012\\n2016-02-22T10:46:16+01:00 \\n2016-02-22T10:47:27+01:00 15.4715572588364\\n2016-02-22T10:48:38+01:00 \\n2016-02-22T10:49:48+01:00 10.3371454344813\\n2016-02-22T10:50:59+01:00 \\n2016-02-22T10:52:09+01:00 7.76439267204199\\n2016-02-22T10:53:20+01:00 \\n2016-02-22T10:54:31+01:00 8.22372591963879\\n2016-02-22T10:55:42+01:00 \\n2016-02-22T10:56:52+01:00 8.77006511051605\\n2016-02-22T10:58:03+01:00 \\n2016-02-22T10:59:13+01:00 6.83990778304731\\n2016-02-22T11:00:24+01:00 \\n2016-02-22T11:01:35+01:00 7.09660748453661\\n2016-02-22T11:02:46+01:00 \\n2016-02-22T11:03:56+01:00 6.82570684848646\\n2016-02-22T11:05:07+01:00 \\n2016-02-22T11:06:17+01:00 6.34421915249737\\n2016-02-22T11:07:28+01:00 \\n2016-02-22T11:08:39+01:00 4.9913551689156\\n2016-02-22T11:09:50+01:00 \\n2016-02-22T11:11:00+01:00 6.21679568557434\\n2016-02-22T11:12:11+01:00 \\n2016-02-22T11:13:21+01:00 6.44507800925106\\n2016-02-22T11:14:32+01:00 \\n2016-02-22T11:15:42+01:00 4.75350594280904\\n2016-02-22T11:16:53+01:00 \\n2016-02-22T11:18:04+01:00 4.4270181155343\\n2016-02-22T11:19:15+01:00 \\n2016-02-22T11:20:25+01:00 4.68273315743502\\n2016-02-22T11:21:36+01:00 \\n2016-02-22T11:22:46+01:00 4.96750536910625\\n2016-02-22T11:23:57+01:00 \\n2016-02-22T11:25:08+01:00 3.15466478598738\\n2016-02-22T11:26:19+01:00 \\n2016-02-22T11:27:29+01:00 3.76079402428521\\n2016-02-22T11:28:40+01:00 \\n2016-02-22T11:29:50+01:00 4.082471020101\\n2016-02-22T11:31:01+01:00 \\n2016-02-22T11:32:11+01:00 4.09270952052947\\n2016-02-22T11:33:22+01:00 \\n2016-02-22T11:34:33+01:00 3.45135628758725\\n2016-02-22T11:35:44+01:00 \\n2016-02-22T11:36:54+01:00 3.41917756474375\\n2016-02-22T11:38:05+01:00 \\n2016-02-22T11:39:15+01:00 3.22586198727348\\n2016-02-22T11:40:26+01:00 \\n2016-02-22T11:41:37+01:00 3.32048546398719\\n2016-02-22T11:42:48+01:00 \\n2016-02-22T11:43:58+01:00 3.19061747306849\\n2016-02-22T11:45:09+01:00 \\n2016-02-22T11:46:19+01:00 3.59882165969188\\n2016-02-22T11:47:30+01:00 \\n2016-02-22T11:48:41+01:00 3.42539142673388\\n2016-02-22T11:49:52+01:00 \\n2016-02-22T11:51:02+01:00 3.22259455657761\\n2016-02-22T11:52:13+01:00 \\n2016-02-22T11:53:23+01:00 4.33355765518762\\n2016-02-22T11:54:34+01:00 \\n2016-02-22T11:55:44+01:00 5.36328796495499\\n2016-02-22T11:56:56+01:00 \\n2016-02-22T11:58:06+01:00 6.55099144026256\\n2016-02-22T11:59:17+01:00 \\n2016-02-22T12:00:27+01:00 4.37519887559699\\n2016-02-22T12:01:38+01:00 \\n2016-02-22T12:02:48+01:00 3.4604067877825\\n2016-02-22T12:03:59+01:00 \\n2016-02-22T12:05:10+01:00 5.8230490152787\\n2016-02-22T12:06:21+01:00 \\n2016-02-22T12:07:31+01:00 6.56875890316903\\n2016-02-22T12:08:42+01:00 \\n2016-02-22T12:09:52+01:00 5.83965378745353\\n2016-02-22T12:11:03+01:00 \\n2016-02-22T12:12:14+01:00 7.34618659586925\\n2016-02-22T12:13:25+01:00 \\n2016-02-22T12:14:35+01:00 6.73693200016847\\n2016-02-22T12:15:46+01:00 \\n2016-02-22T12:16:56+01:00 6.4727272603134\\n2016-02-22T12:18:07+01:00 \\n2016-02-22T12:19:18+01:00 7.67775210940159\\n2016-02-22T12:20:29+01:00 \\n2016-02-22T12:21:39+01:00 7.34101284595911\\n2016-02-22T12:22:50+01:00 \\n2016-02-22T12:24:00+01:00 8.57919673973617\\n2016-02-22T12:25:11+01:00 \\n2016-02-22T12:26:21+01:00 7.40523524020162\\n2016-02-22T12:27:33+01:00 \\n2016-02-22T12:28:43+01:00 10.2860473506287\\n2016-02-22T12:29:54+01:00 \\n2016-02-22T12:31:04+01:00 7.39825755843586\\n2016-02-22T12:32:15+01:00 \\n2016-02-22T12:33:25+01:00 4.96065102239101\\n2016-02-22T12:34:37+01:00 \\n2016-02-22T12:35:47+01:00 6.989305639103\\n2016-02-22T12:36:58+01:00 \\n2016-02-22T12:38:08+01:00 6.46556198832993\\n2016-02-22T12:39:19+01:00 \\n2016-02-22T12:40:29+01:00 6.08299645929176\\n2016-02-22T12:41:40+01:00 \\n2016-02-22T12:42:51+01:00 4.27580569152886\\n2016-02-22T12:44:02+01:00 \\n2016-02-22T12:45:12+01:00 8.33312385302387\\n2016-02-22T12:46:23+01:00 \\n2016-02-22T12:47:33+01:00 6.10476931006183\\n2016-02-22T12:48:44+01:00 \\n2016-02-22T12:49:54+01:00 9.00434315803976\\n2016-02-22T12:51:06+01:00 \\n2016-02-22T12:52:16+01:00 5.26607645383325\\n2016-02-22T12:53:27+01:00 \\n2016-02-22T12:54:37+01:00 5.35453520298116\\n2016-02-22T12:55:48+01:00 \\n2016-02-22T12:56:58+01:00 7.37781639934805\\n2016-02-22T12:58:10+01:00 \\n2016-02-22T12:59:20+01:00 3.30243508075538\\n2016-02-22T13:00:31+01:00 \\n2016-02-22T13:01:41+01:00 4.50204325497393\\n2016-02-22T13:02:52+01:00 \\n2016-02-22T13:04:03+01:00 5.8823640374539\\n2016-02-22T13:05:14+01:00 \\n2016-02-22T13:06:24+01:00 4.73780907457154\\n2016-02-22T13:07:35+01:00 \\n2016-02-22T13:08:45+01:00 4.20868390860937\\n2016-02-22T13:09:56+01:00 \\n2016-02-22T13:11:06+01:00 4.08808723368385\\n2016-02-22T13:12:17+01:00 \\n2016-02-22T13:13:28+01:00 2.23785695708664\\n2016-02-22T13:14:39+01:00 \\n2016-02-22T13:15:49+01:00 2.34590231523437\\n2016-02-22T13:17:00+01:00 \\n2016-02-22T13:18:10+01:00 2.34426835477005\\n2016-02-22T13:19:21+01:00 \\n2016-02-22T13:20:32+01:00 2.17261327001757\\n2016-02-22T13:21:43+01:00 \\n2016-02-22T13:22:53+01:00 1.89511532982899\\n2016-02-22T13:24:04+01:00 \\n2016-02-22T13:25:14+01:00 2.46911607928184\\n2016-02-22T13:26:25+01:00 \\n2016-02-22T13:27:36+01:00 2.28237005875528\\n2016-02-22T13:28:47+01:00 \\n2016-02-22T13:29:57+01:00 1.89502414632359\\n2016-02-22T13:31:08+01:00 \\n2016-02-22T13:32:18+01:00 2.28381863088924\\n2016-02-22T13:33:29+01:00 \\n2016-02-22T13:34:39+01:00 2.49628875584386\\n2016-02-22T13:35:50+01:00 \\n2016-02-22T13:37:01+01:00 2.39227447332026\\n2016-02-22T13:38:12+01:00 \\n2016-02-22T13:39:22+01:00 3.33415216223001\\n2016-02-22T13:40:33+01:00 \\n2016-02-22T13:41:43+01:00 3.16402635374465\\n2016-02-22T13:42:54+01:00 \\n2016-02-22T13:44:05+01:00 1.76036506685481\\n2016-02-22T13:45:16+01:00 \\n2016-02-22T13:46:26+01:00 2.63894327601173\\n2016-02-22T13:47:37+01:00 \\n2016-02-22T13:48:47+01:00 3.22505037750511\\n2016-02-22T13:49:58+01:00 \\n2016-02-22T13:51:09+01:00 3.32033752788028\\n2016-02-22T13:52:20+01:00 \\n2016-02-22T13:53:30+01:00 3.606211061422\\n2016-02-22T13:54:41+01:00 \\n2016-02-22T13:55:51+01:00 2.00990252275361\\n2016-02-22T13:57:02+01:00 \\n2016-02-22T13:58:13+01:00 2.43655344690279\\n2016-02-22T13:59:24+01:00 \\n2016-02-22T14:00:34+01:00 1.72994712198433\\n2016-02-22T14:01:45+01:00 \\n2016-02-22T14:02:56+01:00 2.24695049058446\\n2016-02-22T14:04:07+01:00 \\n2016-02-22T14:05:17+01:00 2.66800376747786\\n2016-02-22T14:06:28+01:00 \\n2016-02-22T14:07:38+01:00 3.53526728839082\\n2016-02-22T14:08:50+01:00 \\n2016-02-22T14:10:00+01:00 2.8132011320469\\n2016-02-22T14:11:11+01:00 \\n2016-02-22T14:12:21+01:00 2.42546540559184\\n2016-02-22T14:13:32+01:00 \\n2016-02-22T14:14:43+01:00 3.15186654815437\\n2016-02-22T14:15:54+01:00 \\n2016-02-22T14:17:04+01:00 3.16525527528723\\n2016-02-22T14:18:15+01:00 \\n2016-02-22T14:19:25+01:00 2.68792540752653\\n2016-02-22T14:20:37+01:00 \\n2016-02-22T14:21:47+01:00 2.45073897571812\\n2016-02-22T14:22:58+01:00 \\n2016-02-22T14:24:08+01:00 2.87763052902434\\n2016-02-22T14:25:19+01:00 \\n2016-02-22T14:26:29+01:00 4.1175863765778\\n2016-02-22T14:27:41+01:00 \\n2016-02-22T14:28:51+01:00 2.89237878231368\\n2016-02-22T14:30:02+01:00 \\n2016-02-22T14:31:12+01:00 2.38543003214517\\n2016-02-22T14:32:23+01:00 \\n2016-02-22T14:33:34+01:00 2.15108372881162\\n2016-02-22T14:34:45+01:00 \\n2016-02-22T14:35:55+01:00 2.53639084748733\\n2016-02-22T14:37:06+01:00 \\n2016-02-22T14:38:16+01:00 3.27054012640551\\n2016-02-22T14:39:27+01:00 \\n2016-02-22T14:40:37+01:00 2.70405206171099\\n2016-02-22T14:41:48+01:00 \\n2016-02-22T14:42:58+01:00 1.63961663170329\\n2016-02-22T14:44:09+01:00 \\n2016-02-22T14:45:20+01:00 2.65619865766826\\n2016-02-22T14:46:30+01:00 \\n2016-02-22T14:47:41+01:00 3.14915692677993\\n2016-02-22T14:48:52+01:00 \\n2016-02-22T14:50:02+01:00 3.22002651294624\\n2016-02-22T14:51:13+01:00 \\n2016-02-22T14:52:23+01:00 2.18032061178902\\n2016-02-22T14:53:34+01:00 \\n2016-02-22T14:54:44+01:00 3.79391355594991\\n2016-02-22T14:55:55+01:00 \\n2016-02-22T14:57:05+01:00 4.12407012201524\\n2016-02-22T14:58:16+01:00 \\n2016-02-22T14:59:26+01:00 3.62439005544729\\n2016-02-22T15:00:37+01:00 \\n2016-02-22T15:01:48+01:00 3.84936443961259\\n2016-02-22T15:02:59+01:00 \\n2016-02-22T15:04:09+01:00 2.76778595198088\\n2016-02-22T15:05:20+01:00 \\n2016-02-22T15:06:30+01:00 3.0396691045751\\n2016-02-22T15:07:41+01:00 \\n2016-02-22T15:08:51+01:00 4.07820607251841\\n2016-02-22T15:10:02+01:00 \\n2016-02-22T15:11:12+01:00 4.95433887845025\\n2016-02-22T15:12:23+01:00 \\n2016-02-22T15:13:33+01:00 6.59124272646246\\n2016-02-22T15:14:44+01:00 \\n2016-02-22T15:15:54+01:00 3.7178639251694\\n2016-02-22T15:17:05+01:00 \\n2016-02-22T15:18:16+01:00 3.11037395857766\\n2016-02-22T15:19:27+01:00 \\n2016-02-22T15:20:37+01:00 3.23927749288964\\n2016-02-22T15:21:48+01:00 \\n2016-02-22T15:22:58+01:00 3.1105503320961\\n2016-02-22T15:24:09+01:00 \\n2016-02-22T15:25:19+01:00 3.09278515838835\\n2016-02-22T15:26:30+01:00 \\n2016-02-22T15:27:40+01:00 3.77699978291843\\n2016-02-22T15:28:51+01:00 \\n\">, @options=Hamster::Hash[:with => \"lines\", :title => \"NO_2\", :using => \"1:2\"]>], @cmd=\"plot \">"
      ]
     },
     "execution_count": 32,
     "metadata": {},
     "output_type": "execute_result"
    }
   ],
   "source": [
    "plot << [all[:no], with: \"lines\", title: \"NO\"]"
   ]
  },
  {
   "cell_type": "markdown",
   "metadata": {},
   "source": [
    "## Save NO"
   ]
  },
  {
   "cell_type": "code",
   "execution_count": 33,
   "metadata": {
    "collapsed": false
   },
   "outputs": [
    {
     "data": {
      "text/html": [
       "<table><tr><th colspan=\"12\">Daru::DataFrame:23218280  rows: 10  cols: 11<tr><th></th><th>index</th><th>timestamp</th><th>no2</th><th>no2_err</th><th>o3</th><th>o3_err</th><th>h2o</th><th>h2o_err</th><th>nox</th><th>nox_err</th><th>no</th></tr><tr><td>0</td><td>0</td><td>2016-02-22T10:42:44+01:00</td><td>7.95658889551521</td><td>0.0653100505114418</td><td>35.5115197644284</td><td>1149.0426000682</td><td>3665141.91075972</td><td>925594.721589852</td><td></td><td></td><td></td></tr><tr><td>1</td><td>1</td><td>2016-02-22T10:43:55+01:00</td><td></td><td></td><td>2882.62884809316</td><td>1866.32015106246</td><td>3903930.77976969</td><td>1503851.60074163</td><td>16.2566628142127</td><td>0.107415206400888</td><td>3.9590544192544943</td></tr><tr><td>2</td><td>2</td><td>2016-02-22T10:45:06+01:00</td><td>16.6386278944012</td><td>0.106270597308685</td><td>-928.749504463599</td><td>1845.33478910489</td><td>4366542.36753126</td><td>1486963.22039045</td><td></td><td></td><td></td></tr><tr><td>3</td><td>3</td><td>2016-02-22T10:46:16+01:00</td><td></td><td></td><td>2587.18198061541</td><td>1979.87702335278</td><td>4272829.70240693</td><td>1595428.677505</td><td>17.7000032436948</td><td>0.114207158635106</td><td>1.640772118722932</td></tr><tr><td>4</td><td>4</td><td>2016-02-22T10:47:27+01:00</td><td>15.4715572588364</td><td>0.101923822698394</td><td>-577.403950806126</td><td>1773.10058674671</td><td>4241770.73354746</td><td>1428662.5383808</td><td></td><td></td><td></td></tr><tr><td>5</td><td>5</td><td>2016-02-22T10:48:38+01:00</td><td></td><td></td><td>2438.65996647698</td><td>1736.17221507061</td><td>3828249.81785127</td><td>1398915.48322694</td><td>14.5806201843574</td><td>0.0996676260001644</td><td>1.694475971827469</td></tr><tr><td>6</td><td>6</td><td>2016-02-22T10:49:48+01:00</td><td>10.3371454344813</td><td>0.0763960025413429</td><td>-530.046244473469</td><td>1339.39057402859</td><td>4082024.36935253</td><td>1079010.93990976</td><td></td><td></td><td></td></tr><tr><td>7</td><td>7</td><td>2016-02-22T10:50:59+01:00</td><td></td><td></td><td>2828.66443510416</td><td>1303.36096429051</td><td>3642236.38805852</td><td>1049970.59091174</td><td>9.31928458200006</td><td>0.074230481187959</td><td>0.27763876548465305</td></tr><tr><td>8</td><td>8</td><td>2016-02-22T10:52:09+01:00</td><td>7.76439267204199</td><td>0.0668392742041499</td><td>-557.083679993495</td><td>1176.23377661221</td><td>3313757.52455168</td><td>947529.411157991</td><td></td><td></td><td></td></tr><tr><td>9</td><td>9</td><td>2016-02-22T10:53:20+01:00</td><td></td><td></td><td>2541.13329136179</td><td>1124.5537823362</td><td>3716648.02787163</td><td>905867.763635704</td><td>7.61290572865782</td><td>0.0638867897065253</td><td>-0.38115356718257054</td></tr></table>"
      ],
      "text/plain": [
       "\n",
       "#<Daru::DataFrame:23218280 @name = df39a006-6b61-4acc-b7ee-45cc9c50bf56 @size = 10>\n",
       "                index  timestamp        no2    no2_err         o3     o3_err        h2o    h2o_err        nox    nox_err         no \n",
       "         0          0 2016-02-22 7.95658889 0.06531005 35.5115197 1149.04260 3665141.91 925594.721        nil        nil        nil \n",
       "         1          1 2016-02-22        nil        nil 2882.62884 1866.32015 3903930.77 1503851.60 16.2566628 0.10741520 3.95905441 \n",
       "         2          2 2016-02-22 16.6386278 0.10627059 -928.74950 1845.33478 4366542.36 1486963.22        nil        nil        nil \n",
       "         3          3 2016-02-22        nil        nil 2587.18198 1979.87702 4272829.70 1595428.67 17.7000032 0.11420715 1.64077211 \n",
       "         4          4 2016-02-22 15.4715572 0.10192382 -577.40395 1773.10058 4241770.73 1428662.53        nil        nil        nil \n",
       "         5          5 2016-02-22        nil        nil 2438.65996 1736.17221 3828249.81 1398915.48 14.5806201 0.09966762 1.69447597 \n",
       "         6          6 2016-02-22 10.3371454 0.07639600 -530.04624 1339.39057 4082024.36 1079010.93        nil        nil        nil \n",
       "         7          7 2016-02-22        nil        nil 2828.66443 1303.36096 3642236.38 1049970.59 9.31928458 0.07423048 0.27763876 \n",
       "         8          8 2016-02-22 7.76439267 0.06683927 -557.08367 1176.23377 3313757.52 947529.411        nil        nil        nil \n",
       "         9          9 2016-02-22        nil        nil 2541.13329 1124.55378 3716648.02 905867.763 7.61290572 0.06388678 -0.3811535 \n"
      ]
     },
     "execution_count": 33,
     "metadata": {},
     "output_type": "execute_result"
    }
   ],
   "source": [
    "all.write_csv(output)\n",
    "all.head"
   ]
  }
 ],
 "metadata": {
  "kernelspec": {
   "display_name": "Ruby 2.2.1",
   "language": "ruby",
   "name": "ruby"
  },
  "language_info": {
   "file_extension": ".rb",
   "mimetype": "application/x-ruby",
   "name": "ruby",
   "version": "2.2.1"
  }
 },
 "nbformat": 4,
 "nbformat_minor": 0
}
