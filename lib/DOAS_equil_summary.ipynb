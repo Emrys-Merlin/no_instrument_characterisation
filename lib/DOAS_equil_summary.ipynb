{
 "cells": [
  {
   "cell_type": "code",
   "execution_count": 1,
   "metadata": {
    "collapsed": false
   },
   "outputs": [
    {
     "data": {
      "application/javascript": [
       "if(window['d3'] === undefined ||\n",
       "   window['Nyaplot'] === undefined){\n",
       "    var path = {\"d3\":\"https://cdnjs.cloudflare.com/ajax/libs/d3/3.5.5/d3.min\",\"downloadable\":\"http://cdn.rawgit.com/domitry/d3-downloadable/master/d3-downloadable\"};\n",
       "\n",
       "\n",
       "\n",
       "    var shim = {\"d3\":{\"exports\":\"d3\"},\"downloadable\":{\"exports\":\"downloadable\"}};\n",
       "\n",
       "    require.config({paths: path, shim:shim});\n",
       "\n",
       "\n",
       "require(['d3'], function(d3){window['d3']=d3;console.log('finished loading d3');require(['downloadable'], function(downloadable){window['downloadable']=downloadable;console.log('finished loading downloadable');\n",
       "\n",
       "\tvar script = d3.select(\"head\")\n",
       "\t    .append(\"script\")\n",
       "\t    .attr(\"src\", \"http://cdn.rawgit.com/domitry/Nyaplotjs/master/release/nyaplot.js\")\n",
       "\t    .attr(\"async\", true);\n",
       "\n",
       "\tscript[0][0].onload = script[0][0].onreadystatechange = function(){\n",
       "\n",
       "\n",
       "\t    var event = document.createEvent(\"HTMLEvents\");\n",
       "\t    event.initEvent(\"load_nyaplot\",false,false);\n",
       "\t    window.dispatchEvent(event);\n",
       "\t    console.log('Finished loading Nyaplotjs');\n",
       "\n",
       "\t};\n",
       "\n",
       "\n",
       "});});\n",
       "}\n"
      ],
      "text/plain": [
       "\"if(window['d3'] === undefined ||\\n   window['Nyaplot'] === undefined){\\n    var path = {\\\"d3\\\":\\\"https://cdnjs.cloudflare.com/ajax/libs/d3/3.5.5/d3.min\\\",\\\"downloadable\\\":\\\"http://cdn.rawgit.com/domitry/d3-downloadable/master/d3-downloadable\\\"};\\n\\n\\n\\n    var shim = {\\\"d3\\\":{\\\"exports\\\":\\\"d3\\\"},\\\"downloadable\\\":{\\\"exports\\\":\\\"downloadable\\\"}};\\n\\n    require.config({paths: path, shim:shim});\\n\\n\\nrequire(['d3'], function(d3){window['d3']=d3;console.log('finished loading d3');require(['downloadable'], function(downloadable){window['downloadable']=downloadable;console.log('finished loading downloadable');\\n\\n\\tvar script = d3.select(\\\"head\\\")\\n\\t    .append(\\\"script\\\")\\n\\t    .attr(\\\"src\\\", \\\"http://cdn.rawgit.com/domitry/Nyaplotjs/master/release/nyaplot.js\\\")\\n\\t    .attr(\\\"async\\\", true);\\n\\n\\tscript[0][0].onload = script[0][0].onreadystatechange = function(){\\n\\n\\n\\t    var event = document.createEvent(\\\"HTMLEvents\\\");\\n\\t    event.initEvent(\\\"load_nyaplot\\\",false,false);\\n\\t    window.dispatchEvent(event);\\n\\t    console.log('Finished loading Nyaplotjs');\\n\\n\\t};\\n\\n\\n});});\\n}\\n\""
      ]
     },
     "metadata": {},
     "output_type": "display_data"
    }
   ],
   "source": [
    "require \"narray\"\n",
    "require \"daru\"\n",
    "require \"gnuplotrb\"\n",
    "include Daru\n",
    "include GnuplotRB\n",
    "include Fit\n",
    "nil"
   ]
  },
  {
   "cell_type": "markdown",
   "metadata": {},
   "source": [
    "# Variables"
   ]
  },
  {
   "cell_type": "code",
   "execution_count": 2,
   "metadata": {
    "collapsed": true
   },
   "outputs": [],
   "source": [
    "nil"
   ]
  },
  {
   "cell_type": "markdown",
   "metadata": {},
   "source": [
    "# Time upward"
   ]
  },
  {
   "cell_type": "code",
   "execution_count": 4,
   "metadata": {
    "collapsed": false
   },
   "outputs": [
    {
     "data": {
      "text/html": [
       "<table><tr><th colspan=\"4\">Daru::DataFrame:22019580  rows: 5  cols: 3<tr><th></th><th>l</th><th>t</th><th>t_err</th></tr><tr><td>0</td><td>5</td><td>16</td><td>1</td></tr><tr><td>1</td><td>5</td><td>15</td><td>1</td></tr><tr><td>2</td><td>10</td><td>7.5</td><td>0.2</td></tr><tr><td>3</td><td>15</td><td>11.2</td><td>0.2</td></tr><tr><td>4</td><td>15</td><td>10.2</td><td>0.2</td></tr></table>"
      ],
      "text/plain": [
       "\n",
       "#<Daru::DataFrame:22019580 @name = 07a50ea6-82c7-49aa-971c-100cfbc94462 @size = 5>\n",
       "                    l          t      t_err \n",
       "         0          5         16          1 \n",
       "         1          5         15          1 \n",
       "         2         10        7.5        0.2 \n",
       "         3         15       11.2        0.2 \n",
       "         4         15       10.2        0.2 \n"
      ]
     },
     "execution_count": 4,
     "metadata": {},
     "output_type": "execute_result"
    }
   ],
   "source": [
    "time_up = DataFrame.new({l: [5, 5, 10, 15, 15], t: [16, 15, 7.5, 11.2, 10.2], t_err: [1, 1, 0.2, 0.2, 0.2]})"
   ]
  },
  {
   "cell_type": "code",
   "execution_count": 37,
   "metadata": {
    "collapsed": false
   },
   "outputs": [],
   "source": [
    "plot_up = Plot.new(\n",
    "  [time_up, using: \"2:3:4\", with: \"yerrorbars\", title: \"\"],\n",
    "  xlabel: \"Length [m]\",\n",
    "  ylabel: \"tau [s]\")\n",
    "nil"
   ]
  },
  {
   "cell_type": "code",
   "execution_count": 57,
   "metadata": {
    "collapsed": false
   },
   "outputs": [
    {
     "name": "stdout",
     "output_type": "stream",
     "text": [
      " 17.9*x**0 + -0.48*x**1 \n"
     ]
    },
    {
     "data": {
      "text/plain": [
       "{:a0=>2.71, :a1=>0.1838}"
      ]
     },
     "execution_count": 57,
     "metadata": {},
     "output_type": "execute_result"
    }
   ],
   "source": [
    "fit_up = fit_poly(time_up.row[0,1,3,4], using: \"2:3:4\", degree:1)\n",
    "fit_up[:formula_ds].title = \"l = 5m ignoriert\"\n",
    "puts fit_up[:formula_ds].data\n",
    "fit_up[:deltas]"
   ]
  },
  {
   "cell_type": "code",
   "execution_count": 58,
   "metadata": {
    "collapsed": false
   },
   "outputs": [
    {
     "data": {
      "image/svg+xml": [
       "<?xml version=\"1.0\" encoding=\"utf-8\"  standalone=\"no\"?>\n",
       "<!DOCTYPE svg PUBLIC \"-//W3C//DTD SVG 1.1//EN\"\n",
       " \"http://www.w3.org/Graphics/SVG/1.1/DTD/svg11.dtd\">\n",
       "<svg \n",
       " width=\"600\" height=\"480\"\n",
       " viewBox=\"0 0 600 480\"\n",
       " xmlns=\"http://www.w3.org/2000/svg\"\n",
       " xmlns:xlink=\"http://www.w3.org/1999/xlink\"\n",
       ">\n",
       "\n",
       "<title>Gnuplot</title>\n",
       "<desc>Produced by GNUPLOT 5.0 patchlevel 1 </desc>\n",
       "\n",
       "<g id=\"gnuplot_canvas\">\n",
       "\n",
       "<rect x=\"0\" y=\"0\" width=\"600\" height=\"480\" fill=\"none\"/>\n",
       "<defs>\n",
       "\n",
       "\t<circle id='gpDot' r='0.5' stroke-width='0.5'/>\n",
       "\t<path id='gpPt0' stroke-width='0.222' stroke='currentColor' d='M-1,0 h2 M0,-1 v2'/>\n",
       "\t<path id='gpPt1' stroke-width='0.222' stroke='currentColor' d='M-1,-1 L1,1 M1,-1 L-1,1'/>\n",
       "\t<path id='gpPt2' stroke-width='0.222' stroke='currentColor' d='M-1,0 L1,0 M0,-1 L0,1 M-1,-1 L1,1 M-1,1 L1,-1'/>\n",
       "\t<rect id='gpPt3' stroke-width='0.222' stroke='currentColor' x='-1' y='-1' width='2' height='2'/>\n",
       "\t<rect id='gpPt4' stroke-width='0.222' stroke='currentColor' fill='currentColor' x='-1' y='-1' width='2' height='2'/>\n",
       "\t<circle id='gpPt5' stroke-width='0.222' stroke='currentColor' cx='0' cy='0' r='1'/>\n",
       "\t<use xlink:href='#gpPt5' id='gpPt6' fill='currentColor' stroke='none'/>\n",
       "\t<path id='gpPt7' stroke-width='0.222' stroke='currentColor' d='M0,-1.33 L-1.33,0.67 L1.33,0.67 z'/>\n",
       "\t<use xlink:href='#gpPt7' id='gpPt8' fill='currentColor' stroke='none'/>\n",
       "\t<use xlink:href='#gpPt7' id='gpPt9' stroke='currentColor' transform='rotate(180)'/>\n",
       "\t<use xlink:href='#gpPt9' id='gpPt10' fill='currentColor' stroke='none'/>\n",
       "\t<use xlink:href='#gpPt3' id='gpPt11' stroke='currentColor' transform='rotate(45)'/>\n",
       "\t<use xlink:href='#gpPt11' id='gpPt12' fill='currentColor' stroke='none'/>\n",
       "\t<path id='gpPt13' stroke-width='0.222' stroke='currentColor' d='M0,1.330 L1.265,0.411 L0.782,-1.067 L-0.782,-1.076 L-1.265,0.411 z'/>\n",
       "\t<use xlink:href='#gpPt13' id='gpPt14' fill='currentColor' stroke='none'/>\n",
       "\t<filter id='textbox' filterUnits='objectBoundingBox' x='0' y='0' height='1' width='1'>\n",
       "\t  <feFlood flood-color='white' flood-opacity='1' result='bgnd'/>\n",
       "\t  <feComposite in='SourceGraphic' in2='bgnd' operator='atop'/>\n",
       "\t</filter>\n",
       "\t<filter id='greybox' filterUnits='objectBoundingBox' x='0' y='0' height='1' width='1'>\n",
       "\t  <feFlood flood-color='lightgrey' flood-opacity='1' result='grey'/>\n",
       "\t  <feComposite in='SourceGraphic' in2='grey' operator='atop'/>\n",
       "\t</filter>\n",
       "</defs>\n",
       "<g fill=\"none\" color=\"white\" stroke=\"currentColor\" stroke-width=\"1.00\" stroke-linecap=\"butt\" stroke-linejoin=\"miter\">\n",
       "</g>\n",
       "<g fill=\"none\" color=\"black\" stroke=\"currentColor\" stroke-width=\"1.00\" stroke-linecap=\"butt\" stroke-linejoin=\"miter\">\n",
       "\t<path stroke='black'  d='M63.6,422.4 L72.6,422.4 M575.0,422.4 L566.0,422.4  '/>\t<g transform=\"translate(55.3,426.9)\" stroke=\"none\" fill=\"black\" font-family=\"Arial\" font-size=\"12.00\"  text-anchor=\"end\">\n",
       "\t\t<text><tspan font-family=\"Arial\" > 7</tspan></text>\n",
       "\t</g>\n",
       "</g>\n",
       "<g fill=\"none\" color=\"black\" stroke=\"currentColor\" stroke-width=\"1.00\" stroke-linecap=\"butt\" stroke-linejoin=\"miter\">\n",
       "\t<path stroke='black'  d='M63.6,381.8 L72.6,381.8 M575.0,381.8 L566.0,381.8  '/>\t<g transform=\"translate(55.3,386.3)\" stroke=\"none\" fill=\"black\" font-family=\"Arial\" font-size=\"12.00\"  text-anchor=\"end\">\n",
       "\t\t<text><tspan font-family=\"Arial\" > 8</tspan></text>\n",
       "\t</g>\n",
       "</g>\n",
       "<g fill=\"none\" color=\"black\" stroke=\"currentColor\" stroke-width=\"1.00\" stroke-linecap=\"butt\" stroke-linejoin=\"miter\">\n",
       "\t<path stroke='black'  d='M63.6,341.3 L72.6,341.3 M575.0,341.3 L566.0,341.3  '/>\t<g transform=\"translate(55.3,345.8)\" stroke=\"none\" fill=\"black\" font-family=\"Arial\" font-size=\"12.00\"  text-anchor=\"end\">\n",
       "\t\t<text><tspan font-family=\"Arial\" > 9</tspan></text>\n",
       "\t</g>\n",
       "</g>\n",
       "<g fill=\"none\" color=\"black\" stroke=\"currentColor\" stroke-width=\"1.00\" stroke-linecap=\"butt\" stroke-linejoin=\"miter\">\n",
       "\t<path stroke='black'  d='M63.6,300.7 L72.6,300.7 M575.0,300.7 L566.0,300.7  '/>\t<g transform=\"translate(55.3,305.2)\" stroke=\"none\" fill=\"black\" font-family=\"Arial\" font-size=\"12.00\"  text-anchor=\"end\">\n",
       "\t\t<text><tspan font-family=\"Arial\" > 10</tspan></text>\n",
       "\t</g>\n",
       "</g>\n",
       "<g fill=\"none\" color=\"black\" stroke=\"currentColor\" stroke-width=\"1.00\" stroke-linecap=\"butt\" stroke-linejoin=\"miter\">\n",
       "\t<path stroke='black'  d='M63.6,260.1 L72.6,260.1 M575.0,260.1 L566.0,260.1  '/>\t<g transform=\"translate(55.3,264.6)\" stroke=\"none\" fill=\"black\" font-family=\"Arial\" font-size=\"12.00\"  text-anchor=\"end\">\n",
       "\t\t<text><tspan font-family=\"Arial\" > 11</tspan></text>\n",
       "\t</g>\n",
       "</g>\n",
       "<g fill=\"none\" color=\"black\" stroke=\"currentColor\" stroke-width=\"1.00\" stroke-linecap=\"butt\" stroke-linejoin=\"miter\">\n",
       "\t<path stroke='black'  d='M63.6,219.5 L72.6,219.5 M575.0,219.5 L566.0,219.5  '/>\t<g transform=\"translate(55.3,224.0)\" stroke=\"none\" fill=\"black\" font-family=\"Arial\" font-size=\"12.00\"  text-anchor=\"end\">\n",
       "\t\t<text><tspan font-family=\"Arial\" > 12</tspan></text>\n",
       "\t</g>\n",
       "</g>\n",
       "<g fill=\"none\" color=\"black\" stroke=\"currentColor\" stroke-width=\"1.00\" stroke-linecap=\"butt\" stroke-linejoin=\"miter\">\n",
       "\t<path stroke='black'  d='M63.6,179.0 L72.6,179.0 M575.0,179.0 L566.0,179.0  '/>\t<g transform=\"translate(55.3,183.5)\" stroke=\"none\" fill=\"black\" font-family=\"Arial\" font-size=\"12.00\"  text-anchor=\"end\">\n",
       "\t\t<text><tspan font-family=\"Arial\" > 13</tspan></text>\n",
       "\t</g>\n",
       "</g>\n",
       "<g fill=\"none\" color=\"black\" stroke=\"currentColor\" stroke-width=\"1.00\" stroke-linecap=\"butt\" stroke-linejoin=\"miter\">\n",
       "\t<path stroke='black'  d='M63.6,138.4 L72.6,138.4 M575.0,138.4 L566.0,138.4  '/>\t<g transform=\"translate(55.3,142.9)\" stroke=\"none\" fill=\"black\" font-family=\"Arial\" font-size=\"12.00\"  text-anchor=\"end\">\n",
       "\t\t<text><tspan font-family=\"Arial\" > 14</tspan></text>\n",
       "\t</g>\n",
       "</g>\n",
       "<g fill=\"none\" color=\"black\" stroke=\"currentColor\" stroke-width=\"1.00\" stroke-linecap=\"butt\" stroke-linejoin=\"miter\">\n",
       "\t<path stroke='black'  d='M63.6,97.8 L72.6,97.8 M575.0,97.8 L566.0,97.8  '/>\t<g transform=\"translate(55.3,102.3)\" stroke=\"none\" fill=\"black\" font-family=\"Arial\" font-size=\"12.00\"  text-anchor=\"end\">\n",
       "\t\t<text><tspan font-family=\"Arial\" > 15</tspan></text>\n",
       "\t</g>\n",
       "</g>\n",
       "<g fill=\"none\" color=\"black\" stroke=\"currentColor\" stroke-width=\"1.00\" stroke-linecap=\"butt\" stroke-linejoin=\"miter\">\n",
       "\t<path stroke='black'  d='M63.6,57.3 L72.6,57.3 M575.0,57.3 L566.0,57.3  '/>\t<g transform=\"translate(55.3,61.8)\" stroke=\"none\" fill=\"black\" font-family=\"Arial\" font-size=\"12.00\"  text-anchor=\"end\">\n",
       "\t\t<text><tspan font-family=\"Arial\" > 16</tspan></text>\n",
       "\t</g>\n",
       "</g>\n",
       "<g fill=\"none\" color=\"black\" stroke=\"currentColor\" stroke-width=\"1.00\" stroke-linecap=\"butt\" stroke-linejoin=\"miter\">\n",
       "\t<path stroke='black'  d='M63.6,16.7 L72.6,16.7 M575.0,16.7 L566.0,16.7  '/>\t<g transform=\"translate(55.3,21.2)\" stroke=\"none\" fill=\"black\" font-family=\"Arial\" font-size=\"12.00\"  text-anchor=\"end\">\n",
       "\t\t<text><tspan font-family=\"Arial\" > 17</tspan></text>\n",
       "\t</g>\n",
       "</g>\n",
       "<g fill=\"none\" color=\"black\" stroke=\"currentColor\" stroke-width=\"1.00\" stroke-linecap=\"butt\" stroke-linejoin=\"miter\">\n",
       "\t<path stroke='black'  d='M63.6,422.4 L63.6,413.4 M63.6,16.7 L63.6,25.7  '/>\t<g transform=\"translate(63.6,444.9)\" stroke=\"none\" fill=\"black\" font-family=\"Arial\" font-size=\"12.00\"  text-anchor=\"middle\">\n",
       "\t\t<text><tspan font-family=\"Arial\" > 4</tspan></text>\n",
       "\t</g>\n",
       "</g>\n",
       "<g fill=\"none\" color=\"black\" stroke=\"currentColor\" stroke-width=\"1.00\" stroke-linecap=\"butt\" stroke-linejoin=\"miter\">\n",
       "\t<path stroke='black'  d='M148.8,422.4 L148.8,413.4 M148.8,16.7 L148.8,25.7  '/>\t<g transform=\"translate(148.8,444.9)\" stroke=\"none\" fill=\"black\" font-family=\"Arial\" font-size=\"12.00\"  text-anchor=\"middle\">\n",
       "\t\t<text><tspan font-family=\"Arial\" > 6</tspan></text>\n",
       "\t</g>\n",
       "</g>\n",
       "<g fill=\"none\" color=\"black\" stroke=\"currentColor\" stroke-width=\"1.00\" stroke-linecap=\"butt\" stroke-linejoin=\"miter\">\n",
       "\t<path stroke='black'  d='M234.1,422.4 L234.1,413.4 M234.1,16.7 L234.1,25.7  '/>\t<g transform=\"translate(234.1,444.9)\" stroke=\"none\" fill=\"black\" font-family=\"Arial\" font-size=\"12.00\"  text-anchor=\"middle\">\n",
       "\t\t<text><tspan font-family=\"Arial\" > 8</tspan></text>\n",
       "\t</g>\n",
       "</g>\n",
       "<g fill=\"none\" color=\"black\" stroke=\"currentColor\" stroke-width=\"1.00\" stroke-linecap=\"butt\" stroke-linejoin=\"miter\">\n",
       "\t<path stroke='black'  d='M319.3,422.4 L319.3,413.4 M319.3,16.7 L319.3,25.7  '/>\t<g transform=\"translate(319.3,444.9)\" stroke=\"none\" fill=\"black\" font-family=\"Arial\" font-size=\"12.00\"  text-anchor=\"middle\">\n",
       "\t\t<text><tspan font-family=\"Arial\" > 10</tspan></text>\n",
       "\t</g>\n",
       "</g>\n",
       "<g fill=\"none\" color=\"black\" stroke=\"currentColor\" stroke-width=\"1.00\" stroke-linecap=\"butt\" stroke-linejoin=\"miter\">\n",
       "\t<path stroke='black'  d='M404.5,422.4 L404.5,413.4 M404.5,16.7 L404.5,25.7  '/>\t<g transform=\"translate(404.5,444.9)\" stroke=\"none\" fill=\"black\" font-family=\"Arial\" font-size=\"12.00\"  text-anchor=\"middle\">\n",
       "\t\t<text><tspan font-family=\"Arial\" > 12</tspan></text>\n",
       "\t</g>\n",
       "</g>\n",
       "<g fill=\"none\" color=\"black\" stroke=\"currentColor\" stroke-width=\"1.00\" stroke-linecap=\"butt\" stroke-linejoin=\"miter\">\n",
       "\t<path stroke='black'  d='M489.8,422.4 L489.8,413.4 M489.8,16.7 L489.8,25.7  '/>\t<g transform=\"translate(489.8,444.9)\" stroke=\"none\" fill=\"black\" font-family=\"Arial\" font-size=\"12.00\"  text-anchor=\"middle\">\n",
       "\t\t<text><tspan font-family=\"Arial\" > 14</tspan></text>\n",
       "\t</g>\n",
       "</g>\n",
       "<g fill=\"none\" color=\"black\" stroke=\"currentColor\" stroke-width=\"1.00\" stroke-linecap=\"butt\" stroke-linejoin=\"miter\">\n",
       "\t<path stroke='black'  d='M575.0,422.4 L575.0,413.4 M575.0,16.7 L575.0,25.7  '/>\t<g transform=\"translate(575.0,444.9)\" stroke=\"none\" fill=\"black\" font-family=\"Arial\" font-size=\"12.00\"  text-anchor=\"middle\">\n",
       "\t\t<text><tspan font-family=\"Arial\" > 16</tspan></text>\n",
       "\t</g>\n",
       "</g>\n",
       "<g fill=\"none\" color=\"black\" stroke=\"currentColor\" stroke-width=\"1.00\" stroke-linecap=\"butt\" stroke-linejoin=\"miter\">\n",
       "</g>\n",
       "<g fill=\"none\" color=\"black\" stroke=\"currentColor\" stroke-width=\"1.00\" stroke-linecap=\"butt\" stroke-linejoin=\"miter\">\n",
       "\t<path stroke='black'  d='M63.6,16.7 L63.6,422.4 L575.0,422.4 L575.0,16.7 L63.6,16.7 Z  '/></g>\n",
       "<g fill=\"none\" color=\"black\" stroke=\"currentColor\" stroke-width=\"1.00\" stroke-linecap=\"butt\" stroke-linejoin=\"miter\">\n",
       "\t<g transform=\"translate(17.6,219.6) rotate(270)\" stroke=\"none\" fill=\"black\" font-family=\"Arial\" font-size=\"12.00\"  text-anchor=\"middle\">\n",
       "\t\t<text><tspan font-family=\"Arial\" >tau [s]</tspan></text>\n",
       "\t</g>\n",
       "</g>\n",
       "<g fill=\"none\" color=\"black\" stroke=\"currentColor\" stroke-width=\"1.00\" stroke-linecap=\"butt\" stroke-linejoin=\"miter\">\n",
       "\t<g transform=\"translate(319.3,471.9)\" stroke=\"none\" fill=\"black\" font-family=\"Arial\" font-size=\"12.00\"  text-anchor=\"middle\">\n",
       "\t\t<text><tspan font-family=\"Arial\" >Length [m]</tspan></text>\n",
       "\t</g>\n",
       "</g>\n",
       "<g fill=\"none\" color=\"black\" stroke=\"currentColor\" stroke-width=\"1.00\" stroke-linecap=\"butt\" stroke-linejoin=\"miter\">\n",
       "</g>\n",
       "\t<g id=\"gnuplot_plot_1\" ><title>l = 5m ignoriert</title>\n",
       "<g fill=\"none\" color=\"black\" stroke=\"currentColor\" stroke-width=\"1.00\" stroke-linecap=\"butt\" stroke-linejoin=\"miter\">\n",
       "\t<g transform=\"translate(507.9,39.2)\" stroke=\"none\" fill=\"black\" font-family=\"Arial\" font-size=\"12.00\"  text-anchor=\"end\">\n",
       "\t\t<text><tspan font-family=\"Arial\" >l = 5m ignoriert</tspan></text>\n",
       "\t</g>\n",
       "</g>\n",
       "<g fill=\"none\" color=\"black\" stroke=\"currentColor\" stroke-width=\"1.00\" stroke-linecap=\"butt\" stroke-linejoin=\"miter\">\n",
       "\t<path stroke='rgb(148,   0, 211)'  d='M516.2,34.7 L558.4,34.7 M106.2,77.6 L110.5,79.5 L114.8,81.5 L119.1,83.5 L123.4,85.4 L127.7,87.4\n",
       "\t\tL132.0,89.4 L136.3,91.3 L140.7,93.3 L145.0,95.3 L149.3,97.2 L153.6,99.2 L157.9,101.2 L162.2,103.1\n",
       "\t\tL166.5,105.1 L170.8,107.1 L175.1,109.0 L179.4,111.0 L183.7,113.0 L188.0,114.9 L192.3,116.9 L196.6,118.9\n",
       "\t\tL200.9,120.8 L205.2,122.8 L209.5,124.8 L213.8,126.7 L218.1,128.7 L222.4,130.7 L226.7,132.6 L231.1,134.6\n",
       "\t\tL235.4,136.6 L239.7,138.5 L244.0,140.5 L248.3,142.5 L252.6,144.4 L256.9,146.4 L261.2,148.4 L265.5,150.3\n",
       "\t\tL269.8,152.3 L274.1,154.3 L278.4,156.2 L282.7,158.2 L287.0,160.2 L291.3,162.1 L295.6,164.1 L299.9,166.1\n",
       "\t\tL304.2,168.0 L308.5,170.0 L312.8,172.0 L317.1,173.9 L321.5,175.9 L325.8,177.9 L330.1,179.8 L334.4,181.8\n",
       "\t\tL338.7,183.8 L343.0,185.7 L347.3,187.7 L351.6,189.7 L355.9,191.6 L360.2,193.6 L364.5,195.6 L368.8,197.5\n",
       "\t\tL373.1,199.5 L377.4,201.5 L381.7,203.4 L386.0,205.4 L390.3,207.4 L394.6,209.3 L398.9,211.3 L403.2,213.3\n",
       "\t\tL407.5,215.2 L411.9,217.2 L416.2,219.2 L420.5,221.1 L424.8,223.1 L429.1,225.1 L433.4,227.0 L437.7,229.0\n",
       "\t\tL442.0,231.0 L446.3,233.0 L450.6,234.9 L454.9,236.9 L459.2,238.9 L463.5,240.8 L467.8,242.8 L472.1,244.8\n",
       "\t\tL476.4,246.7 L480.7,248.7 L485.0,250.7 L489.3,252.6 L493.6,254.6 L497.9,256.6 L502.3,258.5 L506.6,260.5\n",
       "\t\tL510.9,262.5 L515.2,264.4 L519.5,266.4 L523.8,268.4 L528.1,270.3 L532.4,272.3  '/></g>\n",
       "\t</g>\n",
       "\t<g id=\"gnuplot_plot_2\" ><title>gnuplot_plot_2</title>\n",
       "<g fill=\"none\" color=\"black\" stroke=\"currentColor\" stroke-width=\"1.00\" stroke-linecap=\"butt\" stroke-linejoin=\"miter\">\n",
       "\t<path stroke='rgb(  0, 158, 115)'  d='M106.2,97.8 L106.2,16.7 M101.7,97.8 L110.7,97.8 M101.7,16.7 L110.7,16.7 M106.2,138.4 L106.2,57.3\n",
       "\t\tM101.7,138.4 L110.7,138.4 M101.7,57.3 L110.7,57.3 M319.3,410.2 L319.3,394.0 M314.8,410.2 L323.8,410.2\n",
       "\t\tM314.8,394.0 L323.8,394.0 M532.4,260.1 L532.4,243.9 M527.9,260.1 L536.9,260.1 M527.9,243.9 L536.9,243.9\n",
       "\t\tM532.4,300.7 L532.4,284.5 M527.9,300.7 L536.9,300.7 M527.9,284.5 L536.9,284.5  '/>\t<g onmousemove=\"gnuplot_svg.showHypertext(evt,'')\" onmouseout=\"gnuplot_svg.hideHypertext()\"><title> </title>\n",
       "\t<use xlink:href='#gpPt1' transform='translate(106.2,57.3) scale(4.50)' color='rgb(  0, 158, 115)'/></g>\n",
       "\t<use xlink:href='#gpPt1' transform='translate(106.2,97.8) scale(4.50)' color='rgb(  0, 158, 115)'/>\n",
       "\t<use xlink:href='#gpPt1' transform='translate(319.3,402.1) scale(4.50)' color='rgb(  0, 158, 115)'/>\n",
       "\t<use xlink:href='#gpPt1' transform='translate(532.4,252.0) scale(4.50)' color='rgb(  0, 158, 115)'/>\n",
       "\t<use xlink:href='#gpPt1' transform='translate(532.4,292.6) scale(4.50)' color='rgb(  0, 158, 115)'/>\n",
       "</g>\n",
       "\t</g>\n",
       "<g fill=\"none\" color=\"white\" stroke=\"rgb(  0, 158, 115)\" stroke-width=\"2.00\" stroke-linecap=\"butt\" stroke-linejoin=\"miter\">\n",
       "</g>\n",
       "<g fill=\"none\" color=\"black\" stroke=\"currentColor\" stroke-width=\"2.00\" stroke-linecap=\"butt\" stroke-linejoin=\"miter\">\n",
       "</g>\n",
       "<g fill=\"none\" color=\"black\" stroke=\"black\" stroke-width=\"1.00\" stroke-linecap=\"butt\" stroke-linejoin=\"miter\">\n",
       "</g>\n",
       "<g fill=\"none\" color=\"black\" stroke=\"currentColor\" stroke-width=\"1.00\" stroke-linecap=\"butt\" stroke-linejoin=\"miter\">\n",
       "\t<path stroke='black'  d='M63.6,16.7 L63.6,422.4 L575.0,422.4 L575.0,16.7 L63.6,16.7 Z  '/></g>\n",
       "<g fill=\"none\" color=\"black\" stroke=\"currentColor\" stroke-width=\"1.00\" stroke-linecap=\"butt\" stroke-linejoin=\"miter\">\n",
       "</g>\n",
       "</g>\n",
       "</svg>\n",
       "\n"
      ],
      "text/plain": [
       "#<GnuplotRB::Plot:0x00000002edd440 @options=Hamster::Hash[:xlabel => \"Length [m]\", :ylabel => \"tau [s]\"], @datasets=Hamster::Vector[#<GnuplotRB::Dataset:0x00000002edd850 @type=:math_function, @data=\" 17.9*x**0 + -0.48*x**1 \", @options=Hamster::Hash[:title => [\"l = 5m ignoriert\"]]>, #<GnuplotRB::Dataset:0x00000001ebb490 @type=:datablock, @data=#<GnuplotRB::Datablock:0x00000001eba248 @stored_in_file=false, @data=\"0 5 16 1\\n1 5 15 1\\n2 10 7.5 0.2\\n3 15 11.2 0.2\\n4 15 10.2 0.2\\n\">, @options=Hamster::Hash[:using => \"2:3:4\", :title => \"\", :with => \"yerrorbars\"]>], @cmd=\"plot \">"
      ]
     },
     "execution_count": 58,
     "metadata": {},
     "output_type": "execute_result"
    }
   ],
   "source": [
    "plot_up << fit_up[:formula_ds]"
   ]
  },
  {
   "cell_type": "markdown",
   "metadata": {},
   "source": [
    "# Time downward"
   ]
  },
  {
   "cell_type": "code",
   "execution_count": 64,
   "metadata": {
    "collapsed": false
   },
   "outputs": [
    {
     "data": {
      "text/html": [
       "<table><tr><th colspan=\"4\">Daru::DataFrame:22199800  rows: 6  cols: 3<tr><th></th><th>l</th><th>t</th><th>t_err</th></tr><tr><td>0</td><td>5</td><td>10.0726</td><td>0.4</td></tr><tr><td>1</td><td>5</td><td>9.66115</td><td>0.4</td></tr><tr><td>2</td><td>10</td><td>11.9292</td><td>1</td></tr><tr><td>3</td><td>15</td><td>14.5618</td><td>1</td></tr><tr><td>4</td><td>15</td><td>14.2502</td><td>1</td></tr><tr><td>5</td><td>15</td><td>14.2057</td><td>1</td></tr></table>"
      ],
      "text/plain": [
       "\n",
       "#<Daru::DataFrame:22199800 @name = 18cdac5b-edd9-43c3-822b-3d0e8584ecc3 @size = 6>\n",
       "                    l          t      t_err \n",
       "         0          5    10.0726        0.4 \n",
       "         1          5    9.66115        0.4 \n",
       "         2         10    11.9292          1 \n",
       "         3         15    14.5618          1 \n",
       "         4         15    14.2502          1 \n",
       "         5         15    14.2057          1 \n"
      ]
     },
     "execution_count": 64,
     "metadata": {},
     "output_type": "execute_result"
    }
   ],
   "source": [
    "time_down = DataFrame.new({l: [5, 5, 10, 15, 15,15], t: [10.0726, 9.66115, 11.9292, 14.5618, 14.2502, 14.2057], \n",
    "  t_err: [0.4, 0.4, 1, 1, 1,1]})"
   ]
  },
  {
   "cell_type": "code",
   "execution_count": 65,
   "metadata": {
    "collapsed": false
   },
   "outputs": [],
   "source": [
    "plot_down = Plot.new(\n",
    "  [time_down[:l, :t, :t_err], using: \"2:3:4\", with: \"yerrorbars\", title: \"\"],\n",
    "  xlabel: \"Length [m]\",\n",
    "  ylabel: \"tau [s]\")\n",
    "nil"
   ]
  },
  {
   "cell_type": "code",
   "execution_count": 66,
   "metadata": {
    "collapsed": false
   },
   "outputs": [
    {
     "name": "stdout",
     "output_type": "stream",
     "text": [
      " 7.63437*x**0 + 0.44524*x**1 \n"
     ]
    },
    {
     "data": {
      "text/plain": [
       "{:a0=>0.2037, :a1=>0.0251}"
      ]
     },
     "execution_count": 66,
     "metadata": {},
     "output_type": "execute_result"
    }
   ],
   "source": [
    "fit_down = fit_poly(time_down, using: \"2:3:4\", degree: 1)\n",
    "puts fit_down[:formula_ds].data\n",
    "fit_down[:deltas]"
   ]
  },
  {
   "cell_type": "code",
   "execution_count": 67,
   "metadata": {
    "collapsed": false
   },
   "outputs": [
    {
     "data": {
      "image/svg+xml": [
       "<?xml version=\"1.0\" encoding=\"utf-8\"  standalone=\"no\"?>\n",
       "<!DOCTYPE svg PUBLIC \"-//W3C//DTD SVG 1.1//EN\"\n",
       " \"http://www.w3.org/Graphics/SVG/1.1/DTD/svg11.dtd\">\n",
       "<svg \n",
       " width=\"600\" height=\"480\"\n",
       " viewBox=\"0 0 600 480\"\n",
       " xmlns=\"http://www.w3.org/2000/svg\"\n",
       " xmlns:xlink=\"http://www.w3.org/1999/xlink\"\n",
       ">\n",
       "\n",
       "<title>Gnuplot</title>\n",
       "<desc>Produced by GNUPLOT 5.0 patchlevel 1 </desc>\n",
       "\n",
       "<g id=\"gnuplot_canvas\">\n",
       "\n",
       "<rect x=\"0\" y=\"0\" width=\"600\" height=\"480\" fill=\"none\"/>\n",
       "<defs>\n",
       "\n",
       "\t<circle id='gpDot' r='0.5' stroke-width='0.5'/>\n",
       "\t<path id='gpPt0' stroke-width='0.222' stroke='currentColor' d='M-1,0 h2 M0,-1 v2'/>\n",
       "\t<path id='gpPt1' stroke-width='0.222' stroke='currentColor' d='M-1,-1 L1,1 M1,-1 L-1,1'/>\n",
       "\t<path id='gpPt2' stroke-width='0.222' stroke='currentColor' d='M-1,0 L1,0 M0,-1 L0,1 M-1,-1 L1,1 M-1,1 L1,-1'/>\n",
       "\t<rect id='gpPt3' stroke-width='0.222' stroke='currentColor' x='-1' y='-1' width='2' height='2'/>\n",
       "\t<rect id='gpPt4' stroke-width='0.222' stroke='currentColor' fill='currentColor' x='-1' y='-1' width='2' height='2'/>\n",
       "\t<circle id='gpPt5' stroke-width='0.222' stroke='currentColor' cx='0' cy='0' r='1'/>\n",
       "\t<use xlink:href='#gpPt5' id='gpPt6' fill='currentColor' stroke='none'/>\n",
       "\t<path id='gpPt7' stroke-width='0.222' stroke='currentColor' d='M0,-1.33 L-1.33,0.67 L1.33,0.67 z'/>\n",
       "\t<use xlink:href='#gpPt7' id='gpPt8' fill='currentColor' stroke='none'/>\n",
       "\t<use xlink:href='#gpPt7' id='gpPt9' stroke='currentColor' transform='rotate(180)'/>\n",
       "\t<use xlink:href='#gpPt9' id='gpPt10' fill='currentColor' stroke='none'/>\n",
       "\t<use xlink:href='#gpPt3' id='gpPt11' stroke='currentColor' transform='rotate(45)'/>\n",
       "\t<use xlink:href='#gpPt11' id='gpPt12' fill='currentColor' stroke='none'/>\n",
       "\t<path id='gpPt13' stroke-width='0.222' stroke='currentColor' d='M0,1.330 L1.265,0.411 L0.782,-1.067 L-0.782,-1.076 L-1.265,0.411 z'/>\n",
       "\t<use xlink:href='#gpPt13' id='gpPt14' fill='currentColor' stroke='none'/>\n",
       "\t<filter id='textbox' filterUnits='objectBoundingBox' x='0' y='0' height='1' width='1'>\n",
       "\t  <feFlood flood-color='white' flood-opacity='1' result='bgnd'/>\n",
       "\t  <feComposite in='SourceGraphic' in2='bgnd' operator='atop'/>\n",
       "\t</filter>\n",
       "\t<filter id='greybox' filterUnits='objectBoundingBox' x='0' y='0' height='1' width='1'>\n",
       "\t  <feFlood flood-color='lightgrey' flood-opacity='1' result='grey'/>\n",
       "\t  <feComposite in='SourceGraphic' in2='grey' operator='atop'/>\n",
       "\t</filter>\n",
       "</defs>\n",
       "<g fill=\"none\" color=\"white\" stroke=\"currentColor\" stroke-width=\"1.00\" stroke-linecap=\"butt\" stroke-linejoin=\"miter\">\n",
       "</g>\n",
       "<g fill=\"none\" color=\"black\" stroke=\"currentColor\" stroke-width=\"1.00\" stroke-linecap=\"butt\" stroke-linejoin=\"miter\">\n",
       "\t<path stroke='black'  d='M63.6,422.4 L72.6,422.4 M575.0,422.4 L566.0,422.4  '/>\t<g transform=\"translate(55.3,426.9)\" stroke=\"none\" fill=\"black\" font-family=\"Arial\" font-size=\"12.00\"  text-anchor=\"end\">\n",
       "\t\t<text><tspan font-family=\"Arial\" > 9</tspan></text>\n",
       "\t</g>\n",
       "</g>\n",
       "<g fill=\"none\" color=\"black\" stroke=\"currentColor\" stroke-width=\"1.00\" stroke-linecap=\"butt\" stroke-linejoin=\"miter\">\n",
       "\t<path stroke='black'  d='M63.6,364.4 L72.6,364.4 M575.0,364.4 L566.0,364.4  '/>\t<g transform=\"translate(55.3,368.9)\" stroke=\"none\" fill=\"black\" font-family=\"Arial\" font-size=\"12.00\"  text-anchor=\"end\">\n",
       "\t\t<text><tspan font-family=\"Arial\" > 10</tspan></text>\n",
       "\t</g>\n",
       "</g>\n",
       "<g fill=\"none\" color=\"black\" stroke=\"currentColor\" stroke-width=\"1.00\" stroke-linecap=\"butt\" stroke-linejoin=\"miter\">\n",
       "\t<path stroke='black'  d='M63.6,306.5 L72.6,306.5 M575.0,306.5 L566.0,306.5  '/>\t<g transform=\"translate(55.3,311.0)\" stroke=\"none\" fill=\"black\" font-family=\"Arial\" font-size=\"12.00\"  text-anchor=\"end\">\n",
       "\t\t<text><tspan font-family=\"Arial\" > 11</tspan></text>\n",
       "\t</g>\n",
       "</g>\n",
       "<g fill=\"none\" color=\"black\" stroke=\"currentColor\" stroke-width=\"1.00\" stroke-linecap=\"butt\" stroke-linejoin=\"miter\">\n",
       "\t<path stroke='black'  d='M63.6,248.5 L72.6,248.5 M575.0,248.5 L566.0,248.5  '/>\t<g transform=\"translate(55.3,253.0)\" stroke=\"none\" fill=\"black\" font-family=\"Arial\" font-size=\"12.00\"  text-anchor=\"end\">\n",
       "\t\t<text><tspan font-family=\"Arial\" > 12</tspan></text>\n",
       "\t</g>\n",
       "</g>\n",
       "<g fill=\"none\" color=\"black\" stroke=\"currentColor\" stroke-width=\"1.00\" stroke-linecap=\"butt\" stroke-linejoin=\"miter\">\n",
       "\t<path stroke='black'  d='M63.6,190.6 L72.6,190.6 M575.0,190.6 L566.0,190.6  '/>\t<g transform=\"translate(55.3,195.1)\" stroke=\"none\" fill=\"black\" font-family=\"Arial\" font-size=\"12.00\"  text-anchor=\"end\">\n",
       "\t\t<text><tspan font-family=\"Arial\" > 13</tspan></text>\n",
       "\t</g>\n",
       "</g>\n",
       "<g fill=\"none\" color=\"black\" stroke=\"currentColor\" stroke-width=\"1.00\" stroke-linecap=\"butt\" stroke-linejoin=\"miter\">\n",
       "\t<path stroke='black'  d='M63.6,132.6 L72.6,132.6 M575.0,132.6 L566.0,132.6  '/>\t<g transform=\"translate(55.3,137.1)\" stroke=\"none\" fill=\"black\" font-family=\"Arial\" font-size=\"12.00\"  text-anchor=\"end\">\n",
       "\t\t<text><tspan font-family=\"Arial\" > 14</tspan></text>\n",
       "\t</g>\n",
       "</g>\n",
       "<g fill=\"none\" color=\"black\" stroke=\"currentColor\" stroke-width=\"1.00\" stroke-linecap=\"butt\" stroke-linejoin=\"miter\">\n",
       "\t<path stroke='black'  d='M63.6,74.7 L72.6,74.7 M575.0,74.7 L566.0,74.7  '/>\t<g transform=\"translate(55.3,79.2)\" stroke=\"none\" fill=\"black\" font-family=\"Arial\" font-size=\"12.00\"  text-anchor=\"end\">\n",
       "\t\t<text><tspan font-family=\"Arial\" > 15</tspan></text>\n",
       "\t</g>\n",
       "</g>\n",
       "<g fill=\"none\" color=\"black\" stroke=\"currentColor\" stroke-width=\"1.00\" stroke-linecap=\"butt\" stroke-linejoin=\"miter\">\n",
       "\t<path stroke='black'  d='M63.6,16.7 L72.6,16.7 M575.0,16.7 L566.0,16.7  '/>\t<g transform=\"translate(55.3,21.2)\" stroke=\"none\" fill=\"black\" font-family=\"Arial\" font-size=\"12.00\"  text-anchor=\"end\">\n",
       "\t\t<text><tspan font-family=\"Arial\" > 16</tspan></text>\n",
       "\t</g>\n",
       "</g>\n",
       "<g fill=\"none\" color=\"black\" stroke=\"currentColor\" stroke-width=\"1.00\" stroke-linecap=\"butt\" stroke-linejoin=\"miter\">\n",
       "\t<path stroke='black'  d='M63.6,422.4 L63.6,413.4 M63.6,16.7 L63.6,25.7  '/>\t<g transform=\"translate(63.6,444.9)\" stroke=\"none\" fill=\"black\" font-family=\"Arial\" font-size=\"12.00\"  text-anchor=\"middle\">\n",
       "\t\t<text><tspan font-family=\"Arial\" > 4</tspan></text>\n",
       "\t</g>\n",
       "</g>\n",
       "<g fill=\"none\" color=\"black\" stroke=\"currentColor\" stroke-width=\"1.00\" stroke-linecap=\"butt\" stroke-linejoin=\"miter\">\n",
       "\t<path stroke='black'  d='M148.8,422.4 L148.8,413.4 M148.8,16.7 L148.8,25.7  '/>\t<g transform=\"translate(148.8,444.9)\" stroke=\"none\" fill=\"black\" font-family=\"Arial\" font-size=\"12.00\"  text-anchor=\"middle\">\n",
       "\t\t<text><tspan font-family=\"Arial\" > 6</tspan></text>\n",
       "\t</g>\n",
       "</g>\n",
       "<g fill=\"none\" color=\"black\" stroke=\"currentColor\" stroke-width=\"1.00\" stroke-linecap=\"butt\" stroke-linejoin=\"miter\">\n",
       "\t<path stroke='black'  d='M234.1,422.4 L234.1,413.4 M234.1,16.7 L234.1,25.7  '/>\t<g transform=\"translate(234.1,444.9)\" stroke=\"none\" fill=\"black\" font-family=\"Arial\" font-size=\"12.00\"  text-anchor=\"middle\">\n",
       "\t\t<text><tspan font-family=\"Arial\" > 8</tspan></text>\n",
       "\t</g>\n",
       "</g>\n",
       "<g fill=\"none\" color=\"black\" stroke=\"currentColor\" stroke-width=\"1.00\" stroke-linecap=\"butt\" stroke-linejoin=\"miter\">\n",
       "\t<path stroke='black'  d='M319.3,422.4 L319.3,413.4 M319.3,16.7 L319.3,25.7  '/>\t<g transform=\"translate(319.3,444.9)\" stroke=\"none\" fill=\"black\" font-family=\"Arial\" font-size=\"12.00\"  text-anchor=\"middle\">\n",
       "\t\t<text><tspan font-family=\"Arial\" > 10</tspan></text>\n",
       "\t</g>\n",
       "</g>\n",
       "<g fill=\"none\" color=\"black\" stroke=\"currentColor\" stroke-width=\"1.00\" stroke-linecap=\"butt\" stroke-linejoin=\"miter\">\n",
       "\t<path stroke='black'  d='M404.5,422.4 L404.5,413.4 M404.5,16.7 L404.5,25.7  '/>\t<g transform=\"translate(404.5,444.9)\" stroke=\"none\" fill=\"black\" font-family=\"Arial\" font-size=\"12.00\"  text-anchor=\"middle\">\n",
       "\t\t<text><tspan font-family=\"Arial\" > 12</tspan></text>\n",
       "\t</g>\n",
       "</g>\n",
       "<g fill=\"none\" color=\"black\" stroke=\"currentColor\" stroke-width=\"1.00\" stroke-linecap=\"butt\" stroke-linejoin=\"miter\">\n",
       "\t<path stroke='black'  d='M489.8,422.4 L489.8,413.4 M489.8,16.7 L489.8,25.7  '/>\t<g transform=\"translate(489.8,444.9)\" stroke=\"none\" fill=\"black\" font-family=\"Arial\" font-size=\"12.00\"  text-anchor=\"middle\">\n",
       "\t\t<text><tspan font-family=\"Arial\" > 14</tspan></text>\n",
       "\t</g>\n",
       "</g>\n",
       "<g fill=\"none\" color=\"black\" stroke=\"currentColor\" stroke-width=\"1.00\" stroke-linecap=\"butt\" stroke-linejoin=\"miter\">\n",
       "\t<path stroke='black'  d='M575.0,422.4 L575.0,413.4 M575.0,16.7 L575.0,25.7  '/>\t<g transform=\"translate(575.0,444.9)\" stroke=\"none\" fill=\"black\" font-family=\"Arial\" font-size=\"12.00\"  text-anchor=\"middle\">\n",
       "\t\t<text><tspan font-family=\"Arial\" > 16</tspan></text>\n",
       "\t</g>\n",
       "</g>\n",
       "<g fill=\"none\" color=\"black\" stroke=\"currentColor\" stroke-width=\"1.00\" stroke-linecap=\"butt\" stroke-linejoin=\"miter\">\n",
       "</g>\n",
       "<g fill=\"none\" color=\"black\" stroke=\"currentColor\" stroke-width=\"1.00\" stroke-linecap=\"butt\" stroke-linejoin=\"miter\">\n",
       "\t<path stroke='black'  d='M63.6,16.7 L63.6,422.4 L575.0,422.4 L575.0,16.7 L63.6,16.7 Z  '/></g>\n",
       "<g fill=\"none\" color=\"black\" stroke=\"currentColor\" stroke-width=\"1.00\" stroke-linecap=\"butt\" stroke-linejoin=\"miter\">\n",
       "\t<g transform=\"translate(17.6,219.6) rotate(270)\" stroke=\"none\" fill=\"black\" font-family=\"Arial\" font-size=\"12.00\"  text-anchor=\"middle\">\n",
       "\t\t<text><tspan font-family=\"Arial\" >tau [s]</tspan></text>\n",
       "\t</g>\n",
       "</g>\n",
       "<g fill=\"none\" color=\"black\" stroke=\"currentColor\" stroke-width=\"1.00\" stroke-linecap=\"butt\" stroke-linejoin=\"miter\">\n",
       "\t<g transform=\"translate(319.3,471.9)\" stroke=\"none\" fill=\"black\" font-family=\"Arial\" font-size=\"12.00\"  text-anchor=\"middle\">\n",
       "\t\t<text><tspan font-family=\"Arial\" >Length [m]</tspan></text>\n",
       "\t</g>\n",
       "</g>\n",
       "<g fill=\"none\" color=\"black\" stroke=\"currentColor\" stroke-width=\"1.00\" stroke-linecap=\"butt\" stroke-linejoin=\"miter\">\n",
       "</g>\n",
       "\t<g id=\"gnuplot_plot_1\" ><title>Fit formula</title>\n",
       "<g fill=\"none\" color=\"black\" stroke=\"currentColor\" stroke-width=\"1.00\" stroke-linecap=\"butt\" stroke-linejoin=\"miter\">\n",
       "\t<g transform=\"translate(507.9,39.2)\" stroke=\"none\" fill=\"black\" font-family=\"Arial\" font-size=\"12.00\"  text-anchor=\"end\">\n",
       "\t\t<text><tspan font-family=\"Arial\" >Fit formula</tspan></text>\n",
       "\t</g>\n",
       "</g>\n",
       "<g fill=\"none\" color=\"black\" stroke=\"currentColor\" stroke-width=\"1.00\" stroke-linecap=\"butt\" stroke-linejoin=\"miter\">\n",
       "\t<path stroke='rgb(148,   0, 211)'  d='M516.2,34.7 L558.4,34.7 M106.2,372.5 L110.5,369.9 L114.8,367.3 L119.1,364.7 L123.4,362.1 L127.7,359.5\n",
       "\t\tL132.0,356.9 L136.3,354.3 L140.7,351.7 L145.0,349.1 L149.3,346.5 L153.6,343.9 L157.9,341.2 L162.2,338.6\n",
       "\t\tL166.5,336.0 L170.8,333.4 L175.1,330.8 L179.4,328.2 L183.7,325.6 L188.0,323.0 L192.3,320.4 L196.6,317.8\n",
       "\t\tL200.9,315.2 L205.2,312.6 L209.5,310.0 L213.8,307.4 L218.1,304.8 L222.4,302.1 L226.7,299.5 L231.1,296.9\n",
       "\t\tL235.4,294.3 L239.7,291.7 L244.0,289.1 L248.3,286.5 L252.6,283.9 L256.9,281.3 L261.2,278.7 L265.5,276.1\n",
       "\t\tL269.8,273.5 L274.1,270.9 L278.4,268.3 L282.7,265.7 L287.0,263.0 L291.3,260.4 L295.6,257.8 L299.9,255.2\n",
       "\t\tL304.2,252.6 L308.5,250.0 L312.8,247.4 L317.1,244.8 L321.5,242.2 L325.8,239.6 L330.1,237.0 L334.4,234.4\n",
       "\t\tL338.7,231.8 L343.0,229.2 L347.3,226.6 L351.6,224.0 L355.9,221.3 L360.2,218.7 L364.5,216.1 L368.8,213.5\n",
       "\t\tL373.1,210.9 L377.4,208.3 L381.7,205.7 L386.0,203.1 L390.3,200.5 L394.6,197.9 L398.9,195.3 L403.2,192.7\n",
       "\t\tL407.5,190.1 L411.9,187.5 L416.2,184.9 L420.5,182.2 L424.8,179.6 L429.1,177.0 L433.4,174.4 L437.7,171.8\n",
       "\t\tL442.0,169.2 L446.3,166.6 L450.6,164.0 L454.9,161.4 L459.2,158.8 L463.5,156.2 L467.8,153.6 L472.1,151.0\n",
       "\t\tL476.4,148.4 L480.7,145.8 L485.0,143.1 L489.3,140.5 L493.6,137.9 L497.9,135.3 L502.3,132.7 L506.6,130.1\n",
       "\t\tL510.9,127.5 L515.2,124.9 L519.5,122.3 L523.8,119.7 L528.1,117.1 L532.4,114.5  '/></g>\n",
       "\t</g>\n",
       "\t<g id=\"gnuplot_plot_2\" ><title>gnuplot_plot_2</title>\n",
       "<g fill=\"none\" color=\"black\" stroke=\"currentColor\" stroke-width=\"1.00\" stroke-linecap=\"butt\" stroke-linejoin=\"miter\">\n",
       "\t<path stroke='rgb(  0, 158, 115)'  d='M106.2,383.4 L106.2,337.1 M101.7,383.4 L110.7,383.4 M101.7,337.1 L110.7,337.1 M106.2,407.3 L106.2,360.9\n",
       "\t\tM101.7,407.3 L110.7,407.3 M101.7,360.9 L110.7,360.9 M319.3,310.6 L319.3,194.7 M314.8,310.6 L323.8,310.6\n",
       "\t\tM314.8,194.7 L323.8,194.7 M532.4,158.0 L532.4,42.1 M527.9,158.0 L536.9,158.0 M527.9,42.1 L536.9,42.1\n",
       "\t\tM532.4,176.1 L532.4,60.2 M527.9,176.1 L536.9,176.1 M527.9,60.2 L536.9,60.2 M532.4,178.6 L532.4,62.7\n",
       "\t\tM527.9,178.6 L536.9,178.6 M527.9,62.7 L536.9,62.7  '/>\t<g onmousemove=\"gnuplot_svg.showHypertext(evt,'')\" onmouseout=\"gnuplot_svg.hideHypertext()\"><title> </title>\n",
       "\t<use xlink:href='#gpPt1' transform='translate(106.2,360.2) scale(4.50)' color='rgb(  0, 158, 115)'/></g>\n",
       "\t<use xlink:href='#gpPt1' transform='translate(106.2,384.1) scale(4.50)' color='rgb(  0, 158, 115)'/>\n",
       "\t<use xlink:href='#gpPt1' transform='translate(319.3,252.6) scale(4.50)' color='rgb(  0, 158, 115)'/>\n",
       "\t<use xlink:href='#gpPt1' transform='translate(532.4,100.1) scale(4.50)' color='rgb(  0, 158, 115)'/>\n",
       "\t<use xlink:href='#gpPt1' transform='translate(532.4,118.1) scale(4.50)' color='rgb(  0, 158, 115)'/>\n",
       "\t<use xlink:href='#gpPt1' transform='translate(532.4,120.7) scale(4.50)' color='rgb(  0, 158, 115)'/>\n",
       "</g>\n",
       "\t</g>\n",
       "<g fill=\"none\" color=\"white\" stroke=\"rgb(  0, 158, 115)\" stroke-width=\"2.00\" stroke-linecap=\"butt\" stroke-linejoin=\"miter\">\n",
       "</g>\n",
       "<g fill=\"none\" color=\"black\" stroke=\"currentColor\" stroke-width=\"2.00\" stroke-linecap=\"butt\" stroke-linejoin=\"miter\">\n",
       "</g>\n",
       "<g fill=\"none\" color=\"black\" stroke=\"black\" stroke-width=\"1.00\" stroke-linecap=\"butt\" stroke-linejoin=\"miter\">\n",
       "</g>\n",
       "<g fill=\"none\" color=\"black\" stroke=\"currentColor\" stroke-width=\"1.00\" stroke-linecap=\"butt\" stroke-linejoin=\"miter\">\n",
       "\t<path stroke='black'  d='M63.6,16.7 L63.6,422.4 L575.0,422.4 L575.0,16.7 L63.6,16.7 Z  '/></g>\n",
       "<g fill=\"none\" color=\"black\" stroke=\"currentColor\" stroke-width=\"1.00\" stroke-linecap=\"butt\" stroke-linejoin=\"miter\">\n",
       "</g>\n",
       "</g>\n",
       "</svg>\n",
       "\n"
      ],
      "text/plain": [
       "#<GnuplotRB::Plot:0x00000002259de0 @options=Hamster::Hash[:xlabel => \"Length [m]\", :ylabel => \"tau [s]\"], @datasets=Hamster::Vector[#<GnuplotRB::Dataset:0x0000000225a2b8 @type=:math_function, @data=\" 7.63437*x**0 + 0.44524*x**1 \", @options=Hamster::Hash[:title => \"Fit formula\"]>, #<GnuplotRB::Dataset:0x000000029c68d0 @type=:datablock, @data=#<GnuplotRB::Datablock:0x000000029c58b8 @stored_in_file=false, @data=\"0 5 10.0726 0.4\\n1 5 9.66115 0.4\\n2 10 11.9292 1\\n3 15 14.5618 1\\n4 15 14.2502 1\\n5 15 14.2057 1\\n\">, @options=Hamster::Hash[:using => \"2:3:4\", :title => \"\", :with => \"yerrorbars\"]>], @cmd=\"plot \">"
      ]
     },
     "execution_count": 67,
     "metadata": {},
     "output_type": "execute_result"
    }
   ],
   "source": [
    "plot_down << fit_down[:formula_ds]"
   ]
  },
  {
   "cell_type": "markdown",
   "metadata": {},
   "source": [
    "# Offset"
   ]
  },
  {
   "cell_type": "code",
   "execution_count": 22,
   "metadata": {
    "collapsed": false
   },
   "outputs": [
    {
     "data": {
      "text/html": [
       "<table><tr><th colspan=\"4\">Daru::DataFrame:19194760  rows: 5  cols: 3<tr><th></th><th>l</th><th>c</th><th>c_err</th></tr><tr><td>0</td><td>5</td><td>1.7</td><td>0.3</td></tr><tr><td>1</td><td>5</td><td>1.5</td><td>0.2</td></tr><tr><td>2</td><td>10</td><td>2.32</td><td>0.08</td></tr><tr><td>3</td><td>15</td><td>2.59</td><td>0.05</td></tr><tr><td>4</td><td>15</td><td>2.01</td><td>0.05</td></tr></table>"
      ],
      "text/plain": [
       "\n",
       "#<Daru::DataFrame:19194760 @name = a694e2ed-4c43-42f9-8a2d-5f25fc7b7d97 @size = 5>\n",
       "                    l          c      c_err \n",
       "         0          5        1.7        0.3 \n",
       "         1          5        1.5        0.2 \n",
       "         2         10       2.32       0.08 \n",
       "         3         15       2.59       0.05 \n",
       "         4         15       2.01       0.05 \n"
      ]
     },
     "execution_count": 22,
     "metadata": {},
     "output_type": "execute_result"
    }
   ],
   "source": [
    "offset = DataFrame.new({l: [5, 5, 10, 15, 15], c: [1.7, 1.5, 2.32, 2.59, 2.01], c_err: [0.3, 0.2, 0.08, 0.05, 0.05]},\n",
    "  order: [:l, :c, :c_err])"
   ]
  },
  {
   "cell_type": "code",
   "execution_count": 59,
   "metadata": {
    "collapsed": false,
    "scrolled": false
   },
   "outputs": [],
   "source": [
    "plot_offset = Plot.new(\n",
    "  [offset, using: \"2:3:4\", with: \"yerrorbars\", title: \"\"],\n",
    "  xlabel: \"Length [m]\",\n",
    "  ylabel: \"c [ppb]\")\n",
    "nil"
   ]
  },
  {
   "cell_type": "code",
   "execution_count": 54,
   "metadata": {
    "collapsed": false
   },
   "outputs": [
    {
     "name": "stdout",
     "output_type": "stream",
     "text": [
      " 1.40003*x**0 + 0.0807903*x**1  title \"ohne letzten Punkt\"\n"
     ]
    },
    {
     "data": {
      "text/plain": [
       "{:a0=>0.2785, :a1=>0.02077}"
      ]
     },
     "execution_count": 54,
     "metadata": {},
     "output_type": "execute_result"
    }
   ],
   "source": [
    "fit_offset = fit_poly(offset.row[0..3], using: \"2:3:4\", degree: 1)\n",
    "fit_offset[:formula_ds].title = \"ohne letzten Punkt\"\n",
    "puts fit_offset[:formula_ds]\n",
    "fit_offset[:deltas]"
   ]
  },
  {
   "cell_type": "code",
   "execution_count": 56,
   "metadata": {
    "collapsed": false
   },
   "outputs": [
    {
     "data": {
      "image/svg+xml": [
       "<?xml version=\"1.0\" encoding=\"utf-8\"  standalone=\"no\"?>\n",
       "<!DOCTYPE svg PUBLIC \"-//W3C//DTD SVG 1.1//EN\"\n",
       " \"http://www.w3.org/Graphics/SVG/1.1/DTD/svg11.dtd\">\n",
       "<svg \n",
       " width=\"600\" height=\"480\"\n",
       " viewBox=\"0 0 600 480\"\n",
       " xmlns=\"http://www.w3.org/2000/svg\"\n",
       " xmlns:xlink=\"http://www.w3.org/1999/xlink\"\n",
       ">\n",
       "\n",
       "<title>Gnuplot</title>\n",
       "<desc>Produced by GNUPLOT 5.0 patchlevel 1 </desc>\n",
       "\n",
       "<g id=\"gnuplot_canvas\">\n",
       "\n",
       "<rect x=\"0\" y=\"0\" width=\"600\" height=\"480\" fill=\"none\"/>\n",
       "<defs>\n",
       "\n",
       "\t<circle id='gpDot' r='0.5' stroke-width='0.5'/>\n",
       "\t<path id='gpPt0' stroke-width='0.222' stroke='currentColor' d='M-1,0 h2 M0,-1 v2'/>\n",
       "\t<path id='gpPt1' stroke-width='0.222' stroke='currentColor' d='M-1,-1 L1,1 M1,-1 L-1,1'/>\n",
       "\t<path id='gpPt2' stroke-width='0.222' stroke='currentColor' d='M-1,0 L1,0 M0,-1 L0,1 M-1,-1 L1,1 M-1,1 L1,-1'/>\n",
       "\t<rect id='gpPt3' stroke-width='0.222' stroke='currentColor' x='-1' y='-1' width='2' height='2'/>\n",
       "\t<rect id='gpPt4' stroke-width='0.222' stroke='currentColor' fill='currentColor' x='-1' y='-1' width='2' height='2'/>\n",
       "\t<circle id='gpPt5' stroke-width='0.222' stroke='currentColor' cx='0' cy='0' r='1'/>\n",
       "\t<use xlink:href='#gpPt5' id='gpPt6' fill='currentColor' stroke='none'/>\n",
       "\t<path id='gpPt7' stroke-width='0.222' stroke='currentColor' d='M0,-1.33 L-1.33,0.67 L1.33,0.67 z'/>\n",
       "\t<use xlink:href='#gpPt7' id='gpPt8' fill='currentColor' stroke='none'/>\n",
       "\t<use xlink:href='#gpPt7' id='gpPt9' stroke='currentColor' transform='rotate(180)'/>\n",
       "\t<use xlink:href='#gpPt9' id='gpPt10' fill='currentColor' stroke='none'/>\n",
       "\t<use xlink:href='#gpPt3' id='gpPt11' stroke='currentColor' transform='rotate(45)'/>\n",
       "\t<use xlink:href='#gpPt11' id='gpPt12' fill='currentColor' stroke='none'/>\n",
       "\t<path id='gpPt13' stroke-width='0.222' stroke='currentColor' d='M0,1.330 L1.265,0.411 L0.782,-1.067 L-0.782,-1.076 L-1.265,0.411 z'/>\n",
       "\t<use xlink:href='#gpPt13' id='gpPt14' fill='currentColor' stroke='none'/>\n",
       "\t<filter id='textbox' filterUnits='objectBoundingBox' x='0' y='0' height='1' width='1'>\n",
       "\t  <feFlood flood-color='white' flood-opacity='1' result='bgnd'/>\n",
       "\t  <feComposite in='SourceGraphic' in2='bgnd' operator='atop'/>\n",
       "\t</filter>\n",
       "\t<filter id='greybox' filterUnits='objectBoundingBox' x='0' y='0' height='1' width='1'>\n",
       "\t  <feFlood flood-color='lightgrey' flood-opacity='1' result='grey'/>\n",
       "\t  <feComposite in='SourceGraphic' in2='grey' operator='atop'/>\n",
       "\t</filter>\n",
       "</defs>\n",
       "<g fill=\"none\" color=\"white\" stroke=\"currentColor\" stroke-width=\"1.00\" stroke-linecap=\"butt\" stroke-linejoin=\"miter\">\n",
       "</g>\n",
       "<g fill=\"none\" color=\"black\" stroke=\"currentColor\" stroke-width=\"1.00\" stroke-linecap=\"butt\" stroke-linejoin=\"miter\">\n",
       "\t<path stroke='black'  d='M71.9,422.4 L80.9,422.4 M575.0,422.4 L566.0,422.4  '/>\t<g transform=\"translate(63.6,426.9)\" stroke=\"none\" fill=\"black\" font-family=\"Arial\" font-size=\"12.00\"  text-anchor=\"end\">\n",
       "\t\t<text><tspan font-family=\"Arial\" > 1.2</tspan></text>\n",
       "\t</g>\n",
       "</g>\n",
       "<g fill=\"none\" color=\"black\" stroke=\"currentColor\" stroke-width=\"1.00\" stroke-linecap=\"butt\" stroke-linejoin=\"miter\">\n",
       "\t<path stroke='black'  d='M71.9,371.7 L80.9,371.7 M575.0,371.7 L566.0,371.7  '/>\t<g transform=\"translate(63.6,376.2)\" stroke=\"none\" fill=\"black\" font-family=\"Arial\" font-size=\"12.00\"  text-anchor=\"end\">\n",
       "\t\t<text><tspan font-family=\"Arial\" > 1.4</tspan></text>\n",
       "\t</g>\n",
       "</g>\n",
       "<g fill=\"none\" color=\"black\" stroke=\"currentColor\" stroke-width=\"1.00\" stroke-linecap=\"butt\" stroke-linejoin=\"miter\">\n",
       "\t<path stroke='black'  d='M71.9,321.0 L80.9,321.0 M575.0,321.0 L566.0,321.0  '/>\t<g transform=\"translate(63.6,325.5)\" stroke=\"none\" fill=\"black\" font-family=\"Arial\" font-size=\"12.00\"  text-anchor=\"end\">\n",
       "\t\t<text><tspan font-family=\"Arial\" > 1.6</tspan></text>\n",
       "\t</g>\n",
       "</g>\n",
       "<g fill=\"none\" color=\"black\" stroke=\"currentColor\" stroke-width=\"1.00\" stroke-linecap=\"butt\" stroke-linejoin=\"miter\">\n",
       "\t<path stroke='black'  d='M71.9,270.3 L80.9,270.3 M575.0,270.3 L566.0,270.3  '/>\t<g transform=\"translate(63.6,274.8)\" stroke=\"none\" fill=\"black\" font-family=\"Arial\" font-size=\"12.00\"  text-anchor=\"end\">\n",
       "\t\t<text><tspan font-family=\"Arial\" > 1.8</tspan></text>\n",
       "\t</g>\n",
       "</g>\n",
       "<g fill=\"none\" color=\"black\" stroke=\"currentColor\" stroke-width=\"1.00\" stroke-linecap=\"butt\" stroke-linejoin=\"miter\">\n",
       "\t<path stroke='black'  d='M71.9,219.6 L80.9,219.6 M575.0,219.6 L566.0,219.6  '/>\t<g transform=\"translate(63.6,224.1)\" stroke=\"none\" fill=\"black\" font-family=\"Arial\" font-size=\"12.00\"  text-anchor=\"end\">\n",
       "\t\t<text><tspan font-family=\"Arial\" > 2</tspan></text>\n",
       "\t</g>\n",
       "</g>\n",
       "<g fill=\"none\" color=\"black\" stroke=\"currentColor\" stroke-width=\"1.00\" stroke-linecap=\"butt\" stroke-linejoin=\"miter\">\n",
       "\t<path stroke='black'  d='M71.9,168.8 L80.9,168.8 M575.0,168.8 L566.0,168.8  '/>\t<g transform=\"translate(63.6,173.3)\" stroke=\"none\" fill=\"black\" font-family=\"Arial\" font-size=\"12.00\"  text-anchor=\"end\">\n",
       "\t\t<text><tspan font-family=\"Arial\" > 2.2</tspan></text>\n",
       "\t</g>\n",
       "</g>\n",
       "<g fill=\"none\" color=\"black\" stroke=\"currentColor\" stroke-width=\"1.00\" stroke-linecap=\"butt\" stroke-linejoin=\"miter\">\n",
       "\t<path stroke='black'  d='M71.9,118.1 L80.9,118.1 M575.0,118.1 L566.0,118.1  '/>\t<g transform=\"translate(63.6,122.6)\" stroke=\"none\" fill=\"black\" font-family=\"Arial\" font-size=\"12.00\"  text-anchor=\"end\">\n",
       "\t\t<text><tspan font-family=\"Arial\" > 2.4</tspan></text>\n",
       "\t</g>\n",
       "</g>\n",
       "<g fill=\"none\" color=\"black\" stroke=\"currentColor\" stroke-width=\"1.00\" stroke-linecap=\"butt\" stroke-linejoin=\"miter\">\n",
       "\t<path stroke='black'  d='M71.9,67.4 L80.9,67.4 M575.0,67.4 L566.0,67.4  '/>\t<g transform=\"translate(63.6,71.9)\" stroke=\"none\" fill=\"black\" font-family=\"Arial\" font-size=\"12.00\"  text-anchor=\"end\">\n",
       "\t\t<text><tspan font-family=\"Arial\" > 2.6</tspan></text>\n",
       "\t</g>\n",
       "</g>\n",
       "<g fill=\"none\" color=\"black\" stroke=\"currentColor\" stroke-width=\"1.00\" stroke-linecap=\"butt\" stroke-linejoin=\"miter\">\n",
       "\t<path stroke='black'  d='M71.9,16.7 L80.9,16.7 M575.0,16.7 L566.0,16.7  '/>\t<g transform=\"translate(63.6,21.2)\" stroke=\"none\" fill=\"black\" font-family=\"Arial\" font-size=\"12.00\"  text-anchor=\"end\">\n",
       "\t\t<text><tspan font-family=\"Arial\" > 2.8</tspan></text>\n",
       "\t</g>\n",
       "</g>\n",
       "<g fill=\"none\" color=\"black\" stroke=\"currentColor\" stroke-width=\"1.00\" stroke-linecap=\"butt\" stroke-linejoin=\"miter\">\n",
       "\t<path stroke='black'  d='M71.9,422.4 L71.9,413.4 M71.9,16.7 L71.9,25.7  '/>\t<g transform=\"translate(71.9,444.9)\" stroke=\"none\" fill=\"black\" font-family=\"Arial\" font-size=\"12.00\"  text-anchor=\"middle\">\n",
       "\t\t<text><tspan font-family=\"Arial\" > 4</tspan></text>\n",
       "\t</g>\n",
       "</g>\n",
       "<g fill=\"none\" color=\"black\" stroke=\"currentColor\" stroke-width=\"1.00\" stroke-linecap=\"butt\" stroke-linejoin=\"miter\">\n",
       "\t<path stroke='black'  d='M155.8,422.4 L155.8,413.4 M155.8,16.7 L155.8,25.7  '/>\t<g transform=\"translate(155.8,444.9)\" stroke=\"none\" fill=\"black\" font-family=\"Arial\" font-size=\"12.00\"  text-anchor=\"middle\">\n",
       "\t\t<text><tspan font-family=\"Arial\" > 6</tspan></text>\n",
       "\t</g>\n",
       "</g>\n",
       "<g fill=\"none\" color=\"black\" stroke=\"currentColor\" stroke-width=\"1.00\" stroke-linecap=\"butt\" stroke-linejoin=\"miter\">\n",
       "\t<path stroke='black'  d='M239.6,422.4 L239.6,413.4 M239.6,16.7 L239.6,25.7  '/>\t<g transform=\"translate(239.6,444.9)\" stroke=\"none\" fill=\"black\" font-family=\"Arial\" font-size=\"12.00\"  text-anchor=\"middle\">\n",
       "\t\t<text><tspan font-family=\"Arial\" > 8</tspan></text>\n",
       "\t</g>\n",
       "</g>\n",
       "<g fill=\"none\" color=\"black\" stroke=\"currentColor\" stroke-width=\"1.00\" stroke-linecap=\"butt\" stroke-linejoin=\"miter\">\n",
       "\t<path stroke='black'  d='M323.5,422.4 L323.5,413.4 M323.5,16.7 L323.5,25.7  '/>\t<g transform=\"translate(323.5,444.9)\" stroke=\"none\" fill=\"black\" font-family=\"Arial\" font-size=\"12.00\"  text-anchor=\"middle\">\n",
       "\t\t<text><tspan font-family=\"Arial\" > 10</tspan></text>\n",
       "\t</g>\n",
       "</g>\n",
       "<g fill=\"none\" color=\"black\" stroke=\"currentColor\" stroke-width=\"1.00\" stroke-linecap=\"butt\" stroke-linejoin=\"miter\">\n",
       "\t<path stroke='black'  d='M407.3,422.4 L407.3,413.4 M407.3,16.7 L407.3,25.7  '/>\t<g transform=\"translate(407.3,444.9)\" stroke=\"none\" fill=\"black\" font-family=\"Arial\" font-size=\"12.00\"  text-anchor=\"middle\">\n",
       "\t\t<text><tspan font-family=\"Arial\" > 12</tspan></text>\n",
       "\t</g>\n",
       "</g>\n",
       "<g fill=\"none\" color=\"black\" stroke=\"currentColor\" stroke-width=\"1.00\" stroke-linecap=\"butt\" stroke-linejoin=\"miter\">\n",
       "\t<path stroke='black'  d='M491.2,422.4 L491.2,413.4 M491.2,16.7 L491.2,25.7  '/>\t<g transform=\"translate(491.2,444.9)\" stroke=\"none\" fill=\"black\" font-family=\"Arial\" font-size=\"12.00\"  text-anchor=\"middle\">\n",
       "\t\t<text><tspan font-family=\"Arial\" > 14</tspan></text>\n",
       "\t</g>\n",
       "</g>\n",
       "<g fill=\"none\" color=\"black\" stroke=\"currentColor\" stroke-width=\"1.00\" stroke-linecap=\"butt\" stroke-linejoin=\"miter\">\n",
       "\t<path stroke='black'  d='M575.0,422.4 L575.0,413.4 M575.0,16.7 L575.0,25.7  '/>\t<g transform=\"translate(575.0,444.9)\" stroke=\"none\" fill=\"black\" font-family=\"Arial\" font-size=\"12.00\"  text-anchor=\"middle\">\n",
       "\t\t<text><tspan font-family=\"Arial\" > 16</tspan></text>\n",
       "\t</g>\n",
       "</g>\n",
       "<g fill=\"none\" color=\"black\" stroke=\"currentColor\" stroke-width=\"1.00\" stroke-linecap=\"butt\" stroke-linejoin=\"miter\">\n",
       "</g>\n",
       "<g fill=\"none\" color=\"black\" stroke=\"currentColor\" stroke-width=\"1.00\" stroke-linecap=\"butt\" stroke-linejoin=\"miter\">\n",
       "\t<path stroke='black'  d='M71.9,16.7 L71.9,422.4 L575.0,422.4 L575.0,16.7 L71.9,16.7 Z  '/></g>\n",
       "<g fill=\"none\" color=\"black\" stroke=\"currentColor\" stroke-width=\"1.00\" stroke-linecap=\"butt\" stroke-linejoin=\"miter\">\n",
       "\t<g transform=\"translate(17.6,219.6) rotate(270)\" stroke=\"none\" fill=\"black\" font-family=\"Arial\" font-size=\"12.00\"  text-anchor=\"middle\">\n",
       "\t\t<text><tspan font-family=\"Arial\" >c [ppb]</tspan></text>\n",
       "\t</g>\n",
       "</g>\n",
       "<g fill=\"none\" color=\"black\" stroke=\"currentColor\" stroke-width=\"1.00\" stroke-linecap=\"butt\" stroke-linejoin=\"miter\">\n",
       "\t<g transform=\"translate(323.4,471.9)\" stroke=\"none\" fill=\"black\" font-family=\"Arial\" font-size=\"12.00\"  text-anchor=\"middle\">\n",
       "\t\t<text><tspan font-family=\"Arial\" >Length [m]</tspan></text>\n",
       "\t</g>\n",
       "</g>\n",
       "<g fill=\"none\" color=\"black\" stroke=\"currentColor\" stroke-width=\"1.00\" stroke-linecap=\"butt\" stroke-linejoin=\"miter\">\n",
       "</g>\n",
       "\t<g id=\"gnuplot_plot_1\" ><title>ohne letzten Punkt</title>\n",
       "<g fill=\"none\" color=\"black\" stroke=\"currentColor\" stroke-width=\"1.00\" stroke-linecap=\"butt\" stroke-linejoin=\"miter\">\n",
       "\t<g transform=\"translate(507.9,39.2)\" stroke=\"none\" fill=\"black\" font-family=\"Arial\" font-size=\"12.00\"  text-anchor=\"end\">\n",
       "\t\t<text><tspan font-family=\"Arial\" >ohne letzten Punkt</tspan></text>\n",
       "\t</g>\n",
       "</g>\n",
       "<g fill=\"none\" color=\"black\" stroke=\"currentColor\" stroke-width=\"1.00\" stroke-linecap=\"butt\" stroke-linejoin=\"miter\">\n",
       "\t<path stroke='rgb(148,   0, 211)'  d='M516.2,34.7 L558.4,34.7 M113.8,269.3 L118.1,267.2 L122.3,265.1 L126.5,263.0 L130.8,261.0 L135.0,258.9\n",
       "\t\tL139.2,256.8 L143.5,254.8 L147.7,252.7 L151.9,250.6 L156.2,248.6 L160.4,246.5 L164.6,244.4 L168.9,242.4\n",
       "\t\tL173.1,240.3 L177.3,238.2 L181.6,236.1 L185.8,234.1 L190.1,232.0 L194.3,229.9 L198.5,227.9 L202.8,225.8\n",
       "\t\tL207.0,223.7 L211.2,221.7 L215.5,219.6 L219.7,217.5 L223.9,215.5 L228.2,213.4 L232.4,211.3 L236.6,209.2\n",
       "\t\tL240.9,207.2 L245.1,205.1 L249.3,203.0 L253.6,201.0 L257.8,198.9 L262.0,196.8 L266.3,194.8 L270.5,192.7\n",
       "\t\tL274.7,190.6 L279.0,188.6 L283.2,186.5 L287.5,184.4 L291.7,182.3 L295.9,180.3 L300.2,178.2 L304.4,176.1\n",
       "\t\tL308.6,174.1 L312.9,172.0 L317.1,169.9 L321.3,167.9 L325.6,165.8 L329.8,163.7 L334.0,161.7 L338.3,159.6\n",
       "\t\tL342.5,157.5 L346.7,155.4 L351.0,153.4 L355.2,151.3 L359.4,149.2 L363.7,147.2 L367.9,145.1 L372.2,143.0\n",
       "\t\tL376.4,141.0 L380.6,138.9 L384.9,136.8 L389.1,134.8 L393.3,132.7 L397.6,130.6 L401.8,128.5 L406.0,126.5\n",
       "\t\tL410.3,124.4 L414.5,122.3 L418.7,120.3 L423.0,118.2 L427.2,116.1 L431.4,114.1 L435.7,112.0 L439.9,109.9\n",
       "\t\tL444.1,107.9 L448.4,105.8 L452.6,103.7 L456.8,101.6 L461.1,99.6 L465.3,97.5 L469.6,95.4 L473.8,93.4\n",
       "\t\tL478.0,91.3 L482.3,89.2 L486.5,87.2 L490.7,85.1 L495.0,83.0 L499.2,81.0 L503.4,78.9 L507.7,76.8\n",
       "\t\tL511.9,74.7 L516.1,72.7 L520.4,70.6 L524.6,68.5 L528.8,66.5 L533.1,64.4  '/></g>\n",
       "\t</g>\n",
       "\t<g id=\"gnuplot_plot_2\" ><title>gnuplot_plot_2</title>\n",
       "<g fill=\"none\" color=\"black\" stroke=\"currentColor\" stroke-width=\"1.00\" stroke-linecap=\"butt\" stroke-linejoin=\"miter\">\n",
       "\t<path stroke='rgb(  0, 158, 115)'  d='M113.8,371.7 L113.8,219.6 M109.3,371.7 L118.3,371.7 M109.3,219.6 L118.3,219.6 M113.8,397.0 L113.8,295.6\n",
       "\t\tM109.3,397.0 L118.3,397.0 M109.3,295.6 L118.3,295.6 M323.5,158.7 L323.5,118.1 M319.0,158.7 L328.0,158.7\n",
       "\t\tM319.0,118.1 L328.0,118.1 M533.1,82.6 L533.1,57.3 M528.6,82.6 L537.6,82.6 M528.6,57.3 L537.6,57.3\n",
       "\t\tM533.1,229.7 L533.1,204.3 M528.6,229.7 L537.6,229.7 M528.6,204.3 L537.6,204.3  '/>\t<g onmousemove=\"gnuplot_svg.showHypertext(evt,'')\" onmouseout=\"gnuplot_svg.hideHypertext()\"><title> </title>\n",
       "\t<use xlink:href='#gpPt1' transform='translate(113.8,295.6) scale(4.50)' color='rgb(  0, 158, 115)'/></g>\n",
       "\t<use xlink:href='#gpPt1' transform='translate(113.8,346.3) scale(4.50)' color='rgb(  0, 158, 115)'/>\n",
       "\t<use xlink:href='#gpPt1' transform='translate(323.5,138.4) scale(4.50)' color='rgb(  0, 158, 115)'/>\n",
       "\t<use xlink:href='#gpPt1' transform='translate(533.1,69.9) scale(4.50)' color='rgb(  0, 158, 115)'/>\n",
       "\t<use xlink:href='#gpPt1' transform='translate(533.1,217.0) scale(4.50)' color='rgb(  0, 158, 115)'/>\n",
       "</g>\n",
       "\t</g>\n",
       "<g fill=\"none\" color=\"white\" stroke=\"rgb(  0, 158, 115)\" stroke-width=\"2.00\" stroke-linecap=\"butt\" stroke-linejoin=\"miter\">\n",
       "</g>\n",
       "<g fill=\"none\" color=\"black\" stroke=\"currentColor\" stroke-width=\"2.00\" stroke-linecap=\"butt\" stroke-linejoin=\"miter\">\n",
       "</g>\n",
       "<g fill=\"none\" color=\"black\" stroke=\"black\" stroke-width=\"1.00\" stroke-linecap=\"butt\" stroke-linejoin=\"miter\">\n",
       "</g>\n",
       "<g fill=\"none\" color=\"black\" stroke=\"currentColor\" stroke-width=\"1.00\" stroke-linecap=\"butt\" stroke-linejoin=\"miter\">\n",
       "\t<path stroke='black'  d='M71.9,16.7 L71.9,422.4 L575.0,422.4 L575.0,16.7 L71.9,16.7 Z  '/></g>\n",
       "<g fill=\"none\" color=\"black\" stroke=\"currentColor\" stroke-width=\"1.00\" stroke-linecap=\"butt\" stroke-linejoin=\"miter\">\n",
       "</g>\n",
       "</g>\n",
       "</svg>\n",
       "\n"
      ],
      "text/plain": [
       "#<GnuplotRB::Plot:0x000000019bc318 @options=Hamster::Hash[:xlabel => \"Length [m]\", :ylabel => \"c [ppb]\"], @datasets=Hamster::Vector[#<GnuplotRB::Dataset:0x000000019bc7f0 @type=:math_function, @data=\" 1.40003*x**0 + 0.0807903*x**1 \", @options=Hamster::Hash[:title => [\"ohne letzten Punkt\"]]>, #<GnuplotRB::Dataset:0x000000023aad20 @type=:datablock, @data=#<GnuplotRB::Datablock:0x000000023a9f10 @stored_in_file=false, @data=\"0 5 1.7 0.3\\n1 5 1.5 0.2\\n2 10 2.32 0.08\\n3 15 2.59 0.05\\n4 15 2.01 0.05\\n\">, @options=Hamster::Hash[:using => \"2:3:4\", :title => \"\", :with => \"yerrorbars\"]>], @cmd=\"plot \">"
      ]
     },
     "execution_count": 56,
     "metadata": {},
     "output_type": "execute_result"
    }
   ],
   "source": [
    "plot_offset << fit_offset[:formula_ds]"
   ]
  },
  {
   "cell_type": "markdown",
   "metadata": {},
   "source": [
    "# Upper Plateau"
   ]
  },
  {
   "cell_type": "code",
   "execution_count": 24,
   "metadata": {
    "collapsed": false
   },
   "outputs": [
    {
     "data": {
      "text/html": [
       "<table><tr><th colspan=\"4\">Daru::DataFrame:17995340  rows: 5  cols: 3<tr><th></th><th>l</th><th>c</th><th>c_err</th></tr><tr><td>0</td><td>5</td><td>24.03</td><td>0.05</td></tr><tr><td>1</td><td>5</td><td>23.84</td><td>0.05</td></tr><tr><td>2</td><td>10</td><td>23.7</td><td>0.2</td></tr><tr><td>3</td><td>15</td><td>23.3</td><td>0.1</td></tr><tr><td>4</td><td>15</td><td>22.7</td><td>0.1</td></tr></table>"
      ],
      "text/plain": [
       "\n",
       "#<Daru::DataFrame:17995340 @name = 3cc0e3af-049b-4927-a6c1-2f84a18fec14 @size = 5>\n",
       "                    l          c      c_err \n",
       "         0          5      24.03       0.05 \n",
       "         1          5      23.84       0.05 \n",
       "         2         10       23.7        0.2 \n",
       "         3         15       23.3        0.1 \n",
       "         4         15       22.7        0.1 \n"
      ]
     },
     "execution_count": 24,
     "metadata": {},
     "output_type": "execute_result"
    }
   ],
   "source": [
    "plateau = DataFrame.new({l: [5, 5, 10, 15, 15], c: [24.03, 23.84, 23.7, 23.3, 22.7], \n",
    "  c_err: [0.05, 0.05, 0.2, 0.1, 0.1]},\n",
    "  order: [:l, :c, :c_err])"
   ]
  },
  {
   "cell_type": "code",
   "execution_count": 28,
   "metadata": {
    "collapsed": false
   },
   "outputs": [],
   "source": [
    "plot_plateau = Plot.new(\n",
    "  [plateau, using: \"2:3:4\", with: \"yerrorbars\", title: \"\"],\n",
    "  xlabel: \"Length [m]\",\n",
    "  ylabel: \"c [ppb]\")\n",
    "nil"
   ]
  },
  {
   "cell_type": "code",
   "execution_count": 33,
   "metadata": {
    "collapsed": false
   },
   "outputs": [
    {
     "name": "stdout",
     "output_type": "stream",
     "text": [
      " 24.4008*x**0 + -0.0924511*x**1 \n"
     ]
    },
    {
     "data": {
      "text/plain": [
       "{:a0=>0.1895, :a1=>0.02335}"
      ]
     },
     "execution_count": 33,
     "metadata": {},
     "output_type": "execute_result"
    }
   ],
   "source": [
    "fit_plateau = fit_poly(plateau, using: \"2:3:4\", degree: 1)\n",
    "puts fit_plateau[:formula_ds].data\n",
    "fit_plateau[:deltas]"
   ]
  },
  {
   "cell_type": "code",
   "execution_count": 30,
   "metadata": {
    "collapsed": false
   },
   "outputs": [
    {
     "data": {
      "image/svg+xml": [
       "<?xml version=\"1.0\" encoding=\"utf-8\"  standalone=\"no\"?>\n",
       "<!DOCTYPE svg PUBLIC \"-//W3C//DTD SVG 1.1//EN\"\n",
       " \"http://www.w3.org/Graphics/SVG/1.1/DTD/svg11.dtd\">\n",
       "<svg \n",
       " width=\"600\" height=\"480\"\n",
       " viewBox=\"0 0 600 480\"\n",
       " xmlns=\"http://www.w3.org/2000/svg\"\n",
       " xmlns:xlink=\"http://www.w3.org/1999/xlink\"\n",
       ">\n",
       "\n",
       "<title>Gnuplot</title>\n",
       "<desc>Produced by GNUPLOT 5.0 patchlevel 1 </desc>\n",
       "\n",
       "<g id=\"gnuplot_canvas\">\n",
       "\n",
       "<rect x=\"0\" y=\"0\" width=\"600\" height=\"480\" fill=\"none\"/>\n",
       "<defs>\n",
       "\n",
       "\t<circle id='gpDot' r='0.5' stroke-width='0.5'/>\n",
       "\t<path id='gpPt0' stroke-width='0.222' stroke='currentColor' d='M-1,0 h2 M0,-1 v2'/>\n",
       "\t<path id='gpPt1' stroke-width='0.222' stroke='currentColor' d='M-1,-1 L1,1 M1,-1 L-1,1'/>\n",
       "\t<path id='gpPt2' stroke-width='0.222' stroke='currentColor' d='M-1,0 L1,0 M0,-1 L0,1 M-1,-1 L1,1 M-1,1 L1,-1'/>\n",
       "\t<rect id='gpPt3' stroke-width='0.222' stroke='currentColor' x='-1' y='-1' width='2' height='2'/>\n",
       "\t<rect id='gpPt4' stroke-width='0.222' stroke='currentColor' fill='currentColor' x='-1' y='-1' width='2' height='2'/>\n",
       "\t<circle id='gpPt5' stroke-width='0.222' stroke='currentColor' cx='0' cy='0' r='1'/>\n",
       "\t<use xlink:href='#gpPt5' id='gpPt6' fill='currentColor' stroke='none'/>\n",
       "\t<path id='gpPt7' stroke-width='0.222' stroke='currentColor' d='M0,-1.33 L-1.33,0.67 L1.33,0.67 z'/>\n",
       "\t<use xlink:href='#gpPt7' id='gpPt8' fill='currentColor' stroke='none'/>\n",
       "\t<use xlink:href='#gpPt7' id='gpPt9' stroke='currentColor' transform='rotate(180)'/>\n",
       "\t<use xlink:href='#gpPt9' id='gpPt10' fill='currentColor' stroke='none'/>\n",
       "\t<use xlink:href='#gpPt3' id='gpPt11' stroke='currentColor' transform='rotate(45)'/>\n",
       "\t<use xlink:href='#gpPt11' id='gpPt12' fill='currentColor' stroke='none'/>\n",
       "\t<path id='gpPt13' stroke-width='0.222' stroke='currentColor' d='M0,1.330 L1.265,0.411 L0.782,-1.067 L-0.782,-1.076 L-1.265,0.411 z'/>\n",
       "\t<use xlink:href='#gpPt13' id='gpPt14' fill='currentColor' stroke='none'/>\n",
       "\t<filter id='textbox' filterUnits='objectBoundingBox' x='0' y='0' height='1' width='1'>\n",
       "\t  <feFlood flood-color='white' flood-opacity='1' result='bgnd'/>\n",
       "\t  <feComposite in='SourceGraphic' in2='bgnd' operator='atop'/>\n",
       "\t</filter>\n",
       "\t<filter id='greybox' filterUnits='objectBoundingBox' x='0' y='0' height='1' width='1'>\n",
       "\t  <feFlood flood-color='lightgrey' flood-opacity='1' result='grey'/>\n",
       "\t  <feComposite in='SourceGraphic' in2='grey' operator='atop'/>\n",
       "\t</filter>\n",
       "</defs>\n",
       "<g fill=\"none\" color=\"white\" stroke=\"currentColor\" stroke-width=\"1.00\" stroke-linecap=\"butt\" stroke-linejoin=\"miter\">\n",
       "</g>\n",
       "<g fill=\"none\" color=\"black\" stroke=\"currentColor\" stroke-width=\"1.00\" stroke-linecap=\"butt\" stroke-linejoin=\"miter\">\n",
       "\t<path stroke='black'  d='M80.2,422.4 L89.2,422.4 M575.0,422.4 L566.0,422.4  '/>\t<g transform=\"translate(71.9,426.9)\" stroke=\"none\" fill=\"black\" font-family=\"Arial\" font-size=\"12.00\"  text-anchor=\"end\">\n",
       "\t\t<text><tspan font-family=\"Arial\" > 22.4</tspan></text>\n",
       "\t</g>\n",
       "</g>\n",
       "<g fill=\"none\" color=\"black\" stroke=\"currentColor\" stroke-width=\"1.00\" stroke-linecap=\"butt\" stroke-linejoin=\"miter\">\n",
       "\t<path stroke='black'  d='M80.2,377.3 L89.2,377.3 M575.0,377.3 L566.0,377.3  '/>\t<g transform=\"translate(71.9,381.8)\" stroke=\"none\" fill=\"black\" font-family=\"Arial\" font-size=\"12.00\"  text-anchor=\"end\">\n",
       "\t\t<text><tspan font-family=\"Arial\" > 22.6</tspan></text>\n",
       "\t</g>\n",
       "</g>\n",
       "<g fill=\"none\" color=\"black\" stroke=\"currentColor\" stroke-width=\"1.00\" stroke-linecap=\"butt\" stroke-linejoin=\"miter\">\n",
       "\t<path stroke='black'  d='M80.2,332.2 L89.2,332.2 M575.0,332.2 L566.0,332.2  '/>\t<g transform=\"translate(71.9,336.7)\" stroke=\"none\" fill=\"black\" font-family=\"Arial\" font-size=\"12.00\"  text-anchor=\"end\">\n",
       "\t\t<text><tspan font-family=\"Arial\" > 22.8</tspan></text>\n",
       "\t</g>\n",
       "</g>\n",
       "<g fill=\"none\" color=\"black\" stroke=\"currentColor\" stroke-width=\"1.00\" stroke-linecap=\"butt\" stroke-linejoin=\"miter\">\n",
       "\t<path stroke='black'  d='M80.2,287.2 L89.2,287.2 M575.0,287.2 L566.0,287.2  '/>\t<g transform=\"translate(71.9,291.7)\" stroke=\"none\" fill=\"black\" font-family=\"Arial\" font-size=\"12.00\"  text-anchor=\"end\">\n",
       "\t\t<text><tspan font-family=\"Arial\" > 23</tspan></text>\n",
       "\t</g>\n",
       "</g>\n",
       "<g fill=\"none\" color=\"black\" stroke=\"currentColor\" stroke-width=\"1.00\" stroke-linecap=\"butt\" stroke-linejoin=\"miter\">\n",
       "\t<path stroke='black'  d='M80.2,242.1 L89.2,242.1 M575.0,242.1 L566.0,242.1  '/>\t<g transform=\"translate(71.9,246.6)\" stroke=\"none\" fill=\"black\" font-family=\"Arial\" font-size=\"12.00\"  text-anchor=\"end\">\n",
       "\t\t<text><tspan font-family=\"Arial\" > 23.2</tspan></text>\n",
       "\t</g>\n",
       "</g>\n",
       "<g fill=\"none\" color=\"black\" stroke=\"currentColor\" stroke-width=\"1.00\" stroke-linecap=\"butt\" stroke-linejoin=\"miter\">\n",
       "\t<path stroke='black'  d='M80.2,197.0 L89.2,197.0 M575.0,197.0 L566.0,197.0  '/>\t<g transform=\"translate(71.9,201.5)\" stroke=\"none\" fill=\"black\" font-family=\"Arial\" font-size=\"12.00\"  text-anchor=\"end\">\n",
       "\t\t<text><tspan font-family=\"Arial\" > 23.4</tspan></text>\n",
       "\t</g>\n",
       "</g>\n",
       "<g fill=\"none\" color=\"black\" stroke=\"currentColor\" stroke-width=\"1.00\" stroke-linecap=\"butt\" stroke-linejoin=\"miter\">\n",
       "\t<path stroke='black'  d='M80.2,151.9 L89.2,151.9 M575.0,151.9 L566.0,151.9  '/>\t<g transform=\"translate(71.9,156.4)\" stroke=\"none\" fill=\"black\" font-family=\"Arial\" font-size=\"12.00\"  text-anchor=\"end\">\n",
       "\t\t<text><tspan font-family=\"Arial\" > 23.6</tspan></text>\n",
       "\t</g>\n",
       "</g>\n",
       "<g fill=\"none\" color=\"black\" stroke=\"currentColor\" stroke-width=\"1.00\" stroke-linecap=\"butt\" stroke-linejoin=\"miter\">\n",
       "\t<path stroke='black'  d='M80.2,106.9 L89.2,106.9 M575.0,106.9 L566.0,106.9  '/>\t<g transform=\"translate(71.9,111.4)\" stroke=\"none\" fill=\"black\" font-family=\"Arial\" font-size=\"12.00\"  text-anchor=\"end\">\n",
       "\t\t<text><tspan font-family=\"Arial\" > 23.8</tspan></text>\n",
       "\t</g>\n",
       "</g>\n",
       "<g fill=\"none\" color=\"black\" stroke=\"currentColor\" stroke-width=\"1.00\" stroke-linecap=\"butt\" stroke-linejoin=\"miter\">\n",
       "\t<path stroke='black'  d='M80.2,61.8 L89.2,61.8 M575.0,61.8 L566.0,61.8  '/>\t<g transform=\"translate(71.9,66.3)\" stroke=\"none\" fill=\"black\" font-family=\"Arial\" font-size=\"12.00\"  text-anchor=\"end\">\n",
       "\t\t<text><tspan font-family=\"Arial\" > 24</tspan></text>\n",
       "\t</g>\n",
       "</g>\n",
       "<g fill=\"none\" color=\"black\" stroke=\"currentColor\" stroke-width=\"1.00\" stroke-linecap=\"butt\" stroke-linejoin=\"miter\">\n",
       "\t<path stroke='black'  d='M80.2,16.7 L89.2,16.7 M575.0,16.7 L566.0,16.7  '/>\t<g transform=\"translate(71.9,21.2)\" stroke=\"none\" fill=\"black\" font-family=\"Arial\" font-size=\"12.00\"  text-anchor=\"end\">\n",
       "\t\t<text><tspan font-family=\"Arial\" > 24.2</tspan></text>\n",
       "\t</g>\n",
       "</g>\n",
       "<g fill=\"none\" color=\"black\" stroke=\"currentColor\" stroke-width=\"1.00\" stroke-linecap=\"butt\" stroke-linejoin=\"miter\">\n",
       "\t<path stroke='black'  d='M80.2,422.4 L80.2,413.4 M80.2,16.7 L80.2,25.7  '/>\t<g transform=\"translate(80.2,444.9)\" stroke=\"none\" fill=\"black\" font-family=\"Arial\" font-size=\"12.00\"  text-anchor=\"middle\">\n",
       "\t\t<text><tspan font-family=\"Arial\" > 4</tspan></text>\n",
       "\t</g>\n",
       "</g>\n",
       "<g fill=\"none\" color=\"black\" stroke=\"currentColor\" stroke-width=\"1.00\" stroke-linecap=\"butt\" stroke-linejoin=\"miter\">\n",
       "\t<path stroke='black'  d='M162.7,422.4 L162.7,413.4 M162.7,16.7 L162.7,25.7  '/>\t<g transform=\"translate(162.7,444.9)\" stroke=\"none\" fill=\"black\" font-family=\"Arial\" font-size=\"12.00\"  text-anchor=\"middle\">\n",
       "\t\t<text><tspan font-family=\"Arial\" > 6</tspan></text>\n",
       "\t</g>\n",
       "</g>\n",
       "<g fill=\"none\" color=\"black\" stroke=\"currentColor\" stroke-width=\"1.00\" stroke-linecap=\"butt\" stroke-linejoin=\"miter\">\n",
       "\t<path stroke='black'  d='M245.1,422.4 L245.1,413.4 M245.1,16.7 L245.1,25.7  '/>\t<g transform=\"translate(245.1,444.9)\" stroke=\"none\" fill=\"black\" font-family=\"Arial\" font-size=\"12.00\"  text-anchor=\"middle\">\n",
       "\t\t<text><tspan font-family=\"Arial\" > 8</tspan></text>\n",
       "\t</g>\n",
       "</g>\n",
       "<g fill=\"none\" color=\"black\" stroke=\"currentColor\" stroke-width=\"1.00\" stroke-linecap=\"butt\" stroke-linejoin=\"miter\">\n",
       "\t<path stroke='black'  d='M327.6,422.4 L327.6,413.4 M327.6,16.7 L327.6,25.7  '/>\t<g transform=\"translate(327.6,444.9)\" stroke=\"none\" fill=\"black\" font-family=\"Arial\" font-size=\"12.00\"  text-anchor=\"middle\">\n",
       "\t\t<text><tspan font-family=\"Arial\" > 10</tspan></text>\n",
       "\t</g>\n",
       "</g>\n",
       "<g fill=\"none\" color=\"black\" stroke=\"currentColor\" stroke-width=\"1.00\" stroke-linecap=\"butt\" stroke-linejoin=\"miter\">\n",
       "\t<path stroke='black'  d='M410.1,422.4 L410.1,413.4 M410.1,16.7 L410.1,25.7  '/>\t<g transform=\"translate(410.1,444.9)\" stroke=\"none\" fill=\"black\" font-family=\"Arial\" font-size=\"12.00\"  text-anchor=\"middle\">\n",
       "\t\t<text><tspan font-family=\"Arial\" > 12</tspan></text>\n",
       "\t</g>\n",
       "</g>\n",
       "<g fill=\"none\" color=\"black\" stroke=\"currentColor\" stroke-width=\"1.00\" stroke-linecap=\"butt\" stroke-linejoin=\"miter\">\n",
       "\t<path stroke='black'  d='M492.5,422.4 L492.5,413.4 M492.5,16.7 L492.5,25.7  '/>\t<g transform=\"translate(492.5,444.9)\" stroke=\"none\" fill=\"black\" font-family=\"Arial\" font-size=\"12.00\"  text-anchor=\"middle\">\n",
       "\t\t<text><tspan font-family=\"Arial\" > 14</tspan></text>\n",
       "\t</g>\n",
       "</g>\n",
       "<g fill=\"none\" color=\"black\" stroke=\"currentColor\" stroke-width=\"1.00\" stroke-linecap=\"butt\" stroke-linejoin=\"miter\">\n",
       "\t<path stroke='black'  d='M575.0,422.4 L575.0,413.4 M575.0,16.7 L575.0,25.7  '/>\t<g transform=\"translate(575.0,444.9)\" stroke=\"none\" fill=\"black\" font-family=\"Arial\" font-size=\"12.00\"  text-anchor=\"middle\">\n",
       "\t\t<text><tspan font-family=\"Arial\" > 16</tspan></text>\n",
       "\t</g>\n",
       "</g>\n",
       "<g fill=\"none\" color=\"black\" stroke=\"currentColor\" stroke-width=\"1.00\" stroke-linecap=\"butt\" stroke-linejoin=\"miter\">\n",
       "</g>\n",
       "<g fill=\"none\" color=\"black\" stroke=\"currentColor\" stroke-width=\"1.00\" stroke-linecap=\"butt\" stroke-linejoin=\"miter\">\n",
       "\t<path stroke='black'  d='M80.2,16.7 L80.2,422.4 L575.0,422.4 L575.0,16.7 L80.2,16.7 Z  '/></g>\n",
       "<g fill=\"none\" color=\"black\" stroke=\"currentColor\" stroke-width=\"1.00\" stroke-linecap=\"butt\" stroke-linejoin=\"miter\">\n",
       "\t<g transform=\"translate(17.6,219.6) rotate(270)\" stroke=\"none\" fill=\"black\" font-family=\"Arial\" font-size=\"12.00\"  text-anchor=\"middle\">\n",
       "\t\t<text><tspan font-family=\"Arial\" >c [ppb]</tspan></text>\n",
       "\t</g>\n",
       "</g>\n",
       "<g fill=\"none\" color=\"black\" stroke=\"currentColor\" stroke-width=\"1.00\" stroke-linecap=\"butt\" stroke-linejoin=\"miter\">\n",
       "\t<g transform=\"translate(327.6,471.9)\" stroke=\"none\" fill=\"black\" font-family=\"Arial\" font-size=\"12.00\"  text-anchor=\"middle\">\n",
       "\t\t<text><tspan font-family=\"Arial\" >Length [m]</tspan></text>\n",
       "\t</g>\n",
       "</g>\n",
       "<g fill=\"none\" color=\"black\" stroke=\"currentColor\" stroke-width=\"1.00\" stroke-linecap=\"butt\" stroke-linejoin=\"miter\">\n",
       "</g>\n",
       "\t<g id=\"gnuplot_plot_1\" ><title>Fit formula</title>\n",
       "<g fill=\"none\" color=\"black\" stroke=\"currentColor\" stroke-width=\"1.00\" stroke-linecap=\"butt\" stroke-linejoin=\"miter\">\n",
       "\t<g transform=\"translate(507.9,39.2)\" stroke=\"none\" fill=\"black\" font-family=\"Arial\" font-size=\"12.00\"  text-anchor=\"end\">\n",
       "\t\t<text><tspan font-family=\"Arial\" >Fit formula</tspan></text>\n",
       "\t</g>\n",
       "</g>\n",
       "<g fill=\"none\" color=\"black\" stroke=\"currentColor\" stroke-width=\"1.00\" stroke-linecap=\"butt\" stroke-linejoin=\"miter\">\n",
       "\t<path stroke='rgb(148,   0, 211)'  d='M516.2,34.7 L558.4,34.7 M121.4,75.6 L125.6,77.7 L129.8,79.8 L133.9,81.9 L138.1,84.0 L142.3,86.2\n",
       "\t\tL146.4,88.3 L150.6,90.4 L154.8,92.5 L158.9,94.6 L163.1,96.7 L167.2,98.8 L171.4,100.9 L175.6,103.0\n",
       "\t\tL179.7,105.1 L183.9,107.2 L188.1,109.3 L192.2,111.4 L196.4,113.5 L200.6,115.6 L204.7,117.7 L208.9,119.8\n",
       "\t\tL213.1,121.9 L217.2,124.0 L221.4,126.1 L225.6,128.2 L229.7,130.4 L233.9,132.5 L238.1,134.6 L242.2,136.7\n",
       "\t\tL246.4,138.8 L250.5,140.9 L254.7,143.0 L258.9,145.1 L263.0,147.2 L267.2,149.3 L271.4,151.4 L275.5,153.5\n",
       "\t\tL279.7,155.6 L283.9,157.7 L288.0,159.8 L292.2,161.9 L296.4,164.0 L300.5,166.1 L304.7,168.2 L308.9,170.3\n",
       "\t\tL313.0,172.4 L317.2,174.6 L321.4,176.7 L325.5,178.8 L329.7,180.9 L333.8,183.0 L338.0,185.1 L342.2,187.2\n",
       "\t\tL346.3,189.3 L350.5,191.4 L354.7,193.5 L358.8,195.6 L363.0,197.7 L367.2,199.8 L371.3,201.9 L375.5,204.0\n",
       "\t\tL379.7,206.1 L383.8,208.2 L388.0,210.3 L392.2,212.4 L396.3,214.5 L400.5,216.7 L404.7,218.8 L408.8,220.9\n",
       "\t\tL413.0,223.0 L417.1,225.1 L421.3,227.2 L425.5,229.3 L429.6,231.4 L433.8,233.5 L438.0,235.6 L442.1,237.7\n",
       "\t\tL446.3,239.8 L450.5,241.9 L454.6,244.0 L458.8,246.1 L463.0,248.2 L467.1,250.3 L471.3,252.4 L475.5,254.5\n",
       "\t\tL479.6,256.6 L483.8,258.7 L488.0,260.9 L492.1,263.0 L496.3,265.1 L500.4,267.2 L504.6,269.3 L508.8,271.4\n",
       "\t\tL512.9,273.5 L517.1,275.6 L521.3,277.7 L525.4,279.8 L529.6,281.9 L533.8,284.0  '/></g>\n",
       "\t</g>\n",
       "\t<g id=\"gnuplot_plot_2\" ><title>gnuplot_plot_2</title>\n",
       "<g fill=\"none\" color=\"black\" stroke=\"currentColor\" stroke-width=\"1.00\" stroke-linecap=\"butt\" stroke-linejoin=\"miter\">\n",
       "\t<path stroke='rgb(  0, 158, 115)'  d='M121.4,66.3 L121.4,43.7 M116.9,66.3 L125.9,66.3 M116.9,43.7 L125.9,43.7 M121.4,109.1 L121.4,86.6\n",
       "\t\tM116.9,109.1 L125.9,109.1 M116.9,86.6 L125.9,86.6 M327.6,174.5 L327.6,84.3 M323.1,174.5 L332.1,174.5\n",
       "\t\tM323.1,84.3 L332.1,84.3 M533.8,242.1 L533.8,197.0 M529.3,242.1 L538.3,242.1 M529.3,197.0 L538.3,197.0\n",
       "\t\tM533.8,377.3 L533.8,332.2 M529.3,377.3 L538.3,377.3 M529.3,332.2 L538.3,332.2  '/>\t<g onmousemove=\"gnuplot_svg.showHypertext(evt,'')\" onmouseout=\"gnuplot_svg.hideHypertext()\"><title> </title>\n",
       "\t<use xlink:href='#gpPt1' transform='translate(121.4,55.0) scale(4.50)' color='rgb(  0, 158, 115)'/></g>\n",
       "\t<use xlink:href='#gpPt1' transform='translate(121.4,97.8) scale(4.50)' color='rgb(  0, 158, 115)'/>\n",
       "\t<use xlink:href='#gpPt1' transform='translate(327.6,129.4) scale(4.50)' color='rgb(  0, 158, 115)'/>\n",
       "\t<use xlink:href='#gpPt1' transform='translate(533.8,219.6) scale(4.50)' color='rgb(  0, 158, 115)'/>\n",
       "\t<use xlink:href='#gpPt1' transform='translate(533.8,354.8) scale(4.50)' color='rgb(  0, 158, 115)'/>\n",
       "</g>\n",
       "\t</g>\n",
       "<g fill=\"none\" color=\"white\" stroke=\"rgb(  0, 158, 115)\" stroke-width=\"2.00\" stroke-linecap=\"butt\" stroke-linejoin=\"miter\">\n",
       "</g>\n",
       "<g fill=\"none\" color=\"black\" stroke=\"currentColor\" stroke-width=\"2.00\" stroke-linecap=\"butt\" stroke-linejoin=\"miter\">\n",
       "</g>\n",
       "<g fill=\"none\" color=\"black\" stroke=\"black\" stroke-width=\"1.00\" stroke-linecap=\"butt\" stroke-linejoin=\"miter\">\n",
       "</g>\n",
       "<g fill=\"none\" color=\"black\" stroke=\"currentColor\" stroke-width=\"1.00\" stroke-linecap=\"butt\" stroke-linejoin=\"miter\">\n",
       "\t<path stroke='black'  d='M80.2,16.7 L80.2,422.4 L575.0,422.4 L575.0,16.7 L80.2,16.7 Z  '/></g>\n",
       "<g fill=\"none\" color=\"black\" stroke=\"currentColor\" stroke-width=\"1.00\" stroke-linecap=\"butt\" stroke-linejoin=\"miter\">\n",
       "</g>\n",
       "</g>\n",
       "</svg>\n",
       "\n"
      ],
      "text/plain": [
       "#<GnuplotRB::Plot:0x00000001f56300 @options=Hamster::Hash[:xlabel => \"Length [m]\", :ylabel => \"c [ppb]\"], @datasets=Hamster::Vector[#<GnuplotRB::Dataset:0x00000001f57110 @type=:math_function, @data=\" 24.4008*x**0 + -0.0924511*x**1 \", @options=Hamster::Hash[:title => \"Fit formula\"]>, #<GnuplotRB::Dataset:0x00000001f5f3b0 @type=:datablock, @data=#<GnuplotRB::Datablock:0x00000001f5eb18 @stored_in_file=false, @data=\"0 5 24.03 0.05\\n1 5 23.84 0.05\\n2 10 23.7 0.2\\n3 15 23.3 0.1\\n4 15 22.7 0.1\\n\">, @options=Hamster::Hash[:using => \"2:3:4\", :title => \"\", :with => \"yerrorbars\"]>], @cmd=\"plot \">"
      ]
     },
     "execution_count": 30,
     "metadata": {},
     "output_type": "execute_result"
    }
   ],
   "source": [
    "plot_plateau << fit_plateau[:formula_ds]"
   ]
  }
 ],
 "metadata": {
  "kernelspec": {
   "display_name": "Ruby 2.2.1",
   "language": "ruby",
   "name": "ruby"
  },
  "language_info": {
   "file_extension": ".rb",
   "mimetype": "application/x-ruby",
   "name": "ruby",
   "version": "2.2.1"
  }
 },
 "nbformat": 4,
 "nbformat_minor": 0
}
