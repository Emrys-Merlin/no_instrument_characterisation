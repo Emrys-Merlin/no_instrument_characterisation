{
 "cells": [
  {
   "cell_type": "code",
   "execution_count": 1,
   "metadata": {
    "collapsed": false
   },
   "outputs": [
    {
     "data": {
      "application/javascript": [
       "if(window['d3'] === undefined ||\n",
       "   window['Nyaplot'] === undefined){\n",
       "    var path = {\"d3\":\"https://cdnjs.cloudflare.com/ajax/libs/d3/3.5.5/d3.min\",\"downloadable\":\"http://cdn.rawgit.com/domitry/d3-downloadable/master/d3-downloadable\"};\n",
       "\n",
       "\n",
       "\n",
       "    var shim = {\"d3\":{\"exports\":\"d3\"},\"downloadable\":{\"exports\":\"downloadable\"}};\n",
       "\n",
       "    require.config({paths: path, shim:shim});\n",
       "\n",
       "\n",
       "require(['d3'], function(d3){window['d3']=d3;console.log('finished loading d3');require(['downloadable'], function(downloadable){window['downloadable']=downloadable;console.log('finished loading downloadable');\n",
       "\n",
       "\tvar script = d3.select(\"head\")\n",
       "\t    .append(\"script\")\n",
       "\t    .attr(\"src\", \"http://cdn.rawgit.com/domitry/Nyaplotjs/master/release/nyaplot.js\")\n",
       "\t    .attr(\"async\", true);\n",
       "\n",
       "\tscript[0][0].onload = script[0][0].onreadystatechange = function(){\n",
       "\n",
       "\n",
       "\t    var event = document.createEvent(\"HTMLEvents\");\n",
       "\t    event.initEvent(\"load_nyaplot\",false,false);\n",
       "\t    window.dispatchEvent(event);\n",
       "\t    console.log('Finished loading Nyaplotjs');\n",
       "\n",
       "\t};\n",
       "\n",
       "\n",
       "});});\n",
       "}\n"
      ],
      "text/plain": [
       "\"if(window['d3'] === undefined ||\\n   window['Nyaplot'] === undefined){\\n    var path = {\\\"d3\\\":\\\"https://cdnjs.cloudflare.com/ajax/libs/d3/3.5.5/d3.min\\\",\\\"downloadable\\\":\\\"http://cdn.rawgit.com/domitry/d3-downloadable/master/d3-downloadable\\\"};\\n\\n\\n\\n    var shim = {\\\"d3\\\":{\\\"exports\\\":\\\"d3\\\"},\\\"downloadable\\\":{\\\"exports\\\":\\\"downloadable\\\"}};\\n\\n    require.config({paths: path, shim:shim});\\n\\n\\nrequire(['d3'], function(d3){window['d3']=d3;console.log('finished loading d3');require(['downloadable'], function(downloadable){window['downloadable']=downloadable;console.log('finished loading downloadable');\\n\\n\\tvar script = d3.select(\\\"head\\\")\\n\\t    .append(\\\"script\\\")\\n\\t    .attr(\\\"src\\\", \\\"http://cdn.rawgit.com/domitry/Nyaplotjs/master/release/nyaplot.js\\\")\\n\\t    .attr(\\\"async\\\", true);\\n\\n\\tscript[0][0].onload = script[0][0].onreadystatechange = function(){\\n\\n\\n\\t    var event = document.createEvent(\\\"HTMLEvents\\\");\\n\\t    event.initEvent(\\\"load_nyaplot\\\",false,false);\\n\\t    window.dispatchEvent(event);\\n\\t    console.log('Finished loading Nyaplotjs');\\n\\n\\t};\\n\\n\\n});});\\n}\\n\""
      ]
     },
     "metadata": {},
     "output_type": "display_data"
    }
   ],
   "source": [
    "require \"narray\"\n",
    "require \"daru\"\n",
    "include Daru\n",
    "nil"
   ]
  },
  {
   "cell_type": "code",
   "execution_count": 2,
   "metadata": {
    "collapsed": false
   },
   "outputs": [],
   "source": [
    "input = \"../DOAS/20160205_NO2.csv\"\n",
    "\n",
    "order = [\"index\", \"timestamp\", \"no2\", \"no2_err\", \"h2o\", \"h2o_err\"]\n",
    "\n",
    "molar_masses = {no2: 46, h2o: 18}\n",
    "\n",
    "molar_volume = 22.4\n",
    "\n",
    "from_ppb = true #else from ug/m^3\n",
    "\n",
    "nil"
   ]
  },
  {
   "cell_type": "code",
   "execution_count": 3,
   "metadata": {
    "collapsed": false
   },
   "outputs": [
    {
     "data": {
      "text/html": [
       "<table><tr><th colspan=\"7\">Daru::DataFrame:19352800  rows: 10  cols: 6<tr><th></th><th>index</th><th>timestamp</th><th>no2</th><th>no2_err</th><th>h2o</th><th>h2o_err</th></tr><tr><td>0</td><td>0</td><td>2016-02-05T10:50:03+01:00</td><td>44.5446578980823</td><td>0.234613687001027</td><td>4459813.91545928</td><td>1336999.28416624</td></tr><tr><td>1</td><td>1</td><td>2016-02-05T10:50:06+01:00</td><td>44.0685080941092</td><td>0.216366309196476</td><td>5320194.21469098</td><td>1233330.26784266</td></tr><tr><td>2</td><td>2</td><td>2016-02-05T10:50:09+01:00</td><td>44.2942487501008</td><td>0.213769961742153</td><td>5954262.05497361</td><td>1218412.03898882</td></tr><tr><td>3</td><td>3</td><td>2016-02-05T10:50:11+01:00</td><td>44.8006275735036</td><td>0.209245577008174</td><td>5131135.20994348</td><td>1192250.84792879</td></tr><tr><td>4</td><td>4</td><td>2016-02-05T10:50:13+01:00</td><td>45.8245316233237</td><td>0.214061139960362</td><td>6284206.82671725</td><td>1219058.68169088</td></tr><tr><td>5</td><td>5</td><td>2016-02-05T10:50:16+01:00</td><td>46.771858644332</td><td>0.212441843973984</td><td>5220780.05523918</td><td>1209231.78568218</td></tr><tr><td>6</td><td>6</td><td>2016-02-05T10:50:18+01:00</td><td>47.3687131432783</td><td>0.200352862813292</td><td>4638697.49447677</td><td>1140073.32556966</td></tr><tr><td>7</td><td>7</td><td>2016-02-05T10:50:20+01:00</td><td>47.355057416822</td><td>0.213131848119867</td><td>5130443.65116201</td><td>1212798.66290045</td></tr><tr><td>8</td><td>8</td><td>2016-02-05T10:50:22+01:00</td><td>47.7473843478201</td><td>0.222221042429119</td><td>4946500.90407277</td><td>1264236.40292817</td></tr><tr><td>9</td><td>9</td><td>2016-02-05T10:50:25+01:00</td><td>47.9030874974096</td><td>0.213926222560041</td><td>6968532.09025212</td><td>1216992.37492484</td></tr></table>"
      ],
      "text/plain": [
       "\n",
       "#<Daru::DataFrame:19352800 @name = 84a91b36-7560-4702-a17e-f8d2fe1eb543 @size = 10>\n",
       "                index  timestamp        no2    no2_err        h2o    h2o_err \n",
       "         0          0 2016-02-05 44.5446578 0.23461368 4459813.91 1336999.28 \n",
       "         1          1 2016-02-05 44.0685080 0.21636630 5320194.21 1233330.26 \n",
       "         2          2 2016-02-05 44.2942487 0.21376996 5954262.05 1218412.03 \n",
       "         3          3 2016-02-05 44.8006275 0.20924557 5131135.20 1192250.84 \n",
       "         4          4 2016-02-05 45.8245316 0.21406113 6284206.82 1219058.68 \n",
       "         5          5 2016-02-05 46.7718586 0.21244184 5220780.05 1209231.78 \n",
       "         6          6 2016-02-05 47.3687131 0.20035286 4638697.49 1140073.32 \n",
       "         7          7 2016-02-05 47.3550574 0.21313184 5130443.65 1212798.66 \n",
       "         8          8 2016-02-05 47.7473843 0.22222104 4946500.90 1264236.40 \n",
       "         9          9 2016-02-05 47.9030874 0.21392622 6968532.09 1216992.37 \n"
      ]
     },
     "execution_count": 3,
     "metadata": {},
     "output_type": "execute_result"
    }
   ],
   "source": [
    "d = DataFrame.from_csv(input, order: order)\n",
    "d.vectors = Index.new(d.vectors.to_a.map{|v| v.to_sym})\n",
    "d.head"
   ]
  },
  {
   "cell_type": "code",
   "execution_count": 4,
   "metadata": {
    "collapsed": false
   },
   "outputs": [
    {
     "data": {
      "text/plain": [
       "[[:no2, 2.053571428571429], [:h2o, 0.8035714285714286]]"
      ]
     },
     "execution_count": 4,
     "metadata": {},
     "output_type": "execute_result"
    }
   ],
   "source": [
    "coefficients= molar_masses.map do |m| \n",
    "  m[1] = m[1].to_f/molar_volume\n",
    "  m\n",
    "end"
   ]
  },
  {
   "cell_type": "code",
   "execution_count": 5,
   "metadata": {
    "collapsed": false
   },
   "outputs": [
    {
     "data": {
      "text/html": [
       "<table><tr><th colspan=\"7\">Daru::DataFrame:18360780  rows: 10  cols: 6<tr><th></th><th>index</th><th>timestamp</th><th>no2</th><th>no2_err</th><th>h2o</th><th>h2o_err</th></tr><tr><td>0</td><td>0</td><td>2016-02-05T10:50:03+01:00</td><td>21.691311672109638</td><td>0.11424666497441313</td><td>5549990.6503493255</td><td>1663821.3314068762</td></tr><tr><td>1</td><td>1</td><td>2016-02-05T10:50:06+01:00</td><td>21.45944741974013</td><td>0.10536098534784917</td><td>6620686.133837664</td><td>1534810.9999819768</td></tr><tr><td>2</td><td>2</td><td>2016-02-05T10:50:09+01:00</td><td>21.56937330439691</td><td>0.10409667702226579</td><td>7409748.335078269</td><td>1516246.0929638648</td></tr><tr><td>3</td><td>3</td><td>2016-02-05T10:50:11+01:00</td><td>21.815957774923486</td><td>0.10189349836919777</td><td>6385412.705707441</td><td>1483689.9440891608</td></tr><tr><td>4</td><td>4</td><td>2016-02-05T10:50:13+01:00</td><td>22.314554529618494</td><td>0.10423846815461105</td><td>7820346.273248133</td><td>1517050.803881984</td></tr><tr><td>5</td><td>5</td><td>2016-02-05T10:50:16+01:00</td><td>22.775861600718187</td><td>0.10344994141341828</td><td>6496970.735408757</td><td>1504821.777737824</td></tr><tr><td>6</td><td>6</td><td>2016-02-05T10:50:18+01:00</td><td>23.06650379150943</td><td>0.09756313319603784</td><td>5772601.326459981</td><td>1418757.9162644655</td></tr><tr><td>7</td><td>7</td><td>2016-02-05T10:50:20+01:00</td><td>23.05985404645245</td><td>0.10378594343228305</td><td>6384552.099223834</td><td>1509260.5582761155</td></tr><tr><td>8</td><td>8</td><td>2016-02-05T10:50:22+01:00</td><td>23.250900204155872</td><td>0.1082119858785275</td><td>6155645.56951278</td><td>1573271.9680883894</td></tr><tr><td>9</td><td>9</td><td>2016-02-05T10:50:25+01:00</td><td>23.326720868303802</td><td>0.10417276924662866</td><td>8671951.045647083</td><td>1514479.3999064674</td></tr></table>"
      ],
      "text/plain": [
       "\n",
       "#<Daru::DataFrame:18360780 @name = 84a91b36-7560-4702-a17e-f8d2fe1eb543 @size = 10>\n",
       "                index  timestamp        no2    no2_err        h2o    h2o_err \n",
       "         0          0 2016-02-05 21.6913116 0.11424666 5549990.65 1663821.33 \n",
       "         1          1 2016-02-05 21.4594474 0.10536098 6620686.13 1534810.99 \n",
       "         2          2 2016-02-05 21.5693733 0.10409667 7409748.33 1516246.09 \n",
       "         3          3 2016-02-05 21.8159577 0.10189349 6385412.70 1483689.94 \n",
       "         4          4 2016-02-05 22.3145545 0.10423846 7820346.27 1517050.80 \n",
       "         5          5 2016-02-05 22.7758616 0.10344994 6496970.73 1504821.77 \n",
       "         6          6 2016-02-05 23.0665037 0.09756313 5772601.32 1418757.91 \n",
       "         7          7 2016-02-05 23.0598540 0.10378594 6384552.09 1509260.55 \n",
       "         8          8 2016-02-05 23.2509002 0.10821198 6155645.56 1573271.96 \n",
       "         9          9 2016-02-05 23.3267208 0.10417276 8671951.04 1514479.39 \n"
      ]
     },
     "execution_count": 5,
     "metadata": {},
     "output_type": "execute_result"
    }
   ],
   "source": [
    "if from_ppb\n",
    "  coefficients.each do |chem, corr|\n",
    "    d[chem] = d[chem]/corr\n",
    "    err = chem.to_s.concat(\"_err\").to_sym\n",
    "    d[err] = d[err]/corr\n",
    "  end\n",
    "else\n",
    "  coefficients.each do |chem, corr|\n",
    "    d[chem] = d[chem]*corr\n",
    "    err = chem.to_s.concat(\"_err\").to_sym\n",
    "    d[err] = d[err]*corr\n",
    "  end\n",
    "end\n",
    "d.head"
   ]
  },
  {
   "cell_type": "code",
   "execution_count": 6,
   "metadata": {
    "collapsed": true
   },
   "outputs": [],
   "source": [
    "d.write_csv(input)"
   ]
  },
  {
   "cell_type": "code",
   "execution_count": null,
   "metadata": {
    "collapsed": true
   },
   "outputs": [],
   "source": []
  }
 ],
 "metadata": {
  "kernelspec": {
   "display_name": "Ruby 2.2.1",
   "language": "ruby",
   "name": "ruby"
  },
  "language_info": {
   "file_extension": ".rb",
   "mimetype": "application/x-ruby",
   "name": "ruby",
   "version": "2.2.1"
  }
 },
 "nbformat": 4,
 "nbformat_minor": 0
}
